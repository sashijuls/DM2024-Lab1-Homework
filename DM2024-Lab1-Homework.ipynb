{
 "cells": [
  {
   "cell_type": "markdown",
   "metadata": {},
   "source": [
    "### Student Information\n",
    "Name: Julianna Villa-Real\n",
    "\n",
    "Student ID: 111006214\n",
    "\n",
    "GitHub ID: sashijuls\n"
   ]
  },
  {
   "cell_type": "markdown",
   "metadata": {},
   "source": [
    "---"
   ]
  },
  {
   "cell_type": "markdown",
   "metadata": {},
   "source": [
    "### Instructions"
   ]
  },
  {
   "cell_type": "markdown",
   "metadata": {},
   "source": [
    "1. First: do the **take home** exercises in the [DM2024-Lab1-Master](https://github.com/didiersalazar/DM2024-Lab1-Master.git). You may need to copy some cells from the Lab notebook to this notebook. __This part is worth 20% of your grade.__\n",
    "\n",
    "\n",
    "2. Second: follow the same process from the [DM2024-Lab1-Master](https://github.com/didiersalazar/DM2024-Lab1-Master.git) on **the new dataset**. You don't need to explain all details as we did (some **minimal comments** explaining your code are useful though).  __This part is worth 30% of your grade.__\n",
    "    - Download the [the new dataset](https://huggingface.co/datasets/Senem/Nostalgic_Sentiment_Analysis_of_YouTube_Comments_Data). The dataset contains a `sentiment` and `comment` columns, with the sentiment labels being: 'nostalgia' and 'not nostalgia'. Read the specificiations of the dataset for background details. \n",
    "    - You are allowed to use and modify the `helper` functions in the folder of the first lab session (notice they may need modification) or create your own.\n",
    "\n",
    "\n",
    "3. Third: please attempt the following tasks on **the new dataset**. __This part is worth 30% of your grade.__\n",
    "    - Generate meaningful **new data visualizations**. Refer to online resources and the Data Mining textbook for inspiration and ideas. \n",
    "    - Generate **TF-IDF features** from the tokens of each text. This will generating a document matrix, however, the weights will be computed differently (using the TF-IDF value of each word per document as opposed to the word frequency). Refer to this Scikit-learn [guide](http://scikit-learn.org/stable/modules/generated/sklearn.feature_extraction.text.TfidfVectorizer.html) .\n",
    "    - Implement a simple **Naive Bayes classifier** that automatically classifies the records into their categories. Use both the TF-IDF features and word frequency features to build two seperate classifiers. Note that for the TF-IDF features you might need to use other type of NB classifier different than the one in the Master Notebook. Comment on the differences.  Refer to this [article](https://hub.packtpub.com/implementing-3-naive-bayes-classifiers-in-scikit-learn/).\n",
    "\n",
    "\n",
    "4. Fourth: In the lab, we applied each step really quickly just to illustrate how to work with your dataset. There are somethings that are not ideal or the most efficient/meaningful. Each dataset can be handled differently as well. What are those inefficent parts you noticed? How can you improve the Data preprocessing for these specific datasets? __This part is worth 10% of your grade.__\n",
    "\n",
    "\n",
    "5. Fifth: It's hard for us to follow if your code is messy, so please **tidy up your notebook** and **add minimal comments where needed**. __This part is worth 10% of your grade.__\n",
    "\n",
    "\n",
    "You can submit your homework following these guidelines: [Git Intro & How to hand your homework](https://github.com/didiersalazar/DM2024-Lab1-Master/blob/main/Git%20Intro%20%26%20How%20to%20hand%20your%20homework.ipynb). Make sure to commit and save your changes to your repository __BEFORE the deadline (October 27th 11:59 pm, Sunday)__. "
   ]
  },
  {
   "cell_type": "markdown",
   "metadata": {},
   "source": [
    "---"
   ]
  },
  {
   "cell_type": "markdown",
   "metadata": {},
   "source": [
    "### Task 1 "
   ]
  },
  {
   "cell_type": "code",
   "execution_count": null,
   "metadata": {},
   "outputs": [],
   "source": [
    "# Exercise 2\n",
    "grouped_counts = X.groupby('category_name').size().reset_index(name='counts')\n",
    "print(grouped_counts)"
   ]
  },
  {
   "cell_type": "code",
   "execution_count": null,
   "metadata": {},
   "outputs": [],
   "source": [
    "# Exercise 5\n",
    "'''\n",
    "The .isnull() method did not work as expected because it only identifies certain specific values as \"missing.\" By default, .isnull() considers np.nan and None as missing values, but it does not recognize empty strings ('') or non-standard missing value indicators (like custom strings such as 'NaN') as missing.\n",
    "\n",
    "Observations\n",
    "In the DataFrame, the missing_example column contains:\n",
    "\n",
    "np.nan (standard representation for missing data in NumPy),\n",
    "None (Python's native missing value representation),\n",
    "empty strings (''),\n",
    "and possibly custom strings like 'NaN'.\n",
    "When .isnull() is applied, it only flags np.nan and None as missing (True), while empty strings and custom strings like 'NaN' are not flagged as missing (False).\n",
    "\n",
    "Explanation\n",
    ".isnull() did not work for empty strings because Pandas does not treat empty strings ('') as missing values by default. Instead, only values explicitly defined as np.nan or None are considered missing. This is why .isnull() returned False for the rows with empty strings.\n",
    "\n",
    "Solution\n",
    "We can replace empty strings with np.nan before applying .isnull()\n",
    "'''\n",
    "import numpy as np\n",
    "import pandas as pd\n",
    "\n",
    "NA_dict = [\n",
    "    {'id': 'A', 'missing_example': np.nan},\n",
    "    {'id': 'B', 'missing_example': ''},\n",
    "    {'id': 'C', 'missing_example': 'NaN'},\n",
    "    {'id': 'D', 'missing_example': None},\n",
    "    {'id': 'E', 'missing_example': None},\n",
    "    {'id': 'F', 'missing_example': ''}\n",
    "]\n",
    "NA_df = pd.DataFrame(NA_dict, columns=['id', 'missing_example'])\n",
    "\n",
    "# Replace empty strings with np.nan\n",
    "NA_df['missing_example'].replace('', np.nan, inplace=True)\n",
    "\n",
    "# .isnull() will identify missing cases\n",
    "NA_df['missing_example'].isnull()"
   ]
  },
  {
   "cell_type": "markdown",
   "metadata": {},
   "source": [
    "# Exercise 6\n",
    "The sampled DataFrame X_sample differs from original DataFrame X:\n",
    "\n",
    "Size:  The DataFrame X migh contain more than 1,000 records, X_sample is a subset with 1,000 randomly selected records.\n",
    "Random Selection: Rows in X_sample are selected randomly, so they vary with each sample unless a random seed is set.\n",
    "Index: X_sample keeps the original indices from X, which results in non-sequential indices."
   ]
  },
  {
   "cell_type": "code",
   "execution_count": null,
   "metadata": {},
   "outputs": [],
   "source": [
    "# Exercise 8\n",
    "import pandas as pd\n",
    "import matplotlib.pyplot as plt\n",
    "import numpy as np\n",
    "\n",
    "# Sample data \n",
    "data1 = {'category_name': ['soc.religion.christian', 'sci.med', 'comp.graphics', 'alt.atheism'],\n",
    "         'count': [599, 594, 584, 480]}\n",
    "data2 = {'category_name': ['soc.religion.christian', 'sci.med', 'comp.graphics', 'alt.atheism'],\n",
    "         'count': [300, 300, 250, 200]}\n",
    "\n",
    "# dictionaries to DataFrames\n",
    "df1 = pd.DataFrame(data1)\n",
    "df2 = pd.DataFrame(data2)\n",
    "\n",
    "# Set category names \n",
    "categories = ['soc.religion.christian', 'sci.med', 'comp.graphics', 'alt.atheism']\n",
    "df1 = df1.set_index('category_name').reindex(categories).fillna(0)\n",
    "df2 = df2.set_index('category_name').reindex(categories).fillna(0)\n",
    "\n",
    "width = 0.35  # The Width of each bar\n",
    "x = np.arange(len(categories))  # X positions for each category\n",
    "\n",
    "# Plotting\n",
    "fig, ax = plt.subplots(figsize=(10, 6))\n",
    "\n",
    "# Plot bars \n",
    "ax.bar(x - width/2, df1['count'], width, label='category_name', color='blue')\n",
    "ax.bar(x + width/2, df2['count'], width, label='category_name', color='orange')\n",
    "\n",
    "# labels, title, and ticks\n",
    "ax.set_xlabel('Category Name')\n",
    "ax.set_ylabel('Count')\n",
    "ax.set_title('Category Distribution')\n",
    "ax.set_xticks(x)\n",
    "ax.set_xticklabels(categories, rotation=0)\n",
    "ax.legend()\n",
    "\n",
    "# Display plot\n",
    "plt.tight_layout()\n",
    "plt.show()"
   ]
  },
  {
   "cell_type": "code",
   "execution_count": null,
   "metadata": {},
   "outputs": [],
   "source": [
    "# Exercise 10\n",
    "# Get the indices of non-zero elements in fifth document\n",
    "non_zero_indices = X_counts[4].nonzero()[1]\n",
    "\n",
    "# Retrieve second non-zero index\n",
    "second_term_index = non_zero_indices[1]\n",
    "\n",
    "# Use second term index to get corresponding word from vocabulary\n",
    "feature_names = count_vect.get_feature_names_out()\n",
    "second_word = feature_names[second_term_index]\n",
    "second_word"
   ]
  },
  {
   "cell_type": "code",
   "execution_count": null,
   "metadata": {},
   "outputs": [],
   "source": [
    "# Exercise 11\n",
    "import seaborn as sns\n",
    "import matplotlib.pyplot as plt\n",
    "import pandas as pd\n",
    "import numpy as np\n",
    "\n",
    "# Convert sparse matrix to dense format for a sample\n",
    "# Select first 50 documents and 50 terms for visualization\n",
    "sample_X_counts = X_counts[:50, :50].toarray()\n",
    "\n",
    "# Create DataFrame with term names as columns and document names as index\n",
    "terms = count_vect.get_feature_names_out()[:50]\n",
    "doc_labels = [f'doc_{i}' for i in range(1, 51)]\n",
    "df_sample = pd.DataFrame(sample_X_counts, index=doc_labels, columns=terms)\n",
    "\n",
    "# Plot heatmap\n",
    "plt.figure(figsize=(12, 8))\n",
    "sns.heatmap(df_sample, cmap=\"YlGnBu\", cbar=True, annot=False)\n",
    "plt.title(\"Sample Term-Document Matrix Heatmap\")\n",
    "plt.xlabel(\"Terms\")\n",
    "plt.ylabel(\"Documents\")\n",
    "plt.show()"
   ]
  },
  {
   "cell_type": "code",
   "execution_count": null,
   "metadata": {},
   "outputs": [],
   "source": [
    "# Exercise 12\n",
    "import numpy as np\n",
    "import plotly.express as px\n",
    "import pandas as pd\n",
    "\n",
    "# Assuming X_counts is a 2D matrix with term counts (rows: documents, columns: terms)\n",
    "# For example, if using sklearn's CountVectorizer, X_counts can be X.toarray()\n",
    "\n",
    "# Calculate term frequencies (sum of each column)\n",
    "term_frequencies = np.asarray(X_counts.sum(axis=0)).flatten()\n",
    "\n",
    "# Get feature names\n",
    "feature_names = count_vect.get_feature_names_out()  # Assuming `vectorizer` is your CountVectorizer instance\n",
    "\n",
    "# Create a DataFrame for Plotly\n",
    "df = pd.DataFrame({\n",
    "    'Term': feature_names,\n",
    "    'Frequency': term_frequencies\n",
    "})\n",
    "\n",
    "# Sort terms by frequency for better visualization\n",
    "df = df.sort_values(by=\"Frequency\", ascending=False)\n",
    "\n",
    "# Create an interactive bar chart with Plotly\n",
    "fig = px.bar(df, x='Term', y='Frequency', title=\"Interactive Term Frequency Distribution\")\n",
    "fig.update_layout(xaxis_title=\"Terms\", yaxis_title=\"Frequency\", xaxis_tickangle=90)\n",
    "fig.show()"
   ]
  },
  {
   "cell_type": "code",
   "execution_count": null,
   "metadata": {},
   "outputs": [],
   "source": [
    "# Exercise 13\n",
    "import numpy as np\n",
    "import matplotlib.pyplot as plt\n",
    "import seaborn as sns\n",
    "\n",
    "# Assuming X_counts is a 2D matrix with term counts (rows: documents, columns: terms)\n",
    "# For example, if using sklearn's CountVectorizer, X_counts can be X.toarray()\n",
    "\n",
    "# Calculate the term frequencies (sum of each column)\n",
    "term_frequencies = np.asarray(X_counts.sum(axis=0)).flatten()\n",
    "\n",
    "# Set a threshold to filter terms (e.g., top 50 terms)\n",
    "top_n_terms = 50\n",
    "top_term_indices = np.argsort(term_frequencies)[-top_n_terms:]  # Indices of top N terms\n",
    "\n",
    "# Filter X_counts to only include the top terms\n",
    "X_counts_filtered = X_counts[:, top_term_indices]\n",
    "\n",
    "# Get the feature names of the top terms\n",
    "feature_names = np.array(count_vect.get_feature_names_out())  # Assuming `vectorizer` is your CountVectorizer instance\n",
    "top_feature_names = feature_names[top_term_indices]\n",
    "\n",
    "# Plot the frequencies of the top terms\n",
    "plt.figure(figsize=(12, 6))\n",
    "sns.barplot(x=top_feature_names, y=term_frequencies[top_term_indices])\n",
    "plt.xticks(rotation=90)\n",
    "plt.xlabel(\"Terms\")\n",
    "plt.ylabel(\"Frequency\")\n",
    "plt.title(\"Top 50 Term Frequencies\")\n",
    "plt.tight_layout()\n",
    "plt.show()\n"
   ]
  },
  {
   "cell_type": "code",
   "execution_count": null,
   "metadata": {},
   "outputs": [],
   "source": [
    "# Exercise 14\n",
    "import numpy as np\n",
    "import pandas as pd\n",
    "import plotly.express as px\n",
    "\n",
    "# Calculate term frequencies\n",
    "term_frequencies = np.asarray(X_counts.sum(axis=0)).flatten()\n",
    "feature_names = count_vect.get_feature_names_out()\n",
    "\n",
    "# Create a DataFrame and sort by frequency\n",
    "df = pd.DataFrame({\n",
    "    'Term': feature_names,\n",
    "    'Frequency': term_frequencies\n",
    "}).sort_values(by=\"Frequency\", ascending=False)\n",
    "\n",
    "# Plot with Plotly\n",
    "fig = px.line(df, y=\"Frequency\", title=\"Long Tail Distribution of Term Frequencies\")\n",
    "fig.update_traces(line=dict(color=\"orange\"))\n",
    "fig.update_layout(\n",
    "    xaxis_title=\"Terms (sorted by frequency)\",\n",
    "    yaxis_title=\"Frequency\",\n",
    "    showlegend=False\n",
    ")\n",
    "fig.update_xaxes(showticklabels=False)  # Hide x-axis labels to reduce clutter\n",
    "fig.show()"
   ]
  },
  {
   "cell_type": "code",
   "execution_count": null,
   "metadata": {},
   "outputs": [],
   "source": [
    "# Exercise 15\n",
    "# Answer here\n",
    "import math\n",
    "import plotly.express as px\n",
    "import pandas as pd\n",
    "\n",
    "# Log transform the term frequencies to make them more readable\n",
    "term_frequencies_log = [math.log(i) if i > 0 else 0 for i in term_frequencies]\n",
    "\n",
    "# Create a DataFrame and sort by frequency (if not already sorted)\n",
    "df_log = pd.DataFrame({\n",
    "    'Term': feature_names,\n",
    "    'Log_Frequency': term_frequencies_log\n",
    "}).sort_values(by=\"Log_Frequency\", ascending=False)\n",
    "\n",
    "# Plot using Plotly\n",
    "fig = px.bar(df_log.head(300), x=\"Term\", y=\"Log_Frequency\", title=\"Log Distribution of Term Frequencies (Top 300 Terms)\")\n",
    "fig.update_layout(\n",
    "    xaxis_title=\"Terms (sorted by log frequency)\",\n",
    "    yaxis_title=\"Log Frequency\",\n",
    "    showlegend=False\n",
    ")\n",
    "fig.show()"
   ]
  },
  {
   "cell_type": "markdown",
   "metadata": {},
   "source": [
    "**Exercise 16**\n",
    "The filtered vocabulary in each category highlights unique/shared patterns in language use. Common words like *\"the,\" \"to,\" \"of,\"* and *\"and\"* show up consistently in the top 5% across all categories. Beyond these shared terms, each category’s most frequent words align with its distinct themes. In *comp.graphics,* words like *\"distributed\"* and *\"multi\"* suggest the discussions centered around tech. In *soc.religion.christian* has words such as *\"pagan\"* and *\"claims,\"* indicating theological/religious debates or belief, while *sci.med* includes *\"toxic\"* and *\"genetic,\"* lean towards scientific and medical topics. In *alt.atheism,* high-frequency words like *\"court\"* and *\"lot\"* imply a focus on legal discussions or personal opinions surrounding atheism/religion.\n",
    "\n",
    "The least frequent words in the bottom 1% provide insight into each category’s niche vocabulary. For example, *comp.graphics* includes rare terms like *\"initworld\"* and *\"l4v,\"* which likely refer to specific functions or software elements, while *soc.religion.christian* features words such as *\"remarriage\"* and *\"pagan,\"* leaning more specialized theological or social topics. *sci.med* has words like *\"íålittin\"* and *\"infallible,\"* which is rare but relevant in scientific discussuions, and *alt.atheism* includes terms like *\"zyklon\"* and *\"disqualified,\"* may point to historical debates/controversial discussions. Words in the bottom 1% tend to be more highly specific, highlighting sub-topics within each category."
   ]
  },
  {
   "cell_type": "code",
   "execution_count": null,
   "metadata": {},
   "outputs": [],
   "source": [
    "# Exercise 17\n",
    "import time\n",
    "import pandas as pd\n",
    "from FAE_Top_K import FAETopK  # Placeholder for the actual FAE Top-K algorithm\n",
    "from Max_FPGrowth import MaxFPgrowth  # Placeholder for the actual MaxFPgrowth algorithm\n",
    "\n",
    "# Load the \"comp.graphics\" dataset\n",
    "data_file = 'fre_rec_db_comp_graphics.csv'\n",
    "df = pd.read_csv(data_file)\n",
    "\n",
    "# Define k values and support thresholds\n",
    "k_values = [500, 1000, 1500]\n",
    "support_thresholds = [3, 6, 9]\n",
    "\n",
    "# Store results\n",
    "results = []\n",
    "\n",
    "# Running FAE Top-k algorithm with different k values\n",
    "for k in k_values:\n",
    "    fae_topk = FAETopK(k=k)  # Initialize with current k\n",
    "    start_time = time.time()\n",
    "    fae_topk.run(df)  # Run the algorithm on the dataset\n",
    "    runtime = time.time() - start_time\n",
    "    results.append({\n",
    "        'Algorithm': 'FAE Top-K',\n",
    "        'k': k,\n",
    "        'Support Threshold': None,\n",
    "        'Runtime (s)': runtime\n",
    "    })\n",
    "    print(f\"FAE Top-K | k={k} | Runtime: {runtime:.4f} seconds\")\n",
    "\n",
    "# Running MaxFPgrowth algorithm with different support thresholds\n",
    "for support in support_thresholds:\n",
    "    maxfpgrowth = MaxFPgrowth(support=support)  # Initialize with current support threshold\n",
    "    start_time = time.time()\n",
    "    maxfpgrowth.run(df)  # Run the algorithm on the dataset\n",
    "    runtime = time.time() - start_time\n",
    "    results.append({\n",
    "        'Algorithm': 'MaxFPgrowth',\n",
    "        'k': None,\n",
    "        'Support Threshold': support,\n",
    "        'Runtime (s)': runtime\n",
    "    })\n",
    "    print(f\"MaxFPgrowth | Support={support} | Runtime: {runtime:.4f} seconds\")\n",
    "\n",
    "# Display results\n",
    "results_df = pd.DataFrame(results)\n",
    "print(results_df)\n"
   ]
  },
  {
   "cell_type": "code",
   "execution_count": null,
   "metadata": {},
   "outputs": [],
   "source": [
    "# Exercise 18\n",
    "import matplotlib.pyplot as plt\n",
    "from mpl_toolkits.mplot3d import Axes3D\n",
    "\n",
    "fig = plt.figure(figsize=(15, 5))\n",
    "\n",
    "# First angle\n",
    "ax1 = fig.add_subplot(131, projection='3d')\n",
    "ax1.scatter(X_pca_3d[:, 0], X_pca_3d[:, 1], X_pca_3d[:, 2], c=X['category_name'], cmap='viridis', marker='o')\n",
    "ax1.view_init(30, 30)  # Adjust view angle\n",
    "ax1.set_title(\"Angle 1\")\n",
    "\n",
    "# Second angle\n",
    "ax2 = fig.add_subplot(132, projection='3d')\n",
    "ax2.scatter(X_pca_3d[:, 0], X_pca_3d[:, 1], X_pca_3d[:, 2], c=X['category_name'], cmap='viridis', marker='o')\n",
    "ax2.view_init(30, 120)  # Different angle\n",
    "ax2.set_title(\"Angle 2\")\n",
    "\n",
    "# Third angle\n",
    "ax3 = fig.add_subplot(133, projection='3d')\n",
    "ax3.scatter(X_pca_3d[:, 0], X_pca_3d[:, 1], X_pca_3d[:, 2], c=X['category_name'], cmap='viridis', marker='o')\n",
    "ax3.view_init(30, 210)  # Another different angle\n",
    "ax3.set_title(\"Angle 3\")\n",
    "\n",
    "plt.show()"
   ]
  },
  {
   "cell_type": "code",
   "execution_count": null,
   "metadata": {},
   "outputs": [],
   "source": [
    "# Exercise 19\n",
    "\n",
    "# I ran each line of code in their own separate cells \n",
    "\n",
    "mlb = preprocessing.LabelBinarizer()\n",
    "X['bin_category_name'] = mlb.fit_transform(X['category_name']).tolist()\n",
    "X['bin_category_name'].head()"
   ]
  },
  {
   "cell_type": "markdown",
   "metadata": {},
   "source": [
    "---"
   ]
  },
  {
   "cell_type": "markdown",
   "metadata": {},
   "source": [
    "### Task 2 and 3"
   ]
  },
  {
   "cell_type": "code",
   "execution_count": 1,
   "metadata": {},
   "outputs": [
    {
     "name": "stdout",
     "output_type": "stream",
     "text": [
      "Requirement already satisfied: huggingface_hub in /opt/anaconda3/lib/python3.11/site-packages (0.26.1)\n",
      "Requirement already satisfied: filelock in /opt/anaconda3/lib/python3.11/site-packages (from huggingface_hub) (3.13.1)\n",
      "Requirement already satisfied: fsspec>=2023.5.0 in /opt/anaconda3/lib/python3.11/site-packages (from huggingface_hub) (2023.10.0)\n",
      "Requirement already satisfied: packaging>=20.9 in /opt/anaconda3/lib/python3.11/site-packages (from huggingface_hub) (23.1)\n",
      "Requirement already satisfied: pyyaml>=5.1 in /opt/anaconda3/lib/python3.11/site-packages (from huggingface_hub) (6.0.1)\n",
      "Requirement already satisfied: requests in /opt/anaconda3/lib/python3.11/site-packages (from huggingface_hub) (2.32.3)\n",
      "Requirement already satisfied: tqdm>=4.42.1 in /opt/anaconda3/lib/python3.11/site-packages (from huggingface_hub) (4.66.5)\n",
      "Requirement already satisfied: typing-extensions>=3.7.4.3 in /opt/anaconda3/lib/python3.11/site-packages (from huggingface_hub) (4.9.0)\n",
      "Requirement already satisfied: charset-normalizer<4,>=2 in /opt/anaconda3/lib/python3.11/site-packages (from requests->huggingface_hub) (2.0.4)\n",
      "Requirement already satisfied: idna<4,>=2.5 in /opt/anaconda3/lib/python3.11/site-packages (from requests->huggingface_hub) (3.4)\n",
      "Requirement already satisfied: urllib3<3,>=1.21.1 in /opt/anaconda3/lib/python3.11/site-packages (from requests->huggingface_hub) (2.0.7)\n",
      "Requirement already satisfied: certifi>=2017.4.17 in /opt/anaconda3/lib/python3.11/site-packages (from requests->huggingface_hub) (2024.2.2)\n",
      "Note: you may need to restart the kernel to use updated packages.\n"
     ]
    }
   ],
   "source": [
    "pip install --upgrade huggingface_hub"
   ]
  },
  {
   "cell_type": "code",
   "execution_count": 2,
   "metadata": {},
   "outputs": [],
   "source": [
    "import pandas as pd\n",
    "\n",
    "df = pd.read_csv(\"hf://datasets/Senem/Nostalgic_Sentiment_Analysis_of_YouTube_Comments_Data/Nostalgic_Sentiment_Analysis_of_YouTube_Comments_Data.csv\")"
   ]
  },
  {
   "cell_type": "code",
   "execution_count": 3,
   "metadata": {},
   "outputs": [
    {
     "name": "stdout",
     "output_type": "stream",
     "text": [
      "Requirement already satisfied: datasets in /opt/anaconda3/lib/python3.11/site-packages (3.0.2)\n",
      "Requirement already satisfied: filelock in /opt/anaconda3/lib/python3.11/site-packages (from datasets) (3.13.1)\n",
      "Requirement already satisfied: numpy>=1.17 in /opt/anaconda3/lib/python3.11/site-packages (from datasets) (1.26.4)\n",
      "Requirement already satisfied: pyarrow>=15.0.0 in /opt/anaconda3/lib/python3.11/site-packages (from datasets) (17.0.0)\n",
      "Requirement already satisfied: dill<0.3.9,>=0.3.0 in /opt/anaconda3/lib/python3.11/site-packages (from datasets) (0.3.8)\n",
      "Requirement already satisfied: pandas in /opt/anaconda3/lib/python3.11/site-packages (from datasets) (2.1.4)\n",
      "Requirement already satisfied: requests>=2.32.2 in /opt/anaconda3/lib/python3.11/site-packages (from datasets) (2.32.3)\n",
      "Requirement already satisfied: tqdm>=4.66.3 in /opt/anaconda3/lib/python3.11/site-packages (from datasets) (4.66.5)\n",
      "Requirement already satisfied: xxhash in /opt/anaconda3/lib/python3.11/site-packages (from datasets) (3.5.0)\n",
      "Requirement already satisfied: multiprocess<0.70.17 in /opt/anaconda3/lib/python3.11/site-packages (from datasets) (0.70.16)\n",
      "Requirement already satisfied: fsspec<=2024.9.0,>=2023.1.0 in /opt/anaconda3/lib/python3.11/site-packages (from fsspec[http]<=2024.9.0,>=2023.1.0->datasets) (2023.10.0)\n",
      "Requirement already satisfied: aiohttp in /opt/anaconda3/lib/python3.11/site-packages (from datasets) (3.9.3)\n",
      "Requirement already satisfied: huggingface-hub>=0.23.0 in /opt/anaconda3/lib/python3.11/site-packages (from datasets) (0.26.1)\n",
      "Requirement already satisfied: packaging in /opt/anaconda3/lib/python3.11/site-packages (from datasets) (23.1)\n",
      "Requirement already satisfied: pyyaml>=5.1 in /opt/anaconda3/lib/python3.11/site-packages (from datasets) (6.0.1)\n",
      "Requirement already satisfied: aiosignal>=1.1.2 in /opt/anaconda3/lib/python3.11/site-packages (from aiohttp->datasets) (1.2.0)\n",
      "Requirement already satisfied: attrs>=17.3.0 in /opt/anaconda3/lib/python3.11/site-packages (from aiohttp->datasets) (23.1.0)\n",
      "Requirement already satisfied: frozenlist>=1.1.1 in /opt/anaconda3/lib/python3.11/site-packages (from aiohttp->datasets) (1.4.0)\n",
      "Requirement already satisfied: multidict<7.0,>=4.5 in /opt/anaconda3/lib/python3.11/site-packages (from aiohttp->datasets) (6.0.4)\n",
      "Requirement already satisfied: yarl<2.0,>=1.0 in /opt/anaconda3/lib/python3.11/site-packages (from aiohttp->datasets) (1.9.3)\n",
      "Requirement already satisfied: typing-extensions>=3.7.4.3 in /opt/anaconda3/lib/python3.11/site-packages (from huggingface-hub>=0.23.0->datasets) (4.9.0)\n",
      "Requirement already satisfied: charset-normalizer<4,>=2 in /opt/anaconda3/lib/python3.11/site-packages (from requests>=2.32.2->datasets) (2.0.4)\n",
      "Requirement already satisfied: idna<4,>=2.5 in /opt/anaconda3/lib/python3.11/site-packages (from requests>=2.32.2->datasets) (3.4)\n",
      "Requirement already satisfied: urllib3<3,>=1.21.1 in /opt/anaconda3/lib/python3.11/site-packages (from requests>=2.32.2->datasets) (2.0.7)\n",
      "Requirement already satisfied: certifi>=2017.4.17 in /opt/anaconda3/lib/python3.11/site-packages (from requests>=2.32.2->datasets) (2024.2.2)\n",
      "Requirement already satisfied: python-dateutil>=2.8.2 in /opt/anaconda3/lib/python3.11/site-packages (from pandas->datasets) (2.8.2)\n",
      "Requirement already satisfied: pytz>=2020.1 in /opt/anaconda3/lib/python3.11/site-packages (from pandas->datasets) (2023.3.post1)\n",
      "Requirement already satisfied: tzdata>=2022.1 in /opt/anaconda3/lib/python3.11/site-packages (from pandas->datasets) (2023.3)\n",
      "Requirement already satisfied: six>=1.5 in /opt/anaconda3/lib/python3.11/site-packages (from python-dateutil>=2.8.2->pandas->datasets) (1.16.0)\n"
     ]
    }
   ],
   "source": [
    "!pip install datasets"
   ]
  },
  {
   "cell_type": "code",
   "execution_count": 5,
   "metadata": {},
   "outputs": [],
   "source": [
    "from datasets import load_dataset\n",
    "\n",
    "dataset = load_dataset(\"Senem/Nostalgic_Sentiment_Analysis_of_YouTube_Comments_Data\")\n",
    "df = dataset['train'].to_pandas()  # Convert to a DataFrame"
   ]
  },
  {
   "cell_type": "code",
   "execution_count": 6,
   "metadata": {},
   "outputs": [
    {
     "name": "stdout",
     "output_type": "stream",
     "text": [
      "<class 'pandas.core.frame.DataFrame'>\n",
      "RangeIndex: 1500 entries, 0 to 1499\n",
      "Data columns (total 2 columns):\n",
      " #   Column     Non-Null Count  Dtype \n",
      "---  ------     --------------  ----- \n",
      " 0   sentiment  1500 non-null   object\n",
      " 1   comment    1500 non-null   object\n",
      "dtypes: object(2)\n",
      "memory usage: 23.6+ KB\n",
      "None\n",
      "       sentiment                                            comment\n",
      "0  not nostalgia  He was a singer with a golden voice that I lov...\n",
      "1      nostalgia  The mist beautiful voice ever I listened to hi...\n",
      "2      nostalgia  I have most of Mr. Reeves songs.  Always love ...\n",
      "3  not nostalgia  30 day leave from 1st tour in Viet Nam to conv...\n",
      "4      nostalgia  listening to his songs reminds me of my mum wh...\n"
     ]
    }
   ],
   "source": [
    "# Display basic information about the dataset\n",
    "print(df.info())\n",
    "print(df.head())"
   ]
  },
  {
   "cell_type": "code",
   "execution_count": 7,
   "metadata": {},
   "outputs": [
    {
     "data": {
      "image/png": "[encoded data removed]",
      "text/plain": [
       "<Figure size 600x400 with 1 Axes>"
      ]
     },
     "metadata": {},
     "output_type": "display_data"
    }
   ],
   "source": [
    "#In this cell we plot distribution of the two sentiment labels (nostalgia and not nostalgia)\n",
    "\n",
    "\n",
    "import seaborn as sns\n",
    "import matplotlib.pyplot as plt\n",
    "\n",
    "# Plot the distribution of sentiment labels\n",
    "plt.figure(figsize=(6, 4))\n",
    "sns.countplot(x='sentiment', data=df)\n",
    "plt.xlabel(\"Sentiment\")\n",
    "plt.ylabel(\"Count\")\n",
    "plt.title(\"Distribution of Sentiment Labels\")\n",
    "plt.show()\n"
   ]
  },
  {
   "cell_type": "code",
   "execution_count": 8,
   "metadata": {},
   "outputs": [],
   "source": [
    "# In this cell we do Preprocessing and Tokenization\n",
    "\n",
    "import re\n",
    "from sklearn.feature_extraction.text import ENGLISH_STOP_WORDS\n",
    "\n",
    "# Define a simple text preprocessing function\n",
    "def preprocess_text(text):\n",
    "    text = text.lower()  # Convert to lowercase\n",
    "    text = re.sub(r'[^\\w\\s]', '', text)  # Remove punctuation\n",
    "    text = ' '.join([word for word in text.split() if word not in ENGLISH_STOP_WORDS])  # Remove stopwords\n",
    "    return text\n",
    "\n",
    "# Apply preprocessing to the 'comment' column\n",
    "df['cleaned_comment'] = df['comment'].apply(preprocess_text)\n"
   ]
  },
  {
   "cell_type": "markdown",
   "metadata": {},
   "source": [
    "### TF - IDF feature extraction"
   ]
  },
  {
   "cell_type": "code",
   "execution_count": 9,
   "metadata": {},
   "outputs": [
    {
     "name": "stdout",
     "output_type": "stream",
     "text": [
      "TF-IDF matrix shape: (1500, 1000)\n"
     ]
    }
   ],
   "source": [
    "# in this code we generate TDF-IDF Features\n",
    "\n",
    "from sklearn.feature_extraction.text import TfidfVectorizer\n",
    "\n",
    "# Initialize TfidfVectorizer\n",
    "tfidf_vect = TfidfVectorizer(max_features=1000)  # You can adjust max_features as needed\n",
    "X_tfidf = tfidf_vect.fit_transform(df['cleaned_comment'])\n",
    "\n",
    "# Check the shape of the TF-IDF feature matrix\n",
    "print(\"TF-IDF matrix shape:\", X_tfidf.shape)\n"
   ]
  },
  {
   "cell_type": "code",
   "execution_count": 17,
   "metadata": {},
   "outputs": [
    {
     "data": {
      "image/png": "[encoded data removed]",
      "text/plain": [
       "<Figure size 1200x600 with 1 Axes>"
      ]
     },
     "metadata": {},
     "output_type": "display_data"
    }
   ],
   "source": [
    "# in this cell we visualize top terms\n",
    "\n",
    "import numpy as np\n",
    "\n",
    "# Sum the TF-IDF scores for each term\n",
    "term_frequencies = np.asarray(X_tfidf.sum(axis=0)).flatten()\n",
    "top_term_indices = term_frequencies.argsort()[-50:][::-1]  # Top 50 terms\n",
    "\n",
    "# Get feature names for the top terms\n",
    "top_feature_names = np.array(tfidf_vect.get_feature_names_out())[top_term_indices]\n",
    "\n",
    "# Plot the top 50 terms\n",
    "plt.figure(figsize=(12, 6))\n",
    "sns.barplot(x=top_feature_names, y=term_frequencies[top_term_indices])\n",
    "plt.xticks(rotation=90)\n",
    "plt.xlabel(\"Terms\")\n",
    "plt.ylabel(\"TF-IDF Score\")\n",
    "plt.title(\"Top 50 Terms by TF-IDF Score\")\n",
    "plt.tight_layout()\n",
    "plt.show()\n"
   ]
  },
  {
   "cell_type": "markdown",
   "metadata": {},
   "source": [
    "### Next we do the Naive Beyes Classifictaion"
   ]
  },
  {
   "cell_type": "code",
   "execution_count": 11,
   "metadata": {},
   "outputs": [],
   "source": [
    "from sklearn.model_selection import train_test_split\n",
    "\n",
    "# Encode sentiment labels\n",
    "df['sentiment_label'] = df['sentiment'].apply(lambda x: 1 if x == 'nostalgia' else 0)\n",
    "\n",
    "# Split the data into training and testing sets\n",
    "X_train, X_test, y_train, y_test = train_test_split(X_tfidf, df['sentiment_label'], test_size=0.3, random_state=42)\n"
   ]
  },
  {
   "cell_type": "code",
   "execution_count": 20,
   "metadata": {},
   "outputs": [
    {
     "name": "stdout",
     "output_type": "stream",
     "text": [
      "Accuracy: 0.8377777777777777\n",
      "               precision    recall  f1-score   support\n",
      "\n",
      "not nostalgia       0.90      0.76      0.82       225\n",
      "    nostalgia       0.79      0.91      0.85       225\n",
      "\n",
      "     accuracy                           0.84       450\n",
      "    macro avg       0.85      0.84      0.84       450\n",
      " weighted avg       0.85      0.84      0.84       450\n",
      "\n"
     ]
    }
   ],
   "source": [
    "from sklearn.naive_bayes import MultinomialNB\n",
    "from sklearn.metrics import accuracy_score, classification_report\n",
    "\n",
    "# Initialize and train the Naive Bayes classifier\n",
    "nb_classifier = MultinomialNB()\n",
    "nb_classifier.fit(X_train, y_train)\n",
    "\n",
    "# Predict on the test set\n",
    "y_pred = nb_classifier.predict(X_test)\n",
    "\n",
    "# Evaluate the classifier\n",
    "print(\"Accuracy:\", accuracy_score(y_test, y_pred))\n",
    "print(classification_report(y_test, y_pred, target_names=['not nostalgia', 'nostalgia']))\n"
   ]
  },
  {
   "cell_type": "markdown",
   "metadata": {},
   "source": [
    "### In the next 3 cells we will improve the preformace"
   ]
  },
  {
   "cell_type": "code",
   "execution_count": 13,
   "metadata": {},
   "outputs": [
    {
     "name": "stdout",
     "output_type": "stream",
     "text": [
      "Logistic Regression Accuracy: 0.8844444444444445\n",
      "               precision    recall  f1-score   support\n",
      "\n",
      "not nostalgia       0.86      0.92      0.89       225\n",
      "    nostalgia       0.91      0.85      0.88       225\n",
      "\n",
      "     accuracy                           0.88       450\n",
      "    macro avg       0.89      0.88      0.88       450\n",
      " weighted avg       0.89      0.88      0.88       450\n",
      "\n"
     ]
    }
   ],
   "source": [
    "from sklearn.linear_model import LogisticRegression\n",
    "\n",
    "# Initialize and train the Logistic Regression classifier\n",
    "lr_classifier = LogisticRegression()\n",
    "lr_classifier.fit(X_train, y_train)\n",
    "\n",
    "# Predict on the test set and evaluate\n",
    "y_pred_lr = lr_classifier.predict(X_test)\n",
    "print(\"Logistic Regression Accuracy:\", accuracy_score(y_test, y_pred_lr))\n",
    "print(classification_report(y_test, y_pred_lr, target_names=['not nostalgia', 'nostalgia']))\n"
   ]
  },
  {
   "cell_type": "code",
   "execution_count": 14,
   "metadata": {},
   "outputs": [
    {
     "name": "stdout",
     "output_type": "stream",
     "text": [
      "Best parameters found: {'alpha': 0.5}\n",
      "Best cross-validation accuracy: 0.8523809523809524\n"
     ]
    }
   ],
   "source": [
    "from sklearn.model_selection import GridSearchCV\n",
    "\n",
    "# Set up parameter grid for MultinomialNB\n",
    "param_grid = {'alpha': [0.1, 0.5, 1.0, 1.5, 2.0]}\n",
    "grid_search = GridSearchCV(MultinomialNB(), param_grid, cv=5)\n",
    "grid_search.fit(X_train, y_train)\n",
    "\n",
    "# Get the best parameters and accuracy\n",
    "print(\"Best parameters found:\", grid_search.best_params_)\n",
    "print(\"Best cross-validation accuracy:\", grid_search.best_score_)\n"
   ]
  },
  {
   "cell_type": "code",
   "execution_count": 18,
   "metadata": {},
   "outputs": [],
   "source": [
    "tfidf_vect = TfidfVectorizer(max_features=1000, ngram_range=(1, 2))  # Using unigrams and bigrams\n",
    "X_tfidf = tfidf_vect.fit_transform(df['cleaned_comment'])\n"
   ]
  },
  {
   "cell_type": "markdown",
   "metadata": {},
   "source": [
    "### Model Interpretation"
   ]
  },
  {
   "cell_type": "code",
   "execution_count": 19,
   "metadata": {},
   "outputs": [
    {
     "name": "stdout",
     "output_type": "stream",
     "text": [
      "Top nostalgic words: ['memorable' 'reminds childhood' 'yes' 'right' 'broken' 'club' 'message'\n",
      " 'shame' 'dear' 'nearly']\n",
      "Top non-nostalgic words: ['time hear' 'little girl' 'vocals' 'voice' 'nostalgia' 'movie' 'tune'\n",
      " 'record' 'music like' 'walker']\n"
     ]
    }
   ],
   "source": [
    "# Get feature weights for Logistic Regression\n",
    "feature_weights = lr_classifier.coef_.flatten()\n",
    "top_positive_indices = feature_weights.argsort()[-10:][::-1]  # Top 10 positive words\n",
    "top_negative_indices = feature_weights.argsort()[:10]  # Top 10 negative words\n",
    "\n",
    "top_positive_words = np.array(tfidf_vect.get_feature_names_out())[top_positive_indices]\n",
    "top_negative_words = np.array(tfidf_vect.get_feature_names_out())[top_negative_indices]\n",
    "\n",
    "print(\"Top nostalgic words:\", top_positive_words)\n",
    "print(\"Top non-nostalgic words:\", top_negative_words)\n"
   ]
  },
  {
   "cell_type": "markdown",
   "metadata": {},
   "source": [
    "### Findings/Observation\n",
    "***Model Performance:***\n",
    "\n",
    "The Logistic Regression model ended up performing best, with an accuracy of about 88.4%. It did especially well in identifying nostalgic content (precision of 0.91 and recall of 0.85), so it seems like it’s good at recognizing nostalgic themes. Overall, the precision, recall, and F1-score averages around 0.88–0.89 across both classes, which is pretty solid.\n",
    "\n",
    "***Parameter Tuning:***\n",
    "\n",
    "I tried tuning the alpha parameter for the Multinomial Naive Bayes model using a grid search. The best alpha value was 0.5, and the model’s cross-validation accuracy was around 85.2%. So, while tuning helped improve Naive Bayes, it still wasn’t as accurate as Logistic Regression.\n",
    "\n",
    "***Key Words:***\n",
    "\n",
    "Looking at the most important words in each class:\n",
    "Nostalgic Words: Words like \"memorable,\" \"reminds childhood,\" \"yes,\" \"right,\" and \"broken\" came up a lot. These make sense as nostalgic words since they’re kind of emotional and memory-driven.\n",
    "Non-Nostalgic Words: Words like \"time hear,\" \"little girl,\" \"vocals,\" \"voice,\" and \"movie\" were more common for non-nostalgic content. These seem more descriptive or neutral.\n",
    "\n",
    "***Feature/Tuning:***\n",
    "\n",
    "Using TF-IDF with unigrams and bigrams seemed to help capture key phrases (like \"reminds childhood\") that add to the nostalgia vibe. Also, tuning the alpha parameter in Naive Bayes gave it a bit of a boost, but it didn’t beat Logistic Regression in the end.\n",
    "Overall, the Logistic Regression with TF-IDF features was the best setup. The nostalgic words lined up well with what we’d expect, focusing on memories and emotions, while non-nostalgic words were more neutral.\n"
   ]
  },
  {
   "cell_type": "markdown",
   "metadata": {},
   "source": [
    "---"
   ]
  },
  {
   "cell_type": "markdown",
   "metadata": {},
   "source": [
    "### Task 4\n",
    "\n",
    "Data Transformation for Tabular Format: The lab use transforming data dictionaries into a Pandas DataFrame for structured data processing. This step could be improved by directly applying methods that suit the data’s characteristics, particularly for categorical and text-heavy datasets. For example, implementing label encoding for categorical variables and filtering common or irrelevant words before the tabular transformation would reduce data size and complexity, allowing for faster and more efficient analyses. This approach aligns the dataset with formats better suited to machine learning tasks without excessive transformations later.\n",
    "\n",
    "Text Tokenization and Feature Extraction: The current tokenization approach uses a basic tokenizer that introduces noise by including irrelevant tokens, such as emails, punctuation, and stop words. An improved approach would be to use a custom tokenizer to remove such unnecessary elements and focus only on informative tokens. Tools like spaCy or advanced settings in nltk can assist with this, providing capabilities to tokenize, lemmatize, and exclude stop words. Such pre-processing would result in cleaner text data, leading to higher-quality feature extraction and better model training results in subsequent stages.\n",
    "\n",
    "High Dimensionality in Term-Document Matrix: The term-document matrix created with CountVectorizer contains a very high number of dimensions due to the inclusion of all tokens as individual features. This makes computations on the matrix computationally intensive and may include many irrelevant or low-importance terms. Dimensionality reduction techniques like TF-IDF or Latent Semantic Analysis (LSA) could be applied here to prioritize more meaningful words and reduce noise. Another improvement is to set a minimum frequency threshold to remove less common terms, which will not only make the matrix more manageable but also focus on more informative features.\n",
    "\n",
    "Handling Missing Values: In the lab, rows with missing values are simply dropped, which can lead to data loss and potentially alter the dataset’s representation. A more efficient approach would involve filling missing values using appropriate imputation methods, such as replacing missing numerical values with the mean or median and filling categorical missing values with the mode. This would retain a larger portion of the dataset and ensure that analyses and models have sufficient information without sacrificing data quality.\n",
    "\n",
    "Sampling for Data Subsetting: The lab’s random sampling approach is effective for reducing dataset size but may inadvertently skew the representation of categories, especially when dealing with imbalanced data. Stratified sampling, which ensures that each category is proportionally represented, could offer a more balanced and accurate subset for analysis. By maintaining a representative distribution across the sample, stratified sampling enhances the validity of insights drawn from the subset, making it better suited for generalization and classification tasks.\n",
    "\n",
    "Visualization of High-Dimensional Data: Visualizing large datasets and term distributions can be computationally expensive and difficult to interpret in high-dimensional space. Dimensionality reduction techniques, such as PCA or t-SNE, could be applied to the term-document matrix to reduce complexity while retaining key patterns. Additionally, instead of visualizing individual terms, aggregating them into category-level term distributions could simplify the analysis, helping to reveal insights without overwhelming the visualization with noise. This approach makes visual interpretations clearer and more meaningful, facilitating a deeper understanding of category relationships within the data."
   ]
  },
  {
   "cell_type": "code",
   "execution_count": null,
   "metadata": {},
   "outputs": [],
   "source": []
  }
 ],
 "metadata": {
  "kernelspec": {
   "display_name": "Python 3 (ipykernel)",
   "language": "python",
   "name": "python3"
  },
  "language_info": {
   "codemirror_mode": {
    "name": "ipython",
    "version": 3
   },
   "file_extension": ".py",
   "mimetype": "text/x-python",
   "name": "python",
   "nbconvert_exporter": "python",
   "pygments_lexer": "ipython3",
   "version": "3.11.7"
  }
 },
 "nbformat": 4,
 "nbformat_minor": 4
}
