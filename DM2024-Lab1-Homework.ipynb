{
 "cells": [
  {
   "cell_type": "markdown",
   "metadata": {},
   "source": [
    "### Student Information\n",
    "Name: Julianna Villa-Real\n",
    "\n",
    "Student ID: 111006214\n",
    "\n",
    "GitHub ID: sashijuls\n"
   ]
  },
  {
   "cell_type": "markdown",
   "metadata": {},
   "source": [
    "---"
   ]
  },
  {
   "cell_type": "markdown",
   "metadata": {},
   "source": [
    "### Instructions"
   ]
  },
  {
   "cell_type": "markdown",
   "metadata": {},
   "source": [
    "1. First: do the **take home** exercises in the [DM2024-Lab1-Master](https://github.com/didiersalazar/DM2024-Lab1-Master.git). You may need to copy some cells from the Lab notebook to this notebook. __This part is worth 20% of your grade.__\n",
    "\n",
    "\n",
    "2. Second: follow the same process from the [DM2024-Lab1-Master](https://github.com/didiersalazar/DM2024-Lab1-Master.git) on **the new dataset**. You don't need to explain all details as we did (some **minimal comments** explaining your code are useful though).  __This part is worth 30% of your grade.__\n",
    "    - Download the [the new dataset](https://huggingface.co/datasets/Senem/Nostalgic_Sentiment_Analysis_of_YouTube_Comments_Data). The dataset contains a `sentiment` and `comment` columns, with the sentiment labels being: 'nostalgia' and 'not nostalgia'. Read the specificiations of the dataset for background details. \n",
    "    - You are allowed to use and modify the `helper` functions in the folder of the first lab session (notice they may need modification) or create your own.\n",
    "\n",
    "\n",
    "3. Third: please attempt the following tasks on **the new dataset**. __This part is worth 30% of your grade.__\n",
    "    - Generate meaningful **new data visualizations**. Refer to online resources and the Data Mining textbook for inspiration and ideas. \n",
    "    - Generate **TF-IDF features** from the tokens of each text. This will generating a document matrix, however, the weights will be computed differently (using the TF-IDF value of each word per document as opposed to the word frequency). Refer to this Scikit-learn [guide](http://scikit-learn.org/stable/modules/generated/sklearn.feature_extraction.text.TfidfVectorizer.html) .\n",
    "    - Implement a simple **Naive Bayes classifier** that automatically classifies the records into their categories. Use both the TF-IDF features and word frequency features to build two seperate classifiers. Note that for the TF-IDF features you might need to use other type of NB classifier different than the one in the Master Notebook. Comment on the differences.  Refer to this [article](https://hub.packtpub.com/implementing-3-naive-bayes-classifiers-in-scikit-learn/).\n",
    "\n",
    "\n",
    "4. Fourth: In the lab, we applied each step really quickly just to illustrate how to work with your dataset. There are somethings that are not ideal or the most efficient/meaningful. Each dataset can be handled differently as well. What are those inefficent parts you noticed? How can you improve the Data preprocessing for these specific datasets? __This part is worth 10% of your grade.__\n",
    "\n",
    "\n",
    "5. Fifth: It's hard for us to follow if your code is messy, so please **tidy up your notebook** and **add minimal comments where needed**. __This part is worth 10% of your grade.__\n",
    "\n",
    "\n",
    "You can submit your homework following these guidelines: [Git Intro & How to hand your homework](https://github.com/didiersalazar/DM2024-Lab1-Master/blob/main/Git%20Intro%20%26%20How%20to%20hand%20your%20homework.ipynb). Make sure to commit and save your changes to your repository __BEFORE the deadline (October 27th 11:59 pm, Sunday)__. "
   ]
  },
  {
   "cell_type": "markdown",
   "metadata": {},
   "source": [
    "---"
   ]
  },
  {
   "cell_type": "markdown",
   "metadata": {},
   "source": [
    "### Download dataset"
   ]
  },
  {
   "cell_type": "code",
   "execution_count": 2,
   "metadata": {},
   "outputs": [
    {
     "name": "stdout",
     "output_type": "stream",
     "text": [
      "<class 'pandas.core.frame.DataFrame'>\n",
      "RangeIndex: 1500 entries, 0 to 1499\n",
      "Data columns (total 2 columns):\n",
      " #   Column     Non-Null Count  Dtype \n",
      "---  ------     --------------  ----- \n",
      " 0   sentiment  1500 non-null   object\n",
      " 1   comment    1500 non-null   object\n",
      "dtypes: object(2)\n",
      "memory usage: 23.6+ KB\n",
      "None\n",
      "       sentiment                                            comment\n",
      "0  not nostalgia  He was a singer with a golden voice that I lov...\n",
      "1      nostalgia  The mist beautiful voice ever I listened to hi...\n",
      "2      nostalgia  I have most of Mr. Reeves songs.  Always love ...\n",
      "3  not nostalgia  30 day leave from 1st tour in Viet Nam to conv...\n",
      "4      nostalgia  listening to his songs reminds me of my mum wh...\n"
     ]
    }
   ],
   "source": [
    "import pandas as pd\n",
    "\n",
    "df = pd.read_csv(\"hf://datasets/Senem/Nostalgic_Sentiment_Analysis_of_YouTube_Comments_Data/Nostalgic_Sentiment_Analysis_of_YouTube_Comments_Data.csv\")\n",
    "\n",
    "# Display basic info about the dataset\n",
    "print(df.info())\n",
    "print(df.head())"
   ]
  },
  {
   "cell_type": "markdown",
   "metadata": {},
   "source": [
    "## Using pandas"
   ]
  },
  {
   "cell_type": "code",
   "execution_count": 3,
   "metadata": {},
   "outputs": [
    {
     "name": "stdout",
     "output_type": "stream",
     "text": [
      "Missing values per column:\n",
      "sentiment    0\n",
      "comment      0\n",
      "dtype: int64\n"
     ]
    }
   ],
   "source": [
    "# Check for missing values\n",
    "print(\"Missing values per column:\")\n",
    "print(df.isnull().sum())\n",
    "\n",
    "# Drop rows with missing values\n",
    "df.dropna(inplace=True)"
   ]
  },
  {
   "cell_type": "markdown",
   "metadata": {},
   "source": [
    "## Dupliactes of data"
   ]
  },
  {
   "cell_type": "code",
   "execution_count": null,
   "metadata": {},
   "outputs": [],
   "source": [
    "duplicate_count = df.duplicated(subset=['comment']).sum()\n",
    "print(f\"Number of duplicate comments: {duplicate_count}\")\n",
    "\n",
    "# Remove duplicates\n",
    "df = df.drop_duplicates(subset=['comment']).reset_index(drop=True)\n",
    "\n",
    "# Confirm removal\n",
    "print(f\"Number of comments after removing duplicates: {len(df)}\")"
   ]
  },
  {
   "cell_type": "markdown",
   "metadata": {},
   "source": [
    "## Sampling"
   ]
  },
  {
   "cell_type": "code",
   "execution_count": 9,
   "metadata": {},
   "outputs": [
    {
     "name": "stdout",
     "output_type": "stream",
     "text": [
      "Class distribution in the original dataset:\n",
      "sentiment\n",
      "not nostalgia    0.5\n",
      "nostalgia        0.5\n",
      "Name: proportion, dtype: float64\n",
      "\n",
      "Class distribution in the sampled dataset:\n",
      "sentiment\n",
      "nostalgia        0.5\n",
      "not nostalgia    0.5\n",
      "Name: proportion, dtype: float64\n"
     ]
    }
   ],
   "source": [
    "from sklearn.model_selection import train_test_split\n",
    "\n",
    "# Proportion of the dataset to sample\n",
    "sample_proportion = 0.2  \n",
    "\n",
    "# Split the data while preserving the class distribution\n",
    "sampled_data, _ = train_test_split(\n",
    "    df,\n",
    "    train_size=sample_proportion,\n",
    "    stratify=df['sentiment'],\n",
    "    random_state=42\n",
    ")\n",
    "\n",
    "# Display the class distribution in the original and sampled datasets\n",
    "print(\"Class distribution in the original dataset:\")\n",
    "print(df['sentiment'].value_counts(normalize=True))\n",
    "\n",
    "print(\"\\nClass distribution in the sampled dataset:\")\n",
    "print(sampled_data['sentiment'].value_counts(normalize=True))\n"
   ]
  },
  {
   "cell_type": "markdown",
   "metadata": {},
   "source": [
    "## Collection of Feature"
   ]
  },
  {
   "cell_type": "code",
   "execution_count": 10,
   "metadata": {},
   "outputs": [
    {
     "name": "stdout",
     "output_type": "stream",
     "text": [
      "                                             comment  \\\n",
      "0  He was a singer with a golden voice that I lov...   \n",
      "1  The mist beautiful voice ever I listened to hi...   \n",
      "2  I have most of Mr. Reeves songs.  Always love ...   \n",
      "3  30 day leave from 1st tour in Viet Nam to conv...   \n",
      "4  listening to his songs reminds me of my mum wh...   \n",
      "\n",
      "                                            unigrams  \n",
      "0  [He, was, a, singer, with, a, golden, voice, t...  \n",
      "1  [The, mist, beautiful, voice, ever, I, listene...  \n",
      "2  [I, have, most, of, Mr., Reeves, songs, ., Alw...  \n",
      "3  [30, day, leave, from, 1st, tour, in, Viet, Na...  \n",
      "4  [listening, to, his, songs, reminds, me, of, m...  \n"
     ]
    },
    {
     "name": "stderr",
     "output_type": "stream",
     "text": [
      "[nltk_data] Downloading package punkt to /Users/julianna/nltk_data...\n",
      "[nltk_data]   Package punkt is already up-to-date!\n"
     ]
    }
   ],
   "source": [
    "import nltk\n",
    "nltk.download('punkt')\n",
    "\n",
    "# Function to tokenize text into unigrams\n",
    "def create_unigrams(text):\n",
    "    return nltk.word_tokenize(text)\n",
    "\n",
    "# Add a new column for unigrams by applying the function\n",
    "df['unigrams'] = df['comment'].map(create_unigrams)\n",
    "\n",
    "# Preview the DataFrame with the original comments and their unigrams\n",
    "print(df.loc[:, ['comment', 'unigrams']].head())"
   ]
  },
  {
   "cell_type": "markdown",
   "metadata": {},
   "source": [
    "## Subset Selectiom"
   ]
  },
  {
   "cell_type": "code",
   "execution_count": null,
   "metadata": {},
   "outputs": [],
   "source": [
    "# Exercise 2\n",
    "grouped_counts = X.groupby('category_name').size().reset_index(name='counts')\n",
    "print(grouped_counts)"
   ]
  },
  {
   "cell_type": "code",
   "execution_count": null,
   "metadata": {},
   "outputs": [],
   "source": [
    "# Exercise 5\n",
    "'''\n",
    "The .isnull() method did not work as expected because it only identifies certain specific values as \"missing.\" By default, .isnull() considers np.nan and None as missing values, but it does not recognize empty strings ('') or non-standard missing value indicators (like custom strings such as 'NaN') as missing.\n",
    "\n",
    "Observations\n",
    "In the DataFrame, the missing_example column contains:\n",
    "\n",
    "np.nan (standard representation for missing data in NumPy),\n",
    "None (Python's native missing value representation),\n",
    "empty strings (''),\n",
    "and possibly custom strings like 'NaN'.\n",
    "When .isnull() is applied, it only flags np.nan and None as missing (True), while empty strings and custom strings like 'NaN' are not flagged as missing (False).\n",
    "\n",
    "Explanation\n",
    ".isnull() did not work for empty strings because Pandas does not treat empty strings ('') as missing values by default. Instead, only values explicitly defined as np.nan or None are considered missing. This is why .isnull() returned False for the rows with empty strings.\n",
    "\n",
    "Solution\n",
    "We can replace empty strings with np.nan before applying .isnull()\n",
    "'''\n",
    "import numpy as np\n",
    "import pandas as pd\n",
    "\n",
    "NA_dict = [\n",
    "    {'id': 'A', 'missing_example': np.nan},\n",
    "    {'id': 'B', 'missing_example': ''},\n",
    "    {'id': 'C', 'missing_example': 'NaN'},\n",
    "    {'id': 'D', 'missing_example': None},\n",
    "    {'id': 'E', 'missing_example': None},\n",
    "    {'id': 'F', 'missing_example': ''}\n",
    "]\n",
    "NA_df = pd.DataFrame(NA_dict, columns=['id', 'missing_example'])\n",
    "\n",
    "# Replace empty strings with np.nan\n",
    "NA_df['missing_example'].replace('', np.nan, inplace=True)\n",
    "\n",
    "# .isnull() will identify missing cases\n",
    "NA_df['missing_example'].isnull()"
   ]
  },
  {
   "cell_type": "markdown",
   "metadata": {},
   "source": [
    "# Exercise 6\n",
    "The sampled DataFrame X_sample differs from original DataFrame X:\n",
    "\n",
    "Size:  The DataFrame X migh contain more than 1,000 records, X_sample is a subset with 1,000 randomly selected records.\n",
    "Random Selection: Rows in X_sample are selected randomly, so they vary with each sample unless a random seed is set.\n",
    "Index: X_sample keeps the original indices from X, which results in non-sequential indices."
   ]
  },
  {
   "cell_type": "code",
   "execution_count": 4,
   "metadata": {},
   "outputs": [
    {
     "data": {
      "image/png": "[encoded data removed]",
      "text/plain": [
       "<Figure size 1000x600 with 1 Axes>"
      ]
     },
     "metadata": {},
     "output_type": "display_data"
    }
   ],
   "source": [
    "# Exercise 8\n",
    "import pandas as pd\n",
    "import matplotlib.pyplot as plt\n",
    "import numpy as np\n",
    "\n",
    "# Sample data \n",
    "data1 = {'category_name': ['soc.religion.christian', 'sci.med', 'comp.graphics', 'alt.atheism'],\n",
    "         'count': [599, 594, 584, 480]}\n",
    "data2 = {'category_name': ['soc.religion.christian', 'sci.med', 'comp.graphics', 'alt.atheism'],\n",
    "         'count': [300, 300, 250, 200]}\n",
    "\n",
    "# dictionaries to DataFrames\n",
    "df1 = pd.DataFrame(data1)\n",
    "df2 = pd.DataFrame(data2)\n",
    "\n",
    "# Set category names \n",
    "categories = ['soc.religion.christian', 'sci.med', 'comp.graphics', 'alt.atheism']\n",
    "df1 = df1.set_index('category_name').reindex(categories).fillna(0)\n",
    "df2 = df2.set_index('category_name').reindex(categories).fillna(0)\n",
    "\n",
    "width = 0.35  # The Width of each bar\n",
    "x = np.arange(len(categories))  # X positions for each category\n",
    "\n",
    "# Plotting\n",
    "fig, ax = plt.subplots(figsize=(10, 6))\n",
    "\n",
    "# Plot bars \n",
    "ax.bar(x - width/2, df1['count'], width, label='category_name', color='blue')\n",
    "ax.bar(x + width/2, df2['count'], width, label='category_name', color='orange')\n",
    "\n",
    "# labels, title, and ticks\n",
    "ax.set_xlabel('Category Name')\n",
    "ax.set_ylabel('Count')\n",
    "ax.set_title('Category Distribution')\n",
    "ax.set_xticks(x)\n",
    "ax.set_xticklabels(categories, rotation=0)\n",
    "ax.legend()\n",
    "\n",
    "# Display plot\n",
    "plt.tight_layout()\n",
    "plt.show()"
   ]
  },
  {
   "cell_type": "code",
   "execution_count": 5,
   "metadata": {},
   "outputs": [
    {
     "ename": "NameError",
     "evalue": "name 'X_counts' is not defined",
     "output_type": "error",
     "traceback": [
      "\u001b[0;31m---------------------------------------------------------------------------\u001b[0m",
      "\u001b[0;31mNameError\u001b[0m                                 Traceback (most recent call last)",
      "Cell \u001b[0;32mIn[5], line 3\u001b[0m\n\u001b[1;32m      1\u001b[0m \u001b[38;5;66;03m# Exercise 10\u001b[39;00m\n\u001b[1;32m      2\u001b[0m \u001b[38;5;66;03m# Get the indices of non-zero elements in fifth document\u001b[39;00m\n\u001b[0;32m----> 3\u001b[0m non_zero_indices \u001b[38;5;241m=\u001b[39m X_counts[\u001b[38;5;241m4\u001b[39m]\u001b[38;5;241m.\u001b[39mnonzero()[\u001b[38;5;241m1\u001b[39m]\n\u001b[1;32m      5\u001b[0m \u001b[38;5;66;03m# Retrieve second non-zero index\u001b[39;00m\n\u001b[1;32m      6\u001b[0m second_term_index \u001b[38;5;241m=\u001b[39m non_zero_indices[\u001b[38;5;241m1\u001b[39m]\n",
      "\u001b[0;31mNameError\u001b[0m: name 'X_counts' is not defined"
     ]
    }
   ],
   "source": [
    "# Exercise 10\n",
    "# Get the indices of non-zero elements in fifth document\n",
    "non_zero_indices = X_counts[4].nonzero()[1]\n",
    "\n",
    "# Retrieve second non-zero index\n",
    "second_term_index = non_zero_indices[1]\n",
    "\n",
    "# Use second term index to get corresponding word from vocabulary\n",
    "feature_names = count_vect.get_feature_names_out()\n",
    "second_word = feature_names[second_term_index]\n",
    "second_word"
   ]
  },
  {
   "cell_type": "code",
   "execution_count": 6,
   "metadata": {},
   "outputs": [
    {
     "ename": "NameError",
     "evalue": "name 'X_counts' is not defined",
     "output_type": "error",
     "traceback": [
      "\u001b[0;31m---------------------------------------------------------------------------\u001b[0m",
      "\u001b[0;31mNameError\u001b[0m                                 Traceback (most recent call last)",
      "Cell \u001b[0;32mIn[6], line 9\u001b[0m\n\u001b[1;32m      5\u001b[0m \u001b[38;5;28;01mimport\u001b[39;00m \u001b[38;5;21;01mnumpy\u001b[39;00m \u001b[38;5;28;01mas\u001b[39;00m \u001b[38;5;21;01mnp\u001b[39;00m\n\u001b[1;32m      7\u001b[0m \u001b[38;5;66;03m# Convert sparse matrix to dense format for a sample\u001b[39;00m\n\u001b[1;32m      8\u001b[0m \u001b[38;5;66;03m# Select first 50 documents and 50 terms for visualization\u001b[39;00m\n\u001b[0;32m----> 9\u001b[0m sample_X_counts \u001b[38;5;241m=\u001b[39m X_counts[:\u001b[38;5;241m50\u001b[39m, :\u001b[38;5;241m50\u001b[39m]\u001b[38;5;241m.\u001b[39mtoarray()\n\u001b[1;32m     11\u001b[0m \u001b[38;5;66;03m# Create DataFrame with term names as columns and document names as index\u001b[39;00m\n\u001b[1;32m     12\u001b[0m terms \u001b[38;5;241m=\u001b[39m count_vect\u001b[38;5;241m.\u001b[39mget_feature_names_out()[:\u001b[38;5;241m50\u001b[39m]\n",
      "\u001b[0;31mNameError\u001b[0m: name 'X_counts' is not defined"
     ]
    }
   ],
   "source": [
    "# Exercise 11\n",
    "import seaborn as sns\n",
    "import matplotlib.pyplot as plt\n",
    "import pandas as pd\n",
    "import numpy as np\n",
    "\n",
    "# Convert sparse matrix to dense format for a sample\n",
    "# Select first 50 documents and 50 terms for visualization\n",
    "sample_X_counts = X_counts[:50, :50].toarray()\n",
    "\n",
    "# Create DataFrame with term names as columns and document names as index\n",
    "terms = count_vect.get_feature_names_out()[:50]\n",
    "doc_labels = [f'doc_{i}' for i in range(1, 51)]\n",
    "df_sample = pd.DataFrame(sample_X_counts, index=doc_labels, columns=terms)\n",
    "\n",
    "# Plot heatmap\n",
    "plt.figure(figsize=(12, 8))\n",
    "sns.heatmap(df_sample, cmap=\"YlGnBu\", cbar=True, annot=False)\n",
    "plt.title(\"Sample Term-Document Matrix Heatmap\")\n",
    "plt.xlabel(\"Terms\")\n",
    "plt.ylabel(\"Documents\")\n",
    "plt.show()"
   ]
  },
  {
   "cell_type": "code",
   "execution_count": 7,
   "metadata": {},
   "outputs": [
    {
     "ename": "NameError",
     "evalue": "name 'X_counts' is not defined",
     "output_type": "error",
     "traceback": [
      "\u001b[0;31m---------------------------------------------------------------------------\u001b[0m",
      "\u001b[0;31mNameError\u001b[0m                                 Traceback (most recent call last)",
      "Cell \u001b[0;32mIn[7], line 10\u001b[0m\n\u001b[1;32m      4\u001b[0m \u001b[38;5;28;01mimport\u001b[39;00m \u001b[38;5;21;01mpandas\u001b[39;00m \u001b[38;5;28;01mas\u001b[39;00m \u001b[38;5;21;01mpd\u001b[39;00m\n\u001b[1;32m      6\u001b[0m \u001b[38;5;66;03m# Assuming X_counts is a 2D matrix with term counts (rows: documents, columns: terms)\u001b[39;00m\n\u001b[1;32m      7\u001b[0m \u001b[38;5;66;03m# For example, if using sklearn's CountVectorizer, X_counts can be X.toarray()\u001b[39;00m\n\u001b[1;32m      8\u001b[0m \n\u001b[1;32m      9\u001b[0m \u001b[38;5;66;03m# Calculate term frequencies (sum of each column)\u001b[39;00m\n\u001b[0;32m---> 10\u001b[0m term_frequencies \u001b[38;5;241m=\u001b[39m np\u001b[38;5;241m.\u001b[39masarray(X_counts\u001b[38;5;241m.\u001b[39msum(axis\u001b[38;5;241m=\u001b[39m\u001b[38;5;241m0\u001b[39m))\u001b[38;5;241m.\u001b[39mflatten()\n\u001b[1;32m     12\u001b[0m \u001b[38;5;66;03m# Get feature names\u001b[39;00m\n\u001b[1;32m     13\u001b[0m feature_names \u001b[38;5;241m=\u001b[39m count_vect\u001b[38;5;241m.\u001b[39mget_feature_names_out()  \u001b[38;5;66;03m# Assuming `vectorizer` is your CountVectorizer instance\u001b[39;00m\n",
      "\u001b[0;31mNameError\u001b[0m: name 'X_counts' is not defined"
     ]
    }
   ],
   "source": [
    "# Exercise 12\n",
    "import numpy as np\n",
    "import plotly.express as px\n",
    "import pandas as pd\n",
    "\n",
    "# Assuming X_counts is a 2D matrix with term counts (rows: documents, columns: terms)\n",
    "# For example, if using sklearn's CountVectorizer, X_counts can be X.toarray()\n",
    "\n",
    "# Calculate term frequencies (sum of each column)\n",
    "term_frequencies = np.asarray(X_counts.sum(axis=0)).flatten()\n",
    "\n",
    "# Get feature names\n",
    "feature_names = count_vect.get_feature_names_out()  # Assuming `vectorizer` is your CountVectorizer instance\n",
    "\n",
    "# Create a DataFrame for Plotly\n",
    "df = pd.DataFrame({\n",
    "    'Term': feature_names,\n",
    "    'Frequency': term_frequencies\n",
    "})\n",
    "\n",
    "# Sort terms by frequency for better visualization\n",
    "df = df.sort_values(by=\"Frequency\", ascending=False)\n",
    "\n",
    "# Create an interactive bar chart with Plotly\n",
    "fig = px.bar(df, x='Term', y='Frequency', title=\"Interactive Term Frequency Distribution\")\n",
    "fig.update_layout(xaxis_title=\"Terms\", yaxis_title=\"Frequency\", xaxis_tickangle=90)\n",
    "fig.show()"
   ]
  },
  {
   "cell_type": "code",
   "execution_count": 8,
   "metadata": {},
   "outputs": [
    {
     "ename": "NameError",
     "evalue": "name 'X_counts' is not defined",
     "output_type": "error",
     "traceback": [
      "\u001b[0;31m---------------------------------------------------------------------------\u001b[0m",
      "\u001b[0;31mNameError\u001b[0m                                 Traceback (most recent call last)",
      "Cell \u001b[0;32mIn[8], line 10\u001b[0m\n\u001b[1;32m      4\u001b[0m \u001b[38;5;28;01mimport\u001b[39;00m \u001b[38;5;21;01mseaborn\u001b[39;00m \u001b[38;5;28;01mas\u001b[39;00m \u001b[38;5;21;01msns\u001b[39;00m\n\u001b[1;32m      6\u001b[0m \u001b[38;5;66;03m# Assuming X_counts is a 2D matrix with term counts (rows: documents, columns: terms)\u001b[39;00m\n\u001b[1;32m      7\u001b[0m \u001b[38;5;66;03m# For example, if using sklearn's CountVectorizer, X_counts can be X.toarray()\u001b[39;00m\n\u001b[1;32m      8\u001b[0m \n\u001b[1;32m      9\u001b[0m \u001b[38;5;66;03m# Calculate the term frequencies (sum of each column)\u001b[39;00m\n\u001b[0;32m---> 10\u001b[0m term_frequencies \u001b[38;5;241m=\u001b[39m np\u001b[38;5;241m.\u001b[39masarray(X_counts\u001b[38;5;241m.\u001b[39msum(axis\u001b[38;5;241m=\u001b[39m\u001b[38;5;241m0\u001b[39m))\u001b[38;5;241m.\u001b[39mflatten()\n\u001b[1;32m     12\u001b[0m \u001b[38;5;66;03m# Set a threshold to filter terms (e.g., top 50 terms)\u001b[39;00m\n\u001b[1;32m     13\u001b[0m top_n_terms \u001b[38;5;241m=\u001b[39m \u001b[38;5;241m50\u001b[39m\n",
      "\u001b[0;31mNameError\u001b[0m: name 'X_counts' is not defined"
     ]
    }
   ],
   "source": [
    "# Exercise 13\n",
    "import numpy as np\n",
    "import matplotlib.pyplot as plt\n",
    "import seaborn as sns\n",
    "\n",
    "# Assuming X_counts is a 2D matrix with term counts (rows: documents, columns: terms)\n",
    "# For example, if using sklearn's CountVectorizer, X_counts can be X.toarray()\n",
    "\n",
    "# Calculate the term frequencies (sum of each column)\n",
    "term_frequencies = np.asarray(X_counts.sum(axis=0)).flatten()\n",
    "\n",
    "# Set a threshold to filter terms (e.g., top 50 terms)\n",
    "top_n_terms = 50\n",
    "top_term_indices = np.argsort(term_frequencies)[-top_n_terms:]  # Indices of top N terms\n",
    "\n",
    "# Filter X_counts to only include the top terms\n",
    "X_counts_filtered = X_counts[:, top_term_indices]\n",
    "\n",
    "# Get the feature names of the top terms\n",
    "feature_names = np.array(count_vect.get_feature_names_out())  # Assuming `vectorizer` is your CountVectorizer instance\n",
    "top_feature_names = feature_names[top_term_indices]\n",
    "\n",
    "# Plot the frequencies of the top terms\n",
    "plt.figure(figsize=(12, 6))\n",
    "sns.barplot(x=top_feature_names, y=term_frequencies[top_term_indices])\n",
    "plt.xticks(rotation=90)\n",
    "plt.xlabel(\"Terms\")\n",
    "plt.ylabel(\"Frequency\")\n",
    "plt.title(\"Top 50 Term Frequencies\")\n",
    "plt.tight_layout()\n",
    "plt.show()\n"
   ]
  },
  {
   "cell_type": "code",
   "execution_count": null,
   "metadata": {},
   "outputs": [],
   "source": [
    "# Exercise 14\n",
    "import numpy as np\n",
    "import pandas as pd\n",
    "import plotly.express as px\n",
    "\n",
    "# Calculate term frequencies\n",
    "term_frequencies = np.asarray(X_counts.sum(axis=0)).flatten()\n",
    "feature_names = count_vect.get_feature_names_out()\n",
    "\n",
    "# Create a DataFrame and sort by frequency\n",
    "df = pd.DataFrame({\n",
    "    'Term': feature_names,\n",
    "    'Frequency': term_frequencies\n",
    "}).sort_values(by=\"Frequency\", ascending=False)\n",
    "\n",
    "# Plot with Plotly\n",
    "fig = px.line(df, y=\"Frequency\", title=\"Long Tail Distribution of Term Frequencies\")\n",
    "fig.update_traces(line=dict(color=\"orange\"))\n",
    "fig.update_layout(\n",
    "    xaxis_title=\"Terms (sorted by frequency)\",\n",
    "    yaxis_title=\"Frequency\",\n",
    "    showlegend=False\n",
    ")\n",
    "fig.update_xaxes(showticklabels=False)  # Hide x-axis labels to reduce clutter\n",
    "fig.show()"
   ]
  },
  {
   "cell_type": "code",
   "execution_count": null,
   "metadata": {},
   "outputs": [],
   "source": [
    "# Exercise 15\n",
    "# Answer here\n",
    "import math\n",
    "import plotly.express as px\n",
    "import pandas as pd\n",
    "\n",
    "# Log transform the term frequencies to make them more readable\n",
    "term_frequencies_log = [math.log(i) if i > 0 else 0 for i in term_frequencies]\n",
    "\n",
    "# Create a DataFrame and sort by frequency (if not already sorted)\n",
    "df_log = pd.DataFrame({\n",
    "    'Term': feature_names,\n",
    "    'Log_Frequency': term_frequencies_log\n",
    "}).sort_values(by=\"Log_Frequency\", ascending=False)\n",
    "\n",
    "# Plot using Plotly\n",
    "fig = px.bar(df_log.head(300), x=\"Term\", y=\"Log_Frequency\", title=\"Log Distribution of Term Frequencies (Top 300 Terms)\")\n",
    "fig.update_layout(\n",
    "    xaxis_title=\"Terms (sorted by log frequency)\",\n",
    "    yaxis_title=\"Log Frequency\",\n",
    "    showlegend=False\n",
    ")\n",
    "fig.show()"
   ]
  },
  {
   "cell_type": "markdown",
   "metadata": {},
   "source": [
    "**Exercise 16**\n",
    "The filtered vocabulary in each category highlights unique/shared patterns in language use. Common words like *\"the,\" \"to,\" \"of,\"* and *\"and\"* show up consistently in the top 5% across all categories. Beyond these shared terms, each category’s most frequent words align with its distinct themes. In *comp.graphics,* words like *\"distributed\"* and *\"multi\"* suggest the discussions centered around tech. In *soc.religion.christian* has words such as *\"pagan\"* and *\"claims,\"* indicating theological/religious debates or belief, while *sci.med* includes *\"toxic\"* and *\"genetic,\"* lean towards scientific and medical topics. In *alt.atheism,* high-frequency words like *\"court\"* and *\"lot\"* imply a focus on legal discussions or personal opinions surrounding atheism/religion.\n",
    "\n",
    "The least frequent words in the bottom 1% provide insight into each category’s niche vocabulary. For example, *comp.graphics* includes rare terms like *\"initworld\"* and *\"l4v,\"* which likely refer to specific functions or software elements, while *soc.religion.christian* features words such as *\"remarriage\"* and *\"pagan,\"* leaning more specialized theological or social topics. *sci.med* has words like *\"íålittin\"* and *\"infallible,\"* which is rare but relevant in scientific discussuions, and *alt.atheism* includes terms like *\"zyklon\"* and *\"disqualified,\"* may point to historical debates/controversial discussions. Words in the bottom 1% tend to be more highly specific, highlighting sub-topics within each category."
   ]
  },
  {
   "cell_type": "code",
   "execution_count": null,
   "metadata": {},
   "outputs": [],
   "source": [
    "# Exercise 17\n",
    "import time\n",
    "import pandas as pd\n",
    "from FAE_Top_K import FAETopK  # Placeholder for the actual FAE Top-K algorithm\n",
    "from Max_FPGrowth import MaxFPgrowth  # Placeholder for the actual MaxFPgrowth algorithm\n",
    "\n",
    "# Load the \"comp.graphics\" dataset\n",
    "data_file = 'fre_rec_db_comp_graphics.csv'\n",
    "df = pd.read_csv(data_file)\n",
    "\n",
    "# Define k values and support thresholds\n",
    "k_values = [500, 1000, 1500]\n",
    "support_thresholds = [3, 6, 9]\n",
    "\n",
    "# Store results\n",
    "results = []\n",
    "\n",
    "# Running FAE Top-k algorithm with different k values\n",
    "for k in k_values:\n",
    "    fae_topk = FAETopK(k=k)  # Initialize with current k\n",
    "    start_time = time.time()\n",
    "    fae_topk.run(df)  # Run the algorithm on the dataset\n",
    "    runtime = time.time() - start_time\n",
    "    results.append({\n",
    "        'Algorithm': 'FAE Top-K',\n",
    "        'k': k,\n",
    "        'Support Threshold': None,\n",
    "        'Runtime (s)': runtime\n",
    "    })\n",
    "    print(f\"FAE Top-K | k={k} | Runtime: {runtime:.4f} seconds\")\n",
    "\n",
    "# Running MaxFPgrowth algorithm with different support thresholds\n",
    "for support in support_thresholds:\n",
    "    maxfpgrowth = MaxFPgrowth(support=support)  # Initialize with current support threshold\n",
    "    start_time = time.time()\n",
    "    maxfpgrowth.run(df)  # Run the algorithm on the dataset\n",
    "    runtime = time.time() - start_time\n",
    "    results.append({\n",
    "        'Algorithm': 'MaxFPgrowth',\n",
    "        'k': None,\n",
    "        'Support Threshold': support,\n",
    "        'Runtime (s)': runtime\n",
    "    })\n",
    "    print(f\"MaxFPgrowth | Support={support} | Runtime: {runtime:.4f} seconds\")\n",
    "\n",
    "# Display results\n",
    "results_df = pd.DataFrame(results)\n",
    "print(results_df)\n"
   ]
  },
  {
   "cell_type": "code",
   "execution_count": null,
   "metadata": {},
   "outputs": [],
   "source": [
    "# Exercise 18\n",
    "import matplotlib.pyplot as plt\n",
    "from mpl_toolkits.mplot3d import Axes3D\n",
    "\n",
    "fig = plt.figure(figsize=(15, 5))\n",
    "\n",
    "# First angle\n",
    "ax1 = fig.add_subplot(131, projection='3d')\n",
    "ax1.scatter(X_pca_3d[:, 0], X_pca_3d[:, 1], X_pca_3d[:, 2], c=X['category_name'], cmap='viridis', marker='o')\n",
    "ax1.view_init(30, 30)  # Adjust view angle\n",
    "ax1.set_title(\"Angle 1\")\n",
    "\n",
    "# Second angle\n",
    "ax2 = fig.add_subplot(132, projection='3d')\n",
    "ax2.scatter(X_pca_3d[:, 0], X_pca_3d[:, 1], X_pca_3d[:, 2], c=X['category_name'], cmap='viridis', marker='o')\n",
    "ax2.view_init(30, 120)  # Different angle\n",
    "ax2.set_title(\"Angle 2\")\n",
    "\n",
    "# Third angle\n",
    "ax3 = fig.add_subplot(133, projection='3d')\n",
    "ax3.scatter(X_pca_3d[:, 0], X_pca_3d[:, 1], X_pca_3d[:, 2], c=X['category_name'], cmap='viridis', marker='o')\n",
    "ax3.view_init(30, 210)  # Another different angle\n",
    "ax3.set_title(\"Angle 3\")\n",
    "\n",
    "plt.show()"
   ]
  },
  {
   "cell_type": "code",
   "execution_count": null,
   "metadata": {},
   "outputs": [],
   "source": [
    "# Exercise 19\n",
    "\n",
    "# I ran each line of code in their own separate cells \n",
    "\n",
    "mlb = preprocessing.LabelBinarizer()\n",
    "X['bin_category_name'] = mlb.fit_transform(X['category_name']).tolist()\n",
    "X['bin_category_name'].head()"
   ]
  },
  {
   "cell_type": "markdown",
   "metadata": {},
   "source": [
    "---"
   ]
  },
  {
   "cell_type": "markdown",
   "metadata": {},
   "source": [
    "### Task 2 and 3"
   ]
  },
  {
   "cell_type": "markdown",
   "metadata": {},
   "source": [
    "### 1. Download dataset"
   ]
  },
  {
   "cell_type": "code",
   "execution_count": 1,
   "metadata": {},
   "outputs": [
    {
     "name": "stdout",
     "output_type": "stream",
     "text": [
      "Requirement already satisfied: huggingface_hub in /opt/anaconda3/lib/python3.11/site-packages (0.26.1)\n",
      "Requirement already satisfied: filelock in /opt/anaconda3/lib/python3.11/site-packages (from huggingface_hub) (3.13.1)\n",
      "Requirement already satisfied: fsspec>=2023.5.0 in /opt/anaconda3/lib/python3.11/site-packages (from huggingface_hub) (2023.10.0)\n",
      "Requirement already satisfied: packaging>=20.9 in /opt/anaconda3/lib/python3.11/site-packages (from huggingface_hub) (23.1)\n",
      "Requirement already satisfied: pyyaml>=5.1 in /opt/anaconda3/lib/python3.11/site-packages (from huggingface_hub) (6.0.1)\n",
      "Requirement already satisfied: requests in /opt/anaconda3/lib/python3.11/site-packages (from huggingface_hub) (2.32.3)\n",
      "Requirement already satisfied: tqdm>=4.42.1 in /opt/anaconda3/lib/python3.11/site-packages (from huggingface_hub) (4.66.5)\n",
      "Requirement already satisfied: typing-extensions>=3.7.4.3 in /opt/anaconda3/lib/python3.11/site-packages (from huggingface_hub) (4.9.0)\n",
      "Requirement already satisfied: charset-normalizer<4,>=2 in /opt/anaconda3/lib/python3.11/site-packages (from requests->huggingface_hub) (2.0.4)\n",
      "Requirement already satisfied: idna<4,>=2.5 in /opt/anaconda3/lib/python3.11/site-packages (from requests->huggingface_hub) (3.4)\n",
      "Requirement already satisfied: urllib3<3,>=1.21.1 in /opt/anaconda3/lib/python3.11/site-packages (from requests->huggingface_hub) (2.0.7)\n",
      "Requirement already satisfied: certifi>=2017.4.17 in /opt/anaconda3/lib/python3.11/site-packages (from requests->huggingface_hub) (2024.2.2)\n",
      "Note: you may need to restart the kernel to use updated packages.\n"
     ]
    }
   ],
   "source": [
    "pip install --upgrade huggingface_hub"
   ]
  },
  {
   "cell_type": "code",
   "execution_count": 2,
   "metadata": {},
   "outputs": [],
   "source": [
    "import pandas as pd\n",
    "\n",
    "df = pd.read_csv(\"hf://datasets/Senem/Nostalgic_Sentiment_Analysis_of_YouTube_Comments_Data/Nostalgic_Sentiment_Analysis_of_YouTube_Comments_Data.csv\")"
   ]
  },
  {
   "cell_type": "code",
   "execution_count": 3,
   "metadata": {},
   "outputs": [
    {
     "name": "stdout",
     "output_type": "stream",
     "text": [
      "Requirement already satisfied: datasets in /opt/anaconda3/lib/python3.11/site-packages (3.0.2)\n",
      "Requirement already satisfied: filelock in /opt/anaconda3/lib/python3.11/site-packages (from datasets) (3.13.1)\n",
      "Requirement already satisfied: numpy>=1.17 in /opt/anaconda3/lib/python3.11/site-packages (from datasets) (1.26.4)\n",
      "Requirement already satisfied: pyarrow>=15.0.0 in /opt/anaconda3/lib/python3.11/site-packages (from datasets) (17.0.0)\n",
      "Requirement already satisfied: dill<0.3.9,>=0.3.0 in /opt/anaconda3/lib/python3.11/site-packages (from datasets) (0.3.8)\n",
      "Requirement already satisfied: pandas in /opt/anaconda3/lib/python3.11/site-packages (from datasets) (2.1.4)\n",
      "Requirement already satisfied: requests>=2.32.2 in /opt/anaconda3/lib/python3.11/site-packages (from datasets) (2.32.3)\n",
      "Requirement already satisfied: tqdm>=4.66.3 in /opt/anaconda3/lib/python3.11/site-packages (from datasets) (4.66.5)\n",
      "Requirement already satisfied: xxhash in /opt/anaconda3/lib/python3.11/site-packages (from datasets) (3.5.0)\n",
      "Requirement already satisfied: multiprocess<0.70.17 in /opt/anaconda3/lib/python3.11/site-packages (from datasets) (0.70.16)\n",
      "Requirement already satisfied: fsspec<=2024.9.0,>=2023.1.0 in /opt/anaconda3/lib/python3.11/site-packages (from fsspec[http]<=2024.9.0,>=2023.1.0->datasets) (2023.10.0)\n",
      "Requirement already satisfied: aiohttp in /opt/anaconda3/lib/python3.11/site-packages (from datasets) (3.9.3)\n",
      "Requirement already satisfied: huggingface-hub>=0.23.0 in /opt/anaconda3/lib/python3.11/site-packages (from datasets) (0.26.1)\n",
      "Requirement already satisfied: packaging in /opt/anaconda3/lib/python3.11/site-packages (from datasets) (23.1)\n",
      "Requirement already satisfied: pyyaml>=5.1 in /opt/anaconda3/lib/python3.11/site-packages (from datasets) (6.0.1)\n",
      "Requirement already satisfied: aiosignal>=1.1.2 in /opt/anaconda3/lib/python3.11/site-packages (from aiohttp->datasets) (1.2.0)\n",
      "Requirement already satisfied: attrs>=17.3.0 in /opt/anaconda3/lib/python3.11/site-packages (from aiohttp->datasets) (23.1.0)\n",
      "Requirement already satisfied: frozenlist>=1.1.1 in /opt/anaconda3/lib/python3.11/site-packages (from aiohttp->datasets) (1.4.0)\n",
      "Requirement already satisfied: multidict<7.0,>=4.5 in /opt/anaconda3/lib/python3.11/site-packages (from aiohttp->datasets) (6.0.4)\n",
      "Requirement already satisfied: yarl<2.0,>=1.0 in /opt/anaconda3/lib/python3.11/site-packages (from aiohttp->datasets) (1.9.3)\n",
      "Requirement already satisfied: typing-extensions>=3.7.4.3 in /opt/anaconda3/lib/python3.11/site-packages (from huggingface-hub>=0.23.0->datasets) (4.9.0)\n",
      "Requirement already satisfied: charset-normalizer<4,>=2 in /opt/anaconda3/lib/python3.11/site-packages (from requests>=2.32.2->datasets) (2.0.4)\n",
      "Requirement already satisfied: idna<4,>=2.5 in /opt/anaconda3/lib/python3.11/site-packages (from requests>=2.32.2->datasets) (3.4)\n",
      "Requirement already satisfied: urllib3<3,>=1.21.1 in /opt/anaconda3/lib/python3.11/site-packages (from requests>=2.32.2->datasets) (2.0.7)\n",
      "Requirement already satisfied: certifi>=2017.4.17 in /opt/anaconda3/lib/python3.11/site-packages (from requests>=2.32.2->datasets) (2024.2.2)\n",
      "Requirement already satisfied: python-dateutil>=2.8.2 in /opt/anaconda3/lib/python3.11/site-packages (from pandas->datasets) (2.8.2)\n",
      "Requirement already satisfied: pytz>=2020.1 in /opt/anaconda3/lib/python3.11/site-packages (from pandas->datasets) (2023.3.post1)\n",
      "Requirement already satisfied: tzdata>=2022.1 in /opt/anaconda3/lib/python3.11/site-packages (from pandas->datasets) (2023.3)\n",
      "Requirement already satisfied: six>=1.5 in /opt/anaconda3/lib/python3.11/site-packages (from python-dateutil>=2.8.2->pandas->datasets) (1.16.0)\n"
     ]
    }
   ],
   "source": [
    "!pip install datasets"
   ]
  },
  {
   "cell_type": "code",
   "execution_count": 5,
   "metadata": {},
   "outputs": [],
   "source": [
    "from datasets import load_dataset\n",
    "\n",
    "dataset = load_dataset(\"Senem/Nostalgic_Sentiment_Analysis_of_YouTube_Comments_Data\")\n",
    "df = dataset['train'].to_pandas()  # Convert to a DataFrame"
   ]
  },
  {
   "cell_type": "code",
   "execution_count": 6,
   "metadata": {},
   "outputs": [
    {
     "name": "stdout",
     "output_type": "stream",
     "text": [
      "<class 'pandas.core.frame.DataFrame'>\n",
      "RangeIndex: 1500 entries, 0 to 1499\n",
      "Data columns (total 2 columns):\n",
      " #   Column     Non-Null Count  Dtype \n",
      "---  ------     --------------  ----- \n",
      " 0   sentiment  1500 non-null   object\n",
      " 1   comment    1500 non-null   object\n",
      "dtypes: object(2)\n",
      "memory usage: 23.6+ KB\n",
      "None\n",
      "       sentiment                                            comment\n",
      "0  not nostalgia  He was a singer with a golden voice that I lov...\n",
      "1      nostalgia  The mist beautiful voice ever I listened to hi...\n",
      "2      nostalgia  I have most of Mr. Reeves songs.  Always love ...\n",
      "3  not nostalgia  30 day leave from 1st tour in Viet Nam to conv...\n",
      "4      nostalgia  listening to his songs reminds me of my mum wh...\n"
     ]
    }
   ],
   "source": [
    "# Display basic information about the dataset\n",
    "print(df.info())\n",
    "print(df.head())"
   ]
  },
  {
   "cell_type": "markdown",
   "metadata": {},
   "source": [
    "## Check duplicates of data"
   ]
  },
  {
   "cell_type": "code",
   "execution_count": 11,
   "metadata": {},
   "outputs": [
    {
     "name": "stdout",
     "output_type": "stream",
     "text": [
      "Number of duplicate comments: 1\n",
      "Number of comments after removing duplicates: 1499\n"
     ]
    }
   ],
   "source": [
    "duplicate_count = df.duplicated(subset=['comment']).sum()\n",
    "print(f\"Number of duplicate comments: {duplicate_count}\")\n",
    "\n",
    "# Remove duplicates\n",
    "df = df.drop_duplicates(subset=['comment']).reset_index(drop=True)\n",
    "\n",
    "# Confirm removal\n",
    "print(f\"Number of comments after removing duplicates: {len(df)}\")"
   ]
  },
  {
   "cell_type": "markdown",
   "metadata": {},
   "source": [
    "### 3 Preprocessing"
   ]
  },
  {
   "cell_type": "code",
   "execution_count": 12,
   "metadata": {},
   "outputs": [
    {
     "name": "stdout",
     "output_type": "stream",
     "text": [
      "Class distribution in the original dataset:\n",
      "sentiment\n",
      "nostalgia        0.500334\n",
      "not nostalgia    0.499666\n",
      "Name: proportion, dtype: float64\n",
      "\n",
      "Class distribution in the sampled dataset:\n",
      "sentiment\n",
      "nostalgia        0.501672\n",
      "not nostalgia    0.498328\n",
      "Name: proportion, dtype: float64\n"
     ]
    }
   ],
   "source": [
    "from sklearn.model_selection import train_test_split\n",
    "\n",
    "# Proportion of the dataset to sample\n",
    "sample_proportion = 0.2  \n",
    "\n",
    "# Split the data while preserving the class distribution\n",
    "sampled_data, _ = train_test_split(\n",
    "    df,\n",
    "    train_size=sample_proportion,\n",
    "    stratify=df['sentiment'],\n",
    "    random_state=42\n",
    ")\n",
    "\n",
    "# Display the class distribution in the original and sampled datasets\n",
    "print(\"Class distribution in the original dataset:\")\n",
    "print(df['sentiment'].value_counts(normalize=True))\n",
    "\n",
    "print(\"\\nClass distribution in the sampled dataset:\")\n",
    "print(sampled_data['sentiment'].value_counts(normalize=True))"
   ]
  },
  {
   "cell_type": "code",
   "execution_count": 13,
   "metadata": {},
   "outputs": [
    {
     "name": "stdout",
     "output_type": "stream",
     "text": [
      "                                             comment  \\\n",
      "0  He was a singer with a golden voice that I lov...   \n",
      "1  The mist beautiful voice ever I listened to hi...   \n",
      "2  I have most of Mr. Reeves songs.  Always love ...   \n",
      "3  30 day leave from 1st tour in Viet Nam to conv...   \n",
      "4  listening to his songs reminds me of my mum wh...   \n",
      "\n",
      "                                            unigrams  \n",
      "0  [He, was, a, singer, with, a, golden, voice, t...  \n",
      "1  [The, mist, beautiful, voice, ever, I, listene...  \n",
      "2  [I, have, most, of, Mr., Reeves, songs, ., Alw...  \n",
      "3  [30, day, leave, from, 1st, tour, in, Viet, Na...  \n",
      "4  [listening, to, his, songs, reminds, me, of, m...  \n"
     ]
    },
    {
     "name": "stderr",
     "output_type": "stream",
     "text": [
      "[nltk_data] Downloading package punkt to /Users/julianna/nltk_data...\n",
      "[nltk_data]   Package punkt is already up-to-date!\n"
     ]
    }
   ],
   "source": [
    "import nltk\n",
    "nltk.download('punkt')\n",
    "\n",
    "# Function to tokenize text into unigrams\n",
    "def create_unigrams(text):\n",
    "    return nltk.word_tokenize(text)\n",
    "\n",
    "# Add a new column for unigrams by applying the function\n",
    "df['unigrams'] = df['comment'].map(create_unigrams)\n",
    "\n",
    "# Preview the DataFrame with the original comments and their unigrams\n",
    "print(df.loc[:, ['comment', 'unigrams']].head())"
   ]
  },
  {
   "cell_type": "code",
   "execution_count": 14,
   "metadata": {},
   "outputs": [
    {
     "name": "stdout",
     "output_type": "stream",
     "text": [
      "  (0, 1598)\t1\n",
      "  (0, 3570)\t2\n",
      "  (0, 2973)\t1\n",
      "  (0, 3650)\t1\n",
      "  (0, 1470)\t1\n",
      "  (0, 3534)\t1\n",
      "  (0, 3282)\t1\n",
      "  (0, 2028)\t1\n",
      "  (0, 3336)\t1\n",
      "  (0, 1606)\t1\n",
      "  (0, 233)\t2\n",
      "  (0, 3284)\t3\n",
      "  (0, 3328)\t2\n",
      "  (0, 1651)\t2\n",
      "  (0, 1512)\t1\n",
      "  (0, 1249)\t1\n",
      "  (0, 323)\t1\n",
      "  (0, 214)\t1\n",
      "  (0, 2341)\t1\n",
      "  (0, 15)\t1\n",
      "  (0, 1733)\t1\n",
      "  (0, 3304)\t1\n",
      "  (0, 907)\t1\n",
      "  (0, 258)\t2\n",
      "  (0, 3124)\t1\n",
      "  (0, 2328)\t2\n",
      "  (0, 245)\t1\n",
      "  (0, 3581)\t1\n",
      "  (0, 1591)\t1\n",
      "  (0, 2082)\t1\n",
      "  (0, 2974)\t1\n",
      "  (0, 573)\t1\n",
      "  (0, 593)\t1\n",
      "  (0, 3538)\t1\n",
      "  (0, 1347)\t2\n",
      "  (0, 1833)\t1\n",
      "  (0, 2671)\t1\n",
      "  (0, 3713)\t2\n",
      "  (0, 1272)\t1\n",
      "  (0, 2688)\t1\n",
      "  (0, 1125)\t1\n",
      "  (0, 2035)\t1\n",
      "  (0, 3278)\t1\n",
      "  (0, 2018)\t1\n",
      "  (0, 1964)\t1\n"
     ]
    }
   ],
   "source": [
    "import numpy as np\n",
    "from sklearn.feature_extraction.text import CountVectorizer\n",
    "import seaborn as sns\n",
    "import matplotlib.pyplot as plt\n",
    "\n",
    "# Initialize the CountVectorizer\n",
    "vectorizer = CountVectorizer()\n",
    "\n",
    "# Transform the 'comment' column into a document-term matrix\n",
    "dtm = vectorizer.fit_transform(df['comment'])\n",
    "\n",
    "# Display the first row of the document-term matrix\n",
    "print(dtm[0])\n"
   ]
  },
  {
   "cell_type": "code",
   "execution_count": 15,
   "metadata": {},
   "outputs": [
    {
     "name": "stdout",
     "output_type": "stream",
     "text": [
      "Term: the, Frequency: 1351\n",
      "Term: this, Frequency: 997\n",
      "Term: to, Frequency: 937\n",
      "Term: and, Frequency: 923\n",
      "Term: my, Frequency: 765\n",
      "Term: song, Frequency: 748\n",
      "Term: of, Frequency: 722\n",
      "Term: in, Frequency: 612\n",
      "Term: it, Frequency: 586\n",
      "Term: was, Frequency: 584\n",
      "Term: me, Frequency: 388\n",
      "Term: is, Frequency: 375\n",
      "Term: you, Frequency: 367\n",
      "Term: that, Frequency: 360\n",
      "Term: so, Frequency: 315\n",
      "Term: love, Frequency: 309\n",
      "Term: when, Frequency: 299\n",
      "Term: back, Frequency: 290\n",
      "Term: for, Frequency: 278\n",
      "Term: music, Frequency: 267\n",
      "\n",
      "Top documents by frequency:\n",
      "Document Index: 918, Frequency: 94\n",
      "Document Index: 909, Frequency: 92\n",
      "Document Index: 1078, Frequency: 88\n",
      "Document Index: 221, Frequency: 88\n",
      "Document Index: 368, Frequency: 87\n",
      "Document Index: 1110, Frequency: 87\n",
      "Document Index: 1061, Frequency: 86\n",
      "Document Index: 1179, Frequency: 85\n",
      "Document Index: 200, Frequency: 85\n",
      "Document Index: 812, Frequency: 84\n"
     ]
    }
   ],
   "source": [
    "# Calculate term frequencies\n",
    "term_frequencies = np.array(dtm.sum(axis=0)).flatten()\n",
    "num_top_terms = 20  # Number of top terms to retrieve\n",
    "top_term_indices = term_frequencies.argsort()[-num_top_terms:][::-1]  # Indices of most frequent terms\n",
    "top_terms = vectorizer.get_feature_names_out()[top_term_indices]\n",
    "\n",
    "# Display the top terms with their frequencies\n",
    "top_term_frequencies = term_frequencies[top_term_indices]\n",
    "for term, freq in zip(top_terms, top_term_frequencies):\n",
    "    print(f\"Term: {term}, Frequency: {freq}\")\n",
    "\n",
    "# Calculate document frequencies and retrieve top documents\n",
    "doc_frequencies = np.array(dtm.sum(axis=1)).flatten()\n",
    "num_top_docs = 10  # Number of top documents to retrieve\n",
    "top_doc_indices = doc_frequencies.argsort()[-num_top_docs:][::-1]  # Indices of most frequent documents\n",
    "\n",
    "# Display the indices and frequencies of the top documents\n",
    "print(\"\\nTop documents by frequency:\")\n",
    "for idx in top_doc_indices:\n",
    "    print(f\"Document Index: {idx}, Frequency: {doc_frequencies[idx]}\")\n"
   ]
  },
  {
   "cell_type": "code",
   "execution_count": 18,
   "metadata": {},
   "outputs": [
    {
     "data": {
      "image/png": "[encoded data removed]",
      "text/plain": [
       "<Figure size 1200x800 with 2 Axes>"
      ]
     },
     "metadata": {},
     "output_type": "display_data"
    }
   ],
   "source": [
    "# Prepare data for heatmap visualization\n",
    "heatmap_data = dtm[top_doc_indices, :][:, top_term_indices].toarray()\n",
    "columns = [f\"Term_{term}\" for term in top_terms]\n",
    "index = [f\"Doc_{doc}\" for doc in top_doc_indices]\n",
    "df_heatmap = pd.DataFrame(heatmap_data, columns=columns, index=index)\n",
    "\n",
    "plt.figure(figsize=(12, 8))\n",
    "sns.set_theme(style=\"whitegrid\")  # Change the theme\n",
    "\n",
    "heatmap = sns.heatmap(\n",
    "    df_heatmap,\n",
    "    cmap=\"YlGnBu\",  \n",
    "    linewidths=0.5,  # Add gridlines between cells\n",
    "    linecolor=\"gray\",\n",
    "    vmin=0,\n",
    "    vmax=np.max(heatmap_data),\n",
    "    annot=True,\n",
    "    fmt=\"d\",\n",
    "    cbar_kws={'label': 'Frequency'},\n",
    "    annot_kws={'fontsize': 9}\n",
    ")\n",
    "\n",
    "# Customize the plot appearance\n",
    "plt.title(\"Top Terms Heatmap\", fontsize=14, weight='bold')\n",
    "plt.xlabel(\"Most Frequent Terms\", fontsize=12)\n",
    "plt.ylabel(\"Document Index\", fontsize=12)\n",
    "plt.xticks(rotation=45, ha='right', fontsize=10)\n",
    "plt.yticks(fontsize=10)\n",
    "plt.tight_layout()  # Adjust layout to fit labels\n",
    "\n",
    "# Display the heatmap\n",
    "plt.show()\n"
   ]
  },
  {
   "cell_type": "code",
   "execution_count": 20,
   "metadata": {},
   "outputs": [
    {
     "data": {
      "application/vnd.plotly.v1+json": {
       "config": {
        "plotlyServerURL": "https://plot.ly"
       },
       "data": [
        {
         "hoverinfo": "x+y",
         "marker": {
          "color": [
           1351,
           997,
           937,
           923,
           765,
           748,
           722,
           612,
           586,
           584,
           388,
           375,
           367,
           360,
           315,
           309,
           299,
           290,
           278,
           267,
           244,
           240,
           222,
           213,
           209,
           195,
           186,
           184,
           181,
           178,
           172,
           171,
           169,
           167,
           160,
           159,
           154,
           153,
           143,
           142,
           139,
           139,
           139,
           138,
           137,
           137,
           137,
           136,
           136,
           132,
           127,
           123,
           118,
           117,
           115,
           108,
           105,
           103,
           102,
           100,
           100,
           100,
           95,
           94,
           94,
           93,
           92,
           89,
           89,
           88,
           88,
           87,
           86,
           86,
           85,
           85,
           85,
           82,
           82,
           81,
           81,
           79,
           79,
           78,
           76,
           76,
           76,
           76,
           76,
           75,
           74,
           73,
           73,
           72,
           72,
           71,
           70,
           68,
           67,
           67,
           66,
           65,
           64,
           64,
           62,
           61,
           61,
           60,
           60,
           60,
           60,
           59,
           59,
           56,
           55,
           55,
           55,
           54,
           54,
           53,
           52,
           52,
           52,
           51,
           50,
           50,
           50,
           50,
           50,
           50,
           49,
           48,
           48,
           48,
           48,
           47,
           47,
           47,
           47,
           47,
           47,
           47,
           47,
           46,
           46,
           45,
           45,
           45,
           44,
           42,
           40,
           40,
           40,
           40,
           39,
           39,
           39,
           39,
           39,
           38,
           38,
           38,
           37,
           37,
           37,
           37,
           36,
           36,
           36,
           35,
           35,
           35,
           35,
           35,
           35,
           35,
           34,
           34,
           34,
           34,
           33,
           33,
           33,
           33,
           32,
           31,
           31,
           30,
           30,
           30,
           30,
           29,
           29,
           29,
           28,
           28,
           28,
           28,
           28,
           27,
           27,
           27,
           26,
           26,
           26,
           26,
           26,
           26,
           26,
           26,
           25,
           25,
           25,
           25,
           25,
           25,
           24,
           24,
           24,
           24,
           24,
           24,
           24,
           23,
           23,
           23,
           23,
           23,
           23,
           23,
           22,
           22,
           22,
           22,
           22,
           22,
           22,
           22,
           22,
           21,
           21,
           21,
           21,
           21,
           21,
           21,
           21,
           21,
           21,
           20
          ],
          "colorscale": [
           [
            0,
            "#440154"
           ],
           [
            0.1111111111111111,
            "#482878"
           ],
           [
            0.2222222222222222,
            "#3e4989"
           ],
           [
            0.3333333333333333,
            "#31688e"
           ],
           [
            0.4444444444444444,
            "#26828e"
           ],
           [
            0.5555555555555556,
            "#1f9e89"
           ],
           [
            0.6666666666666666,
            "#35b779"
           ],
           [
            0.7777777777777778,
            "#6ece58"
           ],
           [
            0.8888888888888888,
            "#b5de2b"
           ],
           [
            1,
            "#fde725"
           ]
          ]
         },
         "type": "bar",
         "x": [
          "the",
          "this",
          "to",
          "and",
          "my",
          "song",
          "of",
          "in",
          "it",
          "was",
          "me",
          "is",
          "you",
          "that",
          "so",
          "love",
          "when",
          "back",
          "for",
          "music",
          "memories",
          "on",
          "with",
          "time",
          "great",
          "but",
          "have",
          "years",
          "all",
          "he",
          "beautiful",
          "as",
          "like",
          "one",
          "songs",
          "old",
          "just",
          "her",
          "we",
          "she",
          "at",
          "be",
          "from",
          "good",
          "voice",
          "now",
          "not",
          "what",
          "can",
          "remember",
          "always",
          "his",
          "still",
          "they",
          "much",
          "brings",
          "will",
          "are",
          "never",
          "had",
          "many",
          "days",
          "very",
          "am",
          "up",
          "best",
          "listening",
          "him",
          "thank",
          "these",
          "first",
          "really",
          "miss",
          "who",
          "listen",
          "out",
          "how",
          "hear",
          "about",
          "were",
          "childhood",
          "no",
          "heard",
          "ever",
          "reminds",
          "those",
          "loved",
          "would",
          "there",
          "by",
          "only",
          "know",
          "sing",
          "more",
          "an",
          "has",
          "every",
          "if",
          "dad",
          "life",
          "could",
          "young",
          "then",
          "some",
          "today",
          "used",
          "such",
          "day",
          "don",
          "think",
          "singing",
          "thanks",
          "times",
          "played",
          "again",
          "school",
          "been",
          "do",
          "singer",
          "or",
          "wish",
          "get",
          "too",
          "wonderful",
          "world",
          "favorite",
          "sad",
          "makes",
          "them",
          "most",
          "over",
          "go",
          "did",
          "here",
          "man",
          "happy",
          "people",
          "our",
          "after",
          "came",
          "play",
          "heart",
          "got",
          "ago",
          "little",
          "radio",
          "way",
          "your",
          "come",
          "well",
          "their",
          "nice",
          "real",
          "feel",
          "make",
          "mom",
          "because",
          "version",
          "video",
          "god",
          "passed",
          "than",
          "its",
          "see",
          "away",
          "long",
          "year",
          "better",
          "mum",
          "country",
          "us",
          "age",
          "lyrics",
          "made",
          "why",
          "wow",
          "takes",
          "jim",
          "classic",
          "elvis",
          "being",
          "lovely",
          "amazing",
          "girl",
          "where",
          "live",
          "forever",
          "lot",
          "say",
          "fantastic",
          "name",
          "even",
          "before",
          "playing",
          "dance",
          "early",
          "kid",
          "60",
          "oh",
          "sweet",
          "child",
          "reeves",
          "cry",
          "another",
          "memory",
          "tears",
          "want",
          "any",
          "since",
          "around",
          "into",
          "bring",
          "high",
          "ve",
          "parents",
          "2019",
          "listened",
          "didn",
          "sang",
          "gone",
          "few",
          "70",
          "eyes",
          "record",
          "feeling",
          "tune",
          "singers",
          "true",
          "kind",
          "father",
          "anymore",
          "anyone",
          "words",
          "greatest",
          "hit",
          "died",
          "right",
          "era",
          "which",
          "same",
          "new",
          "sure",
          "other",
          "yes",
          "mother",
          "friend",
          "past",
          "last",
          "later",
          "born"
         ],
         "y": [
          1351,
          997,
          937,
          923,
          765,
          748,
          722,
          612,
          586,
          584,
          388,
          375,
          367,
          360,
          315,
          309,
          299,
          290,
          278,
          267,
          244,
          240,
          222,
          213,
          209,
          195,
          186,
          184,
          181,
          178,
          172,
          171,
          169,
          167,
          160,
          159,
          154,
          153,
          143,
          142,
          139,
          139,
          139,
          138,
          137,
          137,
          137,
          136,
          136,
          132,
          127,
          123,
          118,
          117,
          115,
          108,
          105,
          103,
          102,
          100,
          100,
          100,
          95,
          94,
          94,
          93,
          92,
          89,
          89,
          88,
          88,
          87,
          86,
          86,
          85,
          85,
          85,
          82,
          82,
          81,
          81,
          79,
          79,
          78,
          76,
          76,
          76,
          76,
          76,
          75,
          74,
          73,
          73,
          72,
          72,
          71,
          70,
          68,
          67,
          67,
          66,
          65,
          64,
          64,
          62,
          61,
          61,
          60,
          60,
          60,
          60,
          59,
          59,
          56,
          55,
          55,
          55,
          54,
          54,
          53,
          52,
          52,
          52,
          51,
          50,
          50,
          50,
          50,
          50,
          50,
          49,
          48,
          48,
          48,
          48,
          47,
          47,
          47,
          47,
          47,
          47,
          47,
          47,
          46,
          46,
          45,
          45,
          45,
          44,
          42,
          40,
          40,
          40,
          40,
          39,
          39,
          39,
          39,
          39,
          38,
          38,
          38,
          37,
          37,
          37,
          37,
          36,
          36,
          36,
          35,
          35,
          35,
          35,
          35,
          35,
          35,
          34,
          34,
          34,
          34,
          33,
          33,
          33,
          33,
          32,
          31,
          31,
          30,
          30,
          30,
          30,
          29,
          29,
          29,
          28,
          28,
          28,
          28,
          28,
          27,
          27,
          27,
          26,
          26,
          26,
          26,
          26,
          26,
          26,
          26,
          25,
          25,
          25,
          25,
          25,
          25,
          24,
          24,
          24,
          24,
          24,
          24,
          24,
          23,
          23,
          23,
          23,
          23,
          23,
          23,
          22,
          22,
          22,
          22,
          22,
          22,
          22,
          22,
          22,
          21,
          21,
          21,
          21,
          21,
          21,
          21,
          21,
          21,
          21,
          20
         ]
        }
       ],
       "layout": {
        "bargap": 0.2,
        "height": 600,
        "template": {
         "data": {
          "bar": [
           {
            "error_x": {
             "color": "#2a3f5f"
            },
            "error_y": {
             "color": "#2a3f5f"
            },
            "marker": {
             "line": {
              "color": "white",
              "width": 0.5
             },
             "pattern": {
              "fillmode": "overlay",
              "size": 10,
              "solidity": 0.2
             }
            },
            "type": "bar"
           }
          ],
          "barpolar": [
           {
            "marker": {
             "line": {
              "color": "white",
              "width": 0.5
             },
             "pattern": {
              "fillmode": "overlay",
              "size": 10,
              "solidity": 0.2
             }
            },
            "type": "barpolar"
           }
          ],
          "carpet": [
           {
            "aaxis": {
             "endlinecolor": "#2a3f5f",
             "gridcolor": "#C8D4E3",
             "linecolor": "#C8D4E3",
             "minorgridcolor": "#C8D4E3",
             "startlinecolor": "#2a3f5f"
            },
            "baxis": {
             "endlinecolor": "#2a3f5f",
             "gridcolor": "#C8D4E3",
             "linecolor": "#C8D4E3",
             "minorgridcolor": "#C8D4E3",
             "startlinecolor": "#2a3f5f"
            },
            "type": "carpet"
           }
          ],
          "choropleth": [
           {
            "colorbar": {
             "outlinewidth": 0,
             "ticks": ""
            },
            "type": "choropleth"
           }
          ],
          "contour": [
           {
            "colorbar": {
             "outlinewidth": 0,
             "ticks": ""
            },
            "colorscale": [
             [
              0,
              "#0d0887"
             ],
             [
              0.1111111111111111,
              "#46039f"
             ],
             [
              0.2222222222222222,
              "#7201a8"
             ],
             [
              0.3333333333333333,
              "#9c179e"
             ],
             [
              0.4444444444444444,
              "#bd3786"
             ],
             [
              0.5555555555555556,
              "#d8576b"
             ],
             [
              0.6666666666666666,
              "#ed7953"
             ],
             [
              0.7777777777777778,
              "#fb9f3a"
             ],
             [
              0.8888888888888888,
              "#fdca26"
             ],
             [
              1,
              "#f0f921"
             ]
            ],
            "type": "contour"
           }
          ],
          "contourcarpet": [
           {
            "colorbar": {
             "outlinewidth": 0,
             "ticks": ""
            },
            "type": "contourcarpet"
           }
          ],
          "heatmap": [
           {
            "colorbar": {
             "outlinewidth": 0,
             "ticks": ""
            },
            "colorscale": [
             [
              0,
              "#0d0887"
             ],
             [
              0.1111111111111111,
              "#46039f"
             ],
             [
              0.2222222222222222,
              "#7201a8"
             ],
             [
              0.3333333333333333,
              "#9c179e"
             ],
             [
              0.4444444444444444,
              "#bd3786"
             ],
             [
              0.5555555555555556,
              "#d8576b"
             ],
             [
              0.6666666666666666,
              "#ed7953"
             ],
             [
              0.7777777777777778,
              "#fb9f3a"
             ],
             [
              0.8888888888888888,
              "#fdca26"
             ],
             [
              1,
              "#f0f921"
             ]
            ],
            "type": "heatmap"
           }
          ],
          "heatmapgl": [
           {
            "colorbar": {
             "outlinewidth": 0,
             "ticks": ""
            },
            "colorscale": [
             [
              0,
              "#0d0887"
             ],
             [
              0.1111111111111111,
              "#46039f"
             ],
             [
              0.2222222222222222,
              "#7201a8"
             ],
             [
              0.3333333333333333,
              "#9c179e"
             ],
             [
              0.4444444444444444,
              "#bd3786"
             ],
             [
              0.5555555555555556,
              "#d8576b"
             ],
             [
              0.6666666666666666,
              "#ed7953"
             ],
             [
              0.7777777777777778,
              "#fb9f3a"
             ],
             [
              0.8888888888888888,
              "#fdca26"
             ],
             [
              1,
              "#f0f921"
             ]
            ],
            "type": "heatmapgl"
           }
          ],
          "histogram": [
           {
            "marker": {
             "pattern": {
              "fillmode": "overlay",
              "size": 10,
              "solidity": 0.2
             }
            },
            "type": "histogram"
           }
          ],
          "histogram2d": [
           {
            "colorbar": {
             "outlinewidth": 0,
             "ticks": ""
            },
            "colorscale": [
             [
              0,
              "#0d0887"
             ],
             [
              0.1111111111111111,
              "#46039f"
             ],
             [
              0.2222222222222222,
              "#7201a8"
             ],
             [
              0.3333333333333333,
              "#9c179e"
             ],
             [
              0.4444444444444444,
              "#bd3786"
             ],
             [
              0.5555555555555556,
              "#d8576b"
             ],
             [
              0.6666666666666666,
              "#ed7953"
             ],
             [
              0.7777777777777778,
              "#fb9f3a"
             ],
             [
              0.8888888888888888,
              "#fdca26"
             ],
             [
              1,
              "#f0f921"
             ]
            ],
            "type": "histogram2d"
           }
          ],
          "histogram2dcontour": [
           {
            "colorbar": {
             "outlinewidth": 0,
             "ticks": ""
            },
            "colorscale": [
             [
              0,
              "#0d0887"
             ],
             [
              0.1111111111111111,
              "#46039f"
             ],
             [
              0.2222222222222222,
              "#7201a8"
             ],
             [
              0.3333333333333333,
              "#9c179e"
             ],
             [
              0.4444444444444444,
              "#bd3786"
             ],
             [
              0.5555555555555556,
              "#d8576b"
             ],
             [
              0.6666666666666666,
              "#ed7953"
             ],
             [
              0.7777777777777778,
              "#fb9f3a"
             ],
             [
              0.8888888888888888,
              "#fdca26"
             ],
             [
              1,
              "#f0f921"
             ]
            ],
            "type": "histogram2dcontour"
           }
          ],
          "mesh3d": [
           {
            "colorbar": {
             "outlinewidth": 0,
             "ticks": ""
            },
            "type": "mesh3d"
           }
          ],
          "parcoords": [
           {
            "line": {
             "colorbar": {
              "outlinewidth": 0,
              "ticks": ""
             }
            },
            "type": "parcoords"
           }
          ],
          "pie": [
           {
            "automargin": true,
            "type": "pie"
           }
          ],
          "scatter": [
           {
            "fillpattern": {
             "fillmode": "overlay",
             "size": 10,
             "solidity": 0.2
            },
            "type": "scatter"
           }
          ],
          "scatter3d": [
           {
            "line": {
             "colorbar": {
              "outlinewidth": 0,
              "ticks": ""
             }
            },
            "marker": {
             "colorbar": {
              "outlinewidth": 0,
              "ticks": ""
             }
            },
            "type": "scatter3d"
           }
          ],
          "scattercarpet": [
           {
            "marker": {
             "colorbar": {
              "outlinewidth": 0,
              "ticks": ""
             }
            },
            "type": "scattercarpet"
           }
          ],
          "scattergeo": [
           {
            "marker": {
             "colorbar": {
              "outlinewidth": 0,
              "ticks": ""
             }
            },
            "type": "scattergeo"
           }
          ],
          "scattergl": [
           {
            "marker": {
             "colorbar": {
              "outlinewidth": 0,
              "ticks": ""
             }
            },
            "type": "scattergl"
           }
          ],
          "scattermapbox": [
           {
            "marker": {
             "colorbar": {
              "outlinewidth": 0,
              "ticks": ""
             }
            },
            "type": "scattermapbox"
           }
          ],
          "scatterpolar": [
           {
            "marker": {
             "colorbar": {
              "outlinewidth": 0,
              "ticks": ""
             }
            },
            "type": "scatterpolar"
           }
          ],
          "scatterpolargl": [
           {
            "marker": {
             "colorbar": {
              "outlinewidth": 0,
              "ticks": ""
             }
            },
            "type": "scatterpolargl"
           }
          ],
          "scatterternary": [
           {
            "marker": {
             "colorbar": {
              "outlinewidth": 0,
              "ticks": ""
             }
            },
            "type": "scatterternary"
           }
          ],
          "surface": [
           {
            "colorbar": {
             "outlinewidth": 0,
             "ticks": ""
            },
            "colorscale": [
             [
              0,
              "#0d0887"
             ],
             [
              0.1111111111111111,
              "#46039f"
             ],
             [
              0.2222222222222222,
              "#7201a8"
             ],
             [
              0.3333333333333333,
              "#9c179e"
             ],
             [
              0.4444444444444444,
              "#bd3786"
             ],
             [
              0.5555555555555556,
              "#d8576b"
             ],
             [
              0.6666666666666666,
              "#ed7953"
             ],
             [
              0.7777777777777778,
              "#fb9f3a"
             ],
             [
              0.8888888888888888,
              "#fdca26"
             ],
             [
              1,
              "#f0f921"
             ]
            ],
            "type": "surface"
           }
          ],
          "table": [
           {
            "cells": {
             "fill": {
              "color": "#EBF0F8"
             },
             "line": {
              "color": "white"
             }
            },
            "header": {
             "fill": {
              "color": "#C8D4E3"
             },
             "line": {
              "color": "white"
             }
            },
            "type": "table"
           }
          ]
         },
         "layout": {
          "annotationdefaults": {
           "arrowcolor": "#2a3f5f",
           "arrowhead": 0,
           "arrowwidth": 1
          },
          "autotypenumbers": "strict",
          "coloraxis": {
           "colorbar": {
            "outlinewidth": 0,
            "ticks": ""
           }
          },
          "colorscale": {
           "diverging": [
            [
             0,
             "#8e0152"
            ],
            [
             0.1,
             "#c51b7d"
            ],
            [
             0.2,
             "#de77ae"
            ],
            [
             0.3,
             "#f1b6da"
            ],
            [
             0.4,
             "#fde0ef"
            ],
            [
             0.5,
             "#f7f7f7"
            ],
            [
             0.6,
             "#e6f5d0"
            ],
            [
             0.7,
             "#b8e186"
            ],
            [
             0.8,
             "#7fbc41"
            ],
            [
             0.9,
             "#4d9221"
            ],
            [
             1,
             "#276419"
            ]
           ],
           "sequential": [
            [
             0,
             "#0d0887"
            ],
            [
             0.1111111111111111,
             "#46039f"
            ],
            [
             0.2222222222222222,
             "#7201a8"
            ],
            [
             0.3333333333333333,
             "#9c179e"
            ],
            [
             0.4444444444444444,
             "#bd3786"
            ],
            [
             0.5555555555555556,
             "#d8576b"
            ],
            [
             0.6666666666666666,
             "#ed7953"
            ],
            [
             0.7777777777777778,
             "#fb9f3a"
            ],
            [
             0.8888888888888888,
             "#fdca26"
            ],
            [
             1,
             "#f0f921"
            ]
           ],
           "sequentialminus": [
            [
             0,
             "#0d0887"
            ],
            [
             0.1111111111111111,
             "#46039f"
            ],
            [
             0.2222222222222222,
             "#7201a8"
            ],
            [
             0.3333333333333333,
             "#9c179e"
            ],
            [
             0.4444444444444444,
             "#bd3786"
            ],
            [
             0.5555555555555556,
             "#d8576b"
            ],
            [
             0.6666666666666666,
             "#ed7953"
            ],
            [
             0.7777777777777778,
             "#fb9f3a"
            ],
            [
             0.8888888888888888,
             "#fdca26"
            ],
            [
             1,
             "#f0f921"
            ]
           ]
          },
          "colorway": [
           "#636efa",
           "#EF553B",
           "#00cc96",
           "#ab63fa",
           "#FFA15A",
           "#19d3f3",
           "#FF6692",
           "#B6E880",
           "#FF97FF",
           "#FECB52"
          ],
          "font": {
           "color": "#2a3f5f"
          },
          "geo": {
           "bgcolor": "white",
           "lakecolor": "white",
           "landcolor": "white",
           "showlakes": true,
           "showland": true,
           "subunitcolor": "#C8D4E3"
          },
          "hoverlabel": {
           "align": "left"
          },
          "hovermode": "closest",
          "mapbox": {
           "style": "light"
          },
          "paper_bgcolor": "white",
          "plot_bgcolor": "white",
          "polar": {
           "angularaxis": {
            "gridcolor": "#EBF0F8",
            "linecolor": "#EBF0F8",
            "ticks": ""
           },
           "bgcolor": "white",
           "radialaxis": {
            "gridcolor": "#EBF0F8",
            "linecolor": "#EBF0F8",
            "ticks": ""
           }
          },
          "scene": {
           "xaxis": {
            "backgroundcolor": "white",
            "gridcolor": "#DFE8F3",
            "gridwidth": 2,
            "linecolor": "#EBF0F8",
            "showbackground": true,
            "ticks": "",
            "zerolinecolor": "#EBF0F8"
           },
           "yaxis": {
            "backgroundcolor": "white",
            "gridcolor": "#DFE8F3",
            "gridwidth": 2,
            "linecolor": "#EBF0F8",
            "showbackground": true,
            "ticks": "",
            "zerolinecolor": "#EBF0F8"
           },
           "zaxis": {
            "backgroundcolor": "white",
            "gridcolor": "#DFE8F3",
            "gridwidth": 2,
            "linecolor": "#EBF0F8",
            "showbackground": true,
            "ticks": "",
            "zerolinecolor": "#EBF0F8"
           }
          },
          "shapedefaults": {
           "line": {
            "color": "#2a3f5f"
           }
          },
          "ternary": {
           "aaxis": {
            "gridcolor": "#DFE8F3",
            "linecolor": "#A2B1C6",
            "ticks": ""
           },
           "baxis": {
            "gridcolor": "#DFE8F3",
            "linecolor": "#A2B1C6",
            "ticks": ""
           },
           "bgcolor": "white",
           "caxis": {
            "gridcolor": "#DFE8F3",
            "linecolor": "#A2B1C6",
            "ticks": ""
           }
          },
          "title": {
           "x": 0.05
          },
          "xaxis": {
           "automargin": true,
           "gridcolor": "#EBF0F8",
           "linecolor": "#EBF0F8",
           "ticks": "",
           "title": {
            "standoff": 15
           },
           "zerolinecolor": "#EBF0F8",
           "zerolinewidth": 2
          },
          "yaxis": {
           "automargin": true,
           "gridcolor": "#EBF0F8",
           "linecolor": "#EBF0F8",
           "ticks": "",
           "title": {
            "standoff": 15
           },
           "zerolinecolor": "#EBF0F8",
           "zerolinewidth": 2
          }
         }
        },
        "title": {
         "text": "Top 300 Term Frequencies"
        },
        "width": 1200,
        "xaxis": {
         "autorange": true,
         "range": [
          -0.5,
          249.5
         ],
         "tickangle": -45,
         "title": {
          "text": "Terms"
         },
         "type": "category"
        },
        "yaxis": {
         "autorange": true,
         "range": [
          0,
          1422.1052631578948
         ],
         "title": {
          "text": "Frequency"
         },
         "type": "linear"
        }
       }
      },
      "image/png": "[encoded data removed]",
      "text/html": [
       "<div>                            <div id=\"d1190a84-62bc-4511-9fee-572c4c405c66\" class=\"plotly-graph-div\" style=\"height:600px; width:1200px;\"></div>            <script type=\"text/javascript\">                require([\"plotly\"], function(Plotly) {                    window.PLOTLYENV=window.PLOTLYENV || {};                                    if (document.getElementById(\"d1190a84-62bc-4511-9fee-572c4c405c66\")) {                    Plotly.newPlot(                        \"d1190a84-62bc-4511-9fee-572c4c405c66\",                        [{\"hoverinfo\":\"x+y\",\"marker\":{\"color\":[1351,997,937,923,765,748,722,612,586,584,388,375,367,360,315,309,299,290,278,267,244,240,222,213,209,195,186,184,181,178,172,171,169,167,160,159,154,153,143,142,139,139,139,138,137,137,137,136,136,132,127,123,118,117,115,108,105,103,102,100,100,100,95,94,94,93,92,89,89,88,88,87,86,86,85,85,85,82,82,81,81,79,79,78,76,76,76,76,76,75,74,73,73,72,72,71,70,68,67,67,66,65,64,64,62,61,61,60,60,60,60,59,59,56,55,55,55,54,54,53,52,52,52,51,50,50,50,50,50,50,49,48,48,48,48,47,47,47,47,47,47,47,47,46,46,45,45,45,44,42,40,40,40,40,39,39,39,39,39,38,38,38,37,37,37,37,36,36,36,35,35,35,35,35,35,35,34,34,34,34,33,33,33,33,32,31,31,30,30,30,30,29,29,29,28,28,28,28,28,27,27,27,26,26,26,26,26,26,26,26,25,25,25,25,25,25,24,24,24,24,24,24,24,23,23,23,23,23,23,23,22,22,22,22,22,22,22,22,22,21,21,21,21,21,21,21,21,21,21,20],\"colorscale\":[[0.0,\"#440154\"],[0.1111111111111111,\"#482878\"],[0.2222222222222222,\"#3e4989\"],[0.3333333333333333,\"#31688e\"],[0.4444444444444444,\"#26828e\"],[0.5555555555555556,\"#1f9e89\"],[0.6666666666666666,\"#35b779\"],[0.7777777777777778,\"#6ece58\"],[0.8888888888888888,\"#b5de2b\"],[1.0,\"#fde725\"]]},\"x\":[\"the\",\"this\",\"to\",\"and\",\"my\",\"song\",\"of\",\"in\",\"it\",\"was\",\"me\",\"is\",\"you\",\"that\",\"so\",\"love\",\"when\",\"back\",\"for\",\"music\",\"memories\",\"on\",\"with\",\"time\",\"great\",\"but\",\"have\",\"years\",\"all\",\"he\",\"beautiful\",\"as\",\"like\",\"one\",\"songs\",\"old\",\"just\",\"her\",\"we\",\"she\",\"at\",\"be\",\"from\",\"good\",\"voice\",\"now\",\"not\",\"what\",\"can\",\"remember\",\"always\",\"his\",\"still\",\"they\",\"much\",\"brings\",\"will\",\"are\",\"never\",\"had\",\"many\",\"days\",\"very\",\"am\",\"up\",\"best\",\"listening\",\"him\",\"thank\",\"these\",\"first\",\"really\",\"miss\",\"who\",\"listen\",\"out\",\"how\",\"hear\",\"about\",\"were\",\"childhood\",\"no\",\"heard\",\"ever\",\"reminds\",\"those\",\"loved\",\"would\",\"there\",\"by\",\"only\",\"know\",\"sing\",\"more\",\"an\",\"has\",\"every\",\"if\",\"dad\",\"life\",\"could\",\"young\",\"then\",\"some\",\"today\",\"used\",\"such\",\"day\",\"don\",\"think\",\"singing\",\"thanks\",\"times\",\"played\",\"again\",\"school\",\"been\",\"do\",\"singer\",\"or\",\"wish\",\"get\",\"too\",\"wonderful\",\"world\",\"favorite\",\"sad\",\"makes\",\"them\",\"most\",\"over\",\"go\",\"did\",\"here\",\"man\",\"happy\",\"people\",\"our\",\"after\",\"came\",\"play\",\"heart\",\"got\",\"ago\",\"little\",\"radio\",\"way\",\"your\",\"come\",\"well\",\"their\",\"nice\",\"real\",\"feel\",\"make\",\"mom\",\"because\",\"version\",\"video\",\"god\",\"passed\",\"than\",\"its\",\"see\",\"away\",\"long\",\"year\",\"better\",\"mum\",\"country\",\"us\",\"age\",\"lyrics\",\"made\",\"why\",\"wow\",\"takes\",\"jim\",\"classic\",\"elvis\",\"being\",\"lovely\",\"amazing\",\"girl\",\"where\",\"live\",\"forever\",\"lot\",\"say\",\"fantastic\",\"name\",\"even\",\"before\",\"playing\",\"dance\",\"early\",\"kid\",\"60\",\"oh\",\"sweet\",\"child\",\"reeves\",\"cry\",\"another\",\"memory\",\"tears\",\"want\",\"any\",\"since\",\"around\",\"into\",\"bring\",\"high\",\"ve\",\"parents\",\"2019\",\"listened\",\"didn\",\"sang\",\"gone\",\"few\",\"70\",\"eyes\",\"record\",\"feeling\",\"tune\",\"singers\",\"true\",\"kind\",\"father\",\"anymore\",\"anyone\",\"words\",\"greatest\",\"hit\",\"died\",\"right\",\"era\",\"which\",\"same\",\"new\",\"sure\",\"other\",\"yes\",\"mother\",\"friend\",\"past\",\"last\",\"later\",\"born\"],\"y\":[1351,997,937,923,765,748,722,612,586,584,388,375,367,360,315,309,299,290,278,267,244,240,222,213,209,195,186,184,181,178,172,171,169,167,160,159,154,153,143,142,139,139,139,138,137,137,137,136,136,132,127,123,118,117,115,108,105,103,102,100,100,100,95,94,94,93,92,89,89,88,88,87,86,86,85,85,85,82,82,81,81,79,79,78,76,76,76,76,76,75,74,73,73,72,72,71,70,68,67,67,66,65,64,64,62,61,61,60,60,60,60,59,59,56,55,55,55,54,54,53,52,52,52,51,50,50,50,50,50,50,49,48,48,48,48,47,47,47,47,47,47,47,47,46,46,45,45,45,44,42,40,40,40,40,39,39,39,39,39,38,38,38,37,37,37,37,36,36,36,35,35,35,35,35,35,35,34,34,34,34,33,33,33,33,32,31,31,30,30,30,30,29,29,29,28,28,28,28,28,27,27,27,26,26,26,26,26,26,26,26,25,25,25,25,25,25,24,24,24,24,24,24,24,23,23,23,23,23,23,23,22,22,22,22,22,22,22,22,22,21,21,21,21,21,21,21,21,21,21,20],\"type\":\"bar\"}],                        {\"template\":{\"data\":{\"barpolar\":[{\"marker\":{\"line\":{\"color\":\"white\",\"width\":0.5},\"pattern\":{\"fillmode\":\"overlay\",\"size\":10,\"solidity\":0.2}},\"type\":\"barpolar\"}],\"bar\":[{\"error_x\":{\"color\":\"#2a3f5f\"},\"error_y\":{\"color\":\"#2a3f5f\"},\"marker\":{\"line\":{\"color\":\"white\",\"width\":0.5},\"pattern\":{\"fillmode\":\"overlay\",\"size\":10,\"solidity\":0.2}},\"type\":\"bar\"}],\"carpet\":[{\"aaxis\":{\"endlinecolor\":\"#2a3f5f\",\"gridcolor\":\"#C8D4E3\",\"linecolor\":\"#C8D4E3\",\"minorgridcolor\":\"#C8D4E3\",\"startlinecolor\":\"#2a3f5f\"},\"baxis\":{\"endlinecolor\":\"#2a3f5f\",\"gridcolor\":\"#C8D4E3\",\"linecolor\":\"#C8D4E3\",\"minorgridcolor\":\"#C8D4E3\",\"startlinecolor\":\"#2a3f5f\"},\"type\":\"carpet\"}],\"choropleth\":[{\"colorbar\":{\"outlinewidth\":0,\"ticks\":\"\"},\"type\":\"choropleth\"}],\"contourcarpet\":[{\"colorbar\":{\"outlinewidth\":0,\"ticks\":\"\"},\"type\":\"contourcarpet\"}],\"contour\":[{\"colorbar\":{\"outlinewidth\":0,\"ticks\":\"\"},\"colorscale\":[[0.0,\"#0d0887\"],[0.1111111111111111,\"#46039f\"],[0.2222222222222222,\"#7201a8\"],[0.3333333333333333,\"#9c179e\"],[0.4444444444444444,\"#bd3786\"],[0.5555555555555556,\"#d8576b\"],[0.6666666666666666,\"#ed7953\"],[0.7777777777777778,\"#fb9f3a\"],[0.8888888888888888,\"#fdca26\"],[1.0,\"#f0f921\"]],\"type\":\"contour\"}],\"heatmapgl\":[{\"colorbar\":{\"outlinewidth\":0,\"ticks\":\"\"},\"colorscale\":[[0.0,\"#0d0887\"],[0.1111111111111111,\"#46039f\"],[0.2222222222222222,\"#7201a8\"],[0.3333333333333333,\"#9c179e\"],[0.4444444444444444,\"#bd3786\"],[0.5555555555555556,\"#d8576b\"],[0.6666666666666666,\"#ed7953\"],[0.7777777777777778,\"#fb9f3a\"],[0.8888888888888888,\"#fdca26\"],[1.0,\"#f0f921\"]],\"type\":\"heatmapgl\"}],\"heatmap\":[{\"colorbar\":{\"outlinewidth\":0,\"ticks\":\"\"},\"colorscale\":[[0.0,\"#0d0887\"],[0.1111111111111111,\"#46039f\"],[0.2222222222222222,\"#7201a8\"],[0.3333333333333333,\"#9c179e\"],[0.4444444444444444,\"#bd3786\"],[0.5555555555555556,\"#d8576b\"],[0.6666666666666666,\"#ed7953\"],[0.7777777777777778,\"#fb9f3a\"],[0.8888888888888888,\"#fdca26\"],[1.0,\"#f0f921\"]],\"type\":\"heatmap\"}],\"histogram2dcontour\":[{\"colorbar\":{\"outlinewidth\":0,\"ticks\":\"\"},\"colorscale\":[[0.0,\"#0d0887\"],[0.1111111111111111,\"#46039f\"],[0.2222222222222222,\"#7201a8\"],[0.3333333333333333,\"#9c179e\"],[0.4444444444444444,\"#bd3786\"],[0.5555555555555556,\"#d8576b\"],[0.6666666666666666,\"#ed7953\"],[0.7777777777777778,\"#fb9f3a\"],[0.8888888888888888,\"#fdca26\"],[1.0,\"#f0f921\"]],\"type\":\"histogram2dcontour\"}],\"histogram2d\":[{\"colorbar\":{\"outlinewidth\":0,\"ticks\":\"\"},\"colorscale\":[[0.0,\"#0d0887\"],[0.1111111111111111,\"#46039f\"],[0.2222222222222222,\"#7201a8\"],[0.3333333333333333,\"#9c179e\"],[0.4444444444444444,\"#bd3786\"],[0.5555555555555556,\"#d8576b\"],[0.6666666666666666,\"#ed7953\"],[0.7777777777777778,\"#fb9f3a\"],[0.8888888888888888,\"#fdca26\"],[1.0,\"#f0f921\"]],\"type\":\"histogram2d\"}],\"histogram\":[{\"marker\":{\"pattern\":{\"fillmode\":\"overlay\",\"size\":10,\"solidity\":0.2}},\"type\":\"histogram\"}],\"mesh3d\":[{\"colorbar\":{\"outlinewidth\":0,\"ticks\":\"\"},\"type\":\"mesh3d\"}],\"parcoords\":[{\"line\":{\"colorbar\":{\"outlinewidth\":0,\"ticks\":\"\"}},\"type\":\"parcoords\"}],\"pie\":[{\"automargin\":true,\"type\":\"pie\"}],\"scatter3d\":[{\"line\":{\"colorbar\":{\"outlinewidth\":0,\"ticks\":\"\"}},\"marker\":{\"colorbar\":{\"outlinewidth\":0,\"ticks\":\"\"}},\"type\":\"scatter3d\"}],\"scattercarpet\":[{\"marker\":{\"colorbar\":{\"outlinewidth\":0,\"ticks\":\"\"}},\"type\":\"scattercarpet\"}],\"scattergeo\":[{\"marker\":{\"colorbar\":{\"outlinewidth\":0,\"ticks\":\"\"}},\"type\":\"scattergeo\"}],\"scattergl\":[{\"marker\":{\"colorbar\":{\"outlinewidth\":0,\"ticks\":\"\"}},\"type\":\"scattergl\"}],\"scattermapbox\":[{\"marker\":{\"colorbar\":{\"outlinewidth\":0,\"ticks\":\"\"}},\"type\":\"scattermapbox\"}],\"scatterpolargl\":[{\"marker\":{\"colorbar\":{\"outlinewidth\":0,\"ticks\":\"\"}},\"type\":\"scatterpolargl\"}],\"scatterpolar\":[{\"marker\":{\"colorbar\":{\"outlinewidth\":0,\"ticks\":\"\"}},\"type\":\"scatterpolar\"}],\"scatter\":[{\"fillpattern\":{\"fillmode\":\"overlay\",\"size\":10,\"solidity\":0.2},\"type\":\"scatter\"}],\"scatterternary\":[{\"marker\":{\"colorbar\":{\"outlinewidth\":0,\"ticks\":\"\"}},\"type\":\"scatterternary\"}],\"surface\":[{\"colorbar\":{\"outlinewidth\":0,\"ticks\":\"\"},\"colorscale\":[[0.0,\"#0d0887\"],[0.1111111111111111,\"#46039f\"],[0.2222222222222222,\"#7201a8\"],[0.3333333333333333,\"#9c179e\"],[0.4444444444444444,\"#bd3786\"],[0.5555555555555556,\"#d8576b\"],[0.6666666666666666,\"#ed7953\"],[0.7777777777777778,\"#fb9f3a\"],[0.8888888888888888,\"#fdca26\"],[1.0,\"#f0f921\"]],\"type\":\"surface\"}],\"table\":[{\"cells\":{\"fill\":{\"color\":\"#EBF0F8\"},\"line\":{\"color\":\"white\"}},\"header\":{\"fill\":{\"color\":\"#C8D4E3\"},\"line\":{\"color\":\"white\"}},\"type\":\"table\"}]},\"layout\":{\"annotationdefaults\":{\"arrowcolor\":\"#2a3f5f\",\"arrowhead\":0,\"arrowwidth\":1},\"autotypenumbers\":\"strict\",\"coloraxis\":{\"colorbar\":{\"outlinewidth\":0,\"ticks\":\"\"}},\"colorscale\":{\"diverging\":[[0,\"#8e0152\"],[0.1,\"#c51b7d\"],[0.2,\"#de77ae\"],[0.3,\"#f1b6da\"],[0.4,\"#fde0ef\"],[0.5,\"#f7f7f7\"],[0.6,\"#e6f5d0\"],[0.7,\"#b8e186\"],[0.8,\"#7fbc41\"],[0.9,\"#4d9221\"],[1,\"#276419\"]],\"sequential\":[[0.0,\"#0d0887\"],[0.1111111111111111,\"#46039f\"],[0.2222222222222222,\"#7201a8\"],[0.3333333333333333,\"#9c179e\"],[0.4444444444444444,\"#bd3786\"],[0.5555555555555556,\"#d8576b\"],[0.6666666666666666,\"#ed7953\"],[0.7777777777777778,\"#fb9f3a\"],[0.8888888888888888,\"#fdca26\"],[1.0,\"#f0f921\"]],\"sequentialminus\":[[0.0,\"#0d0887\"],[0.1111111111111111,\"#46039f\"],[0.2222222222222222,\"#7201a8\"],[0.3333333333333333,\"#9c179e\"],[0.4444444444444444,\"#bd3786\"],[0.5555555555555556,\"#d8576b\"],[0.6666666666666666,\"#ed7953\"],[0.7777777777777778,\"#fb9f3a\"],[0.8888888888888888,\"#fdca26\"],[1.0,\"#f0f921\"]]},\"colorway\":[\"#636efa\",\"#EF553B\",\"#00cc96\",\"#ab63fa\",\"#FFA15A\",\"#19d3f3\",\"#FF6692\",\"#B6E880\",\"#FF97FF\",\"#FECB52\"],\"font\":{\"color\":\"#2a3f5f\"},\"geo\":{\"bgcolor\":\"white\",\"lakecolor\":\"white\",\"landcolor\":\"white\",\"showlakes\":true,\"showland\":true,\"subunitcolor\":\"#C8D4E3\"},\"hoverlabel\":{\"align\":\"left\"},\"hovermode\":\"closest\",\"mapbox\":{\"style\":\"light\"},\"paper_bgcolor\":\"white\",\"plot_bgcolor\":\"white\",\"polar\":{\"angularaxis\":{\"gridcolor\":\"#EBF0F8\",\"linecolor\":\"#EBF0F8\",\"ticks\":\"\"},\"bgcolor\":\"white\",\"radialaxis\":{\"gridcolor\":\"#EBF0F8\",\"linecolor\":\"#EBF0F8\",\"ticks\":\"\"}},\"scene\":{\"xaxis\":{\"backgroundcolor\":\"white\",\"gridcolor\":\"#DFE8F3\",\"gridwidth\":2,\"linecolor\":\"#EBF0F8\",\"showbackground\":true,\"ticks\":\"\",\"zerolinecolor\":\"#EBF0F8\"},\"yaxis\":{\"backgroundcolor\":\"white\",\"gridcolor\":\"#DFE8F3\",\"gridwidth\":2,\"linecolor\":\"#EBF0F8\",\"showbackground\":true,\"ticks\":\"\",\"zerolinecolor\":\"#EBF0F8\"},\"zaxis\":{\"backgroundcolor\":\"white\",\"gridcolor\":\"#DFE8F3\",\"gridwidth\":2,\"linecolor\":\"#EBF0F8\",\"showbackground\":true,\"ticks\":\"\",\"zerolinecolor\":\"#EBF0F8\"}},\"shapedefaults\":{\"line\":{\"color\":\"#2a3f5f\"}},\"ternary\":{\"aaxis\":{\"gridcolor\":\"#DFE8F3\",\"linecolor\":\"#A2B1C6\",\"ticks\":\"\"},\"baxis\":{\"gridcolor\":\"#DFE8F3\",\"linecolor\":\"#A2B1C6\",\"ticks\":\"\"},\"bgcolor\":\"white\",\"caxis\":{\"gridcolor\":\"#DFE8F3\",\"linecolor\":\"#A2B1C6\",\"ticks\":\"\"}},\"title\":{\"x\":0.05},\"xaxis\":{\"automargin\":true,\"gridcolor\":\"#EBF0F8\",\"linecolor\":\"#EBF0F8\",\"ticks\":\"\",\"title\":{\"standoff\":15},\"zerolinecolor\":\"#EBF0F8\",\"zerolinewidth\":2},\"yaxis\":{\"automargin\":true,\"gridcolor\":\"#EBF0F8\",\"linecolor\":\"#EBF0F8\",\"ticks\":\"\",\"title\":{\"standoff\":15},\"zerolinecolor\":\"#EBF0F8\",\"zerolinewidth\":2}}},\"xaxis\":{\"title\":{\"text\":\"Terms\"},\"tickangle\":-45},\"title\":{\"text\":\"Top 300 Term Frequencies\"},\"yaxis\":{\"title\":{\"text\":\"Frequency\"}},\"height\":600,\"width\":1200,\"bargap\":0.2},                        {\"responsive\": true}                    ).then(function(){\n",
       "                            \n",
       "var gd = document.getElementById('d1190a84-62bc-4511-9fee-572c4c405c66');\n",
       "var x = new MutationObserver(function (mutations, observer) {{\n",
       "        var display = window.getComputedStyle(gd).display;\n",
       "        if (!display || display === 'none') {{\n",
       "            console.log([gd, 'removed!']);\n",
       "            Plotly.purge(gd);\n",
       "            observer.disconnect();\n",
       "        }}\n",
       "}});\n",
       "\n",
       "// Listen for the removal of the full notebook cells\n",
       "var notebookContainer = gd.closest('#notebook-container');\n",
       "if (notebookContainer) {{\n",
       "    x.observe(notebookContainer, {childList: true});\n",
       "}}\n",
       "\n",
       "// Listen for the clearing of the current output cell\n",
       "var outputEl = gd.closest('.output');\n",
       "if (outputEl) {{\n",
       "    x.observe(outputEl, {childList: true});\n",
       "}}\n",
       "\n",
       "                        })                };                });            </script>        </div>"
      ]
     },
     "metadata": {},
     "output_type": "display_data"
    }
   ],
   "source": [
    "import plotly.graph_objects as go\n",
    "\n",
    "# Calculate Term Frequencies\n",
    "term_frequencies = np.array(dtm.sum(axis=0)).flatten()\n",
    "\n",
    "# Select top n terms by frequency\n",
    "num_terms = 250\n",
    "top_indices = term_frequencies.argsort()[-num_terms:][::-1]\n",
    "top_terms = vectorizer.get_feature_names_out()[top_indices]\n",
    "top_frequencies = term_frequencies[top_indices]\n",
    "\n",
    "# Create an interactive bar chart with Plotly\n",
    "fig = go.Figure()\n",
    "\n",
    "fig.add_trace(\n",
    "    go.Bar(\n",
    "        x=top_terms,\n",
    "        y=top_frequencies,\n",
    "        marker=dict(color=top_frequencies, colorscale=\"Viridis\"),\n",
    "        hoverinfo=\"x+y\",\n",
    "    )\n",
    ")\n",
    "\n",
    "fig.update_layout(\n",
    "    title=\"Top 250 Term Frequencies\",\n",
    "    xaxis=dict(title=\"Terms\", tickangle=-45),\n",
    "    yaxis=dict(title=\"Frequency\"),\n",
    "    height=600,\n",
    "    width=1200,\n",
    "    bargap=0.2,\n",
    "    template=\"plotly_white\",\n",
    ")\n",
    "\n",
    "# Show the chart\n",
    "fig.show()\n"
   ]
  },
  {
   "cell_type": "code",
   "execution_count": 21,
   "metadata": {},
   "outputs": [
    {
     "data": {
      "application/vnd.plotly.v1+json": {
       "config": {
        "plotlyServerURL": "https://plot.ly"
       },
       "data": [
        {
         "hovertemplate": "<b>Term:</b> %{x}<br><b>Frequency:</b> %{y}<extra></extra>",
         "marker": {
          "color": [
           1351,
           997,
           937,
           923,
           765,
           748,
           722,
           612,
           586,
           584,
           388,
           375,
           367,
           360,
           315,
           309,
           299,
           290,
           278,
           267,
           244,
           240,
           222,
           213,
           209,
           195,
           186,
           184,
           181,
           178,
           172,
           171,
           169,
           167,
           160,
           159,
           154,
           153,
           143,
           142,
           139,
           139,
           139,
           138,
           137,
           137,
           137,
           136,
           136,
           132
          ],
          "colorscale": [
           [
            0,
            "rgb(247,251,255)"
           ],
           [
            0.125,
            "rgb(222,235,247)"
           ],
           [
            0.25,
            "rgb(198,219,239)"
           ],
           [
            0.375,
            "rgb(158,202,225)"
           ],
           [
            0.5,
            "rgb(107,174,214)"
           ],
           [
            0.625,
            "rgb(66,146,198)"
           ],
           [
            0.75,
            "rgb(33,113,181)"
           ],
           [
            0.875,
            "rgb(8,81,156)"
           ],
           [
            1,
            "rgb(8,48,107)"
           ]
          ]
         },
         "text": [
          1351,
          997,
          937,
          923,
          765,
          748,
          722,
          612,
          586,
          584,
          388,
          375,
          367,
          360,
          315,
          309,
          299,
          290,
          278,
          267,
          244,
          240,
          222,
          213,
          209,
          195,
          186,
          184,
          181,
          178,
          172,
          171,
          169,
          167,
          160,
          159,
          154,
          153,
          143,
          142,
          139,
          139,
          139,
          138,
          137,
          137,
          137,
          136,
          136,
          132
         ],
         "textposition": "outside",
         "type": "bar",
         "x": [
          "the",
          "this",
          "to",
          "and",
          "my",
          "song",
          "of",
          "in",
          "it",
          "was",
          "me",
          "is",
          "you",
          "that",
          "so",
          "love",
          "when",
          "back",
          "for",
          "music",
          "memories",
          "on",
          "with",
          "time",
          "great",
          "but",
          "have",
          "years",
          "all",
          "he",
          "beautiful",
          "as",
          "like",
          "one",
          "songs",
          "old",
          "just",
          "her",
          "we",
          "she",
          "at",
          "be",
          "from",
          "good",
          "voice",
          "now",
          "not",
          "what",
          "can",
          "remember"
         ],
         "y": [
          1351,
          997,
          937,
          923,
          765,
          748,
          722,
          612,
          586,
          584,
          388,
          375,
          367,
          360,
          315,
          309,
          299,
          290,
          278,
          267,
          244,
          240,
          222,
          213,
          209,
          195,
          186,
          184,
          181,
          178,
          172,
          171,
          169,
          167,
          160,
          159,
          154,
          153,
          143,
          142,
          139,
          139,
          139,
          138,
          137,
          137,
          137,
          136,
          136,
          132
         ]
        }
       ],
       "layout": {
        "bargap": 0.3,
        "height": 700,
        "template": {
         "data": {
          "bar": [
           {
            "error_x": {
             "color": "#f2f5fa"
            },
            "error_y": {
             "color": "#f2f5fa"
            },
            "marker": {
             "line": {
              "color": "rgb(17,17,17)",
              "width": 0.5
             },
             "pattern": {
              "fillmode": "overlay",
              "size": 10,
              "solidity": 0.2
             }
            },
            "type": "bar"
           }
          ],
          "barpolar": [
           {
            "marker": {
             "line": {
              "color": "rgb(17,17,17)",
              "width": 0.5
             },
             "pattern": {
              "fillmode": "overlay",
              "size": 10,
              "solidity": 0.2
             }
            },
            "type": "barpolar"
           }
          ],
          "carpet": [
           {
            "aaxis": {
             "endlinecolor": "#A2B1C6",
             "gridcolor": "#506784",
             "linecolor": "#506784",
             "minorgridcolor": "#506784",
             "startlinecolor": "#A2B1C6"
            },
            "baxis": {
             "endlinecolor": "#A2B1C6",
             "gridcolor": "#506784",
             "linecolor": "#506784",
             "minorgridcolor": "#506784",
             "startlinecolor": "#A2B1C6"
            },
            "type": "carpet"
           }
          ],
          "choropleth": [
           {
            "colorbar": {
             "outlinewidth": 0,
             "ticks": ""
            },
            "type": "choropleth"
           }
          ],
          "contour": [
           {
            "colorbar": {
             "outlinewidth": 0,
             "ticks": ""
            },
            "colorscale": [
             [
              0,
              "#0d0887"
             ],
             [
              0.1111111111111111,
              "#46039f"
             ],
             [
              0.2222222222222222,
              "#7201a8"
             ],
             [
              0.3333333333333333,
              "#9c179e"
             ],
             [
              0.4444444444444444,
              "#bd3786"
             ],
             [
              0.5555555555555556,
              "#d8576b"
             ],
             [
              0.6666666666666666,
              "#ed7953"
             ],
             [
              0.7777777777777778,
              "#fb9f3a"
             ],
             [
              0.8888888888888888,
              "#fdca26"
             ],
             [
              1,
              "#f0f921"
             ]
            ],
            "type": "contour"
           }
          ],
          "contourcarpet": [
           {
            "colorbar": {
             "outlinewidth": 0,
             "ticks": ""
            },
            "type": "contourcarpet"
           }
          ],
          "heatmap": [
           {
            "colorbar": {
             "outlinewidth": 0,
             "ticks": ""
            },
            "colorscale": [
             [
              0,
              "#0d0887"
             ],
             [
              0.1111111111111111,
              "#46039f"
             ],
             [
              0.2222222222222222,
              "#7201a8"
             ],
             [
              0.3333333333333333,
              "#9c179e"
             ],
             [
              0.4444444444444444,
              "#bd3786"
             ],
             [
              0.5555555555555556,
              "#d8576b"
             ],
             [
              0.6666666666666666,
              "#ed7953"
             ],
             [
              0.7777777777777778,
              "#fb9f3a"
             ],
             [
              0.8888888888888888,
              "#fdca26"
             ],
             [
              1,
              "#f0f921"
             ]
            ],
            "type": "heatmap"
           }
          ],
          "heatmapgl": [
           {
            "colorbar": {
             "outlinewidth": 0,
             "ticks": ""
            },
            "colorscale": [
             [
              0,
              "#0d0887"
             ],
             [
              0.1111111111111111,
              "#46039f"
             ],
             [
              0.2222222222222222,
              "#7201a8"
             ],
             [
              0.3333333333333333,
              "#9c179e"
             ],
             [
              0.4444444444444444,
              "#bd3786"
             ],
             [
              0.5555555555555556,
              "#d8576b"
             ],
             [
              0.6666666666666666,
              "#ed7953"
             ],
             [
              0.7777777777777778,
              "#fb9f3a"
             ],
             [
              0.8888888888888888,
              "#fdca26"
             ],
             [
              1,
              "#f0f921"
             ]
            ],
            "type": "heatmapgl"
           }
          ],
          "histogram": [
           {
            "marker": {
             "pattern": {
              "fillmode": "overlay",
              "size": 10,
              "solidity": 0.2
             }
            },
            "type": "histogram"
           }
          ],
          "histogram2d": [
           {
            "colorbar": {
             "outlinewidth": 0,
             "ticks": ""
            },
            "colorscale": [
             [
              0,
              "#0d0887"
             ],
             [
              0.1111111111111111,
              "#46039f"
             ],
             [
              0.2222222222222222,
              "#7201a8"
             ],
             [
              0.3333333333333333,
              "#9c179e"
             ],
             [
              0.4444444444444444,
              "#bd3786"
             ],
             [
              0.5555555555555556,
              "#d8576b"
             ],
             [
              0.6666666666666666,
              "#ed7953"
             ],
             [
              0.7777777777777778,
              "#fb9f3a"
             ],
             [
              0.8888888888888888,
              "#fdca26"
             ],
             [
              1,
              "#f0f921"
             ]
            ],
            "type": "histogram2d"
           }
          ],
          "histogram2dcontour": [
           {
            "colorbar": {
             "outlinewidth": 0,
             "ticks": ""
            },
            "colorscale": [
             [
              0,
              "#0d0887"
             ],
             [
              0.1111111111111111,
              "#46039f"
             ],
             [
              0.2222222222222222,
              "#7201a8"
             ],
             [
              0.3333333333333333,
              "#9c179e"
             ],
             [
              0.4444444444444444,
              "#bd3786"
             ],
             [
              0.5555555555555556,
              "#d8576b"
             ],
             [
              0.6666666666666666,
              "#ed7953"
             ],
             [
              0.7777777777777778,
              "#fb9f3a"
             ],
             [
              0.8888888888888888,
              "#fdca26"
             ],
             [
              1,
              "#f0f921"
             ]
            ],
            "type": "histogram2dcontour"
           }
          ],
          "mesh3d": [
           {
            "colorbar": {
             "outlinewidth": 0,
             "ticks": ""
            },
            "type": "mesh3d"
           }
          ],
          "parcoords": [
           {
            "line": {
             "colorbar": {
              "outlinewidth": 0,
              "ticks": ""
             }
            },
            "type": "parcoords"
           }
          ],
          "pie": [
           {
            "automargin": true,
            "type": "pie"
           }
          ],
          "scatter": [
           {
            "marker": {
             "line": {
              "color": "#283442"
             }
            },
            "type": "scatter"
           }
          ],
          "scatter3d": [
           {
            "line": {
             "colorbar": {
              "outlinewidth": 0,
              "ticks": ""
             }
            },
            "marker": {
             "colorbar": {
              "outlinewidth": 0,
              "ticks": ""
             }
            },
            "type": "scatter3d"
           }
          ],
          "scattercarpet": [
           {
            "marker": {
             "colorbar": {
              "outlinewidth": 0,
              "ticks": ""
             }
            },
            "type": "scattercarpet"
           }
          ],
          "scattergeo": [
           {
            "marker": {
             "colorbar": {
              "outlinewidth": 0,
              "ticks": ""
             }
            },
            "type": "scattergeo"
           }
          ],
          "scattergl": [
           {
            "marker": {
             "line": {
              "color": "#283442"
             }
            },
            "type": "scattergl"
           }
          ],
          "scattermapbox": [
           {
            "marker": {
             "colorbar": {
              "outlinewidth": 0,
              "ticks": ""
             }
            },
            "type": "scattermapbox"
           }
          ],
          "scatterpolar": [
           {
            "marker": {
             "colorbar": {
              "outlinewidth": 0,
              "ticks": ""
             }
            },
            "type": "scatterpolar"
           }
          ],
          "scatterpolargl": [
           {
            "marker": {
             "colorbar": {
              "outlinewidth": 0,
              "ticks": ""
             }
            },
            "type": "scatterpolargl"
           }
          ],
          "scatterternary": [
           {
            "marker": {
             "colorbar": {
              "outlinewidth": 0,
              "ticks": ""
             }
            },
            "type": "scatterternary"
           }
          ],
          "surface": [
           {
            "colorbar": {
             "outlinewidth": 0,
             "ticks": ""
            },
            "colorscale": [
             [
              0,
              "#0d0887"
             ],
             [
              0.1111111111111111,
              "#46039f"
             ],
             [
              0.2222222222222222,
              "#7201a8"
             ],
             [
              0.3333333333333333,
              "#9c179e"
             ],
             [
              0.4444444444444444,
              "#bd3786"
             ],
             [
              0.5555555555555556,
              "#d8576b"
             ],
             [
              0.6666666666666666,
              "#ed7953"
             ],
             [
              0.7777777777777778,
              "#fb9f3a"
             ],
             [
              0.8888888888888888,
              "#fdca26"
             ],
             [
              1,
              "#f0f921"
             ]
            ],
            "type": "surface"
           }
          ],
          "table": [
           {
            "cells": {
             "fill": {
              "color": "#506784"
             },
             "line": {
              "color": "rgb(17,17,17)"
             }
            },
            "header": {
             "fill": {
              "color": "#2a3f5f"
             },
             "line": {
              "color": "rgb(17,17,17)"
             }
            },
            "type": "table"
           }
          ]
         },
         "layout": {
          "annotationdefaults": {
           "arrowcolor": "#f2f5fa",
           "arrowhead": 0,
           "arrowwidth": 1
          },
          "autotypenumbers": "strict",
          "coloraxis": {
           "colorbar": {
            "outlinewidth": 0,
            "ticks": ""
           }
          },
          "colorscale": {
           "diverging": [
            [
             0,
             "#8e0152"
            ],
            [
             0.1,
             "#c51b7d"
            ],
            [
             0.2,
             "#de77ae"
            ],
            [
             0.3,
             "#f1b6da"
            ],
            [
             0.4,
             "#fde0ef"
            ],
            [
             0.5,
             "#f7f7f7"
            ],
            [
             0.6,
             "#e6f5d0"
            ],
            [
             0.7,
             "#b8e186"
            ],
            [
             0.8,
             "#7fbc41"
            ],
            [
             0.9,
             "#4d9221"
            ],
            [
             1,
             "#276419"
            ]
           ],
           "sequential": [
            [
             0,
             "#0d0887"
            ],
            [
             0.1111111111111111,
             "#46039f"
            ],
            [
             0.2222222222222222,
             "#7201a8"
            ],
            [
             0.3333333333333333,
             "#9c179e"
            ],
            [
             0.4444444444444444,
             "#bd3786"
            ],
            [
             0.5555555555555556,
             "#d8576b"
            ],
            [
             0.6666666666666666,
             "#ed7953"
            ],
            [
             0.7777777777777778,
             "#fb9f3a"
            ],
            [
             0.8888888888888888,
             "#fdca26"
            ],
            [
             1,
             "#f0f921"
            ]
           ],
           "sequentialminus": [
            [
             0,
             "#0d0887"
            ],
            [
             0.1111111111111111,
             "#46039f"
            ],
            [
             0.2222222222222222,
             "#7201a8"
            ],
            [
             0.3333333333333333,
             "#9c179e"
            ],
            [
             0.4444444444444444,
             "#bd3786"
            ],
            [
             0.5555555555555556,
             "#d8576b"
            ],
            [
             0.6666666666666666,
             "#ed7953"
            ],
            [
             0.7777777777777778,
             "#fb9f3a"
            ],
            [
             0.8888888888888888,
             "#fdca26"
            ],
            [
             1,
             "#f0f921"
            ]
           ]
          },
          "colorway": [
           "#636efa",
           "#EF553B",
           "#00cc96",
           "#ab63fa",
           "#FFA15A",
           "#19d3f3",
           "#FF6692",
           "#B6E880",
           "#FF97FF",
           "#FECB52"
          ],
          "font": {
           "color": "#f2f5fa"
          },
          "geo": {
           "bgcolor": "rgb(17,17,17)",
           "lakecolor": "rgb(17,17,17)",
           "landcolor": "rgb(17,17,17)",
           "showlakes": true,
           "showland": true,
           "subunitcolor": "#506784"
          },
          "hoverlabel": {
           "align": "left"
          },
          "hovermode": "closest",
          "mapbox": {
           "style": "dark"
          },
          "paper_bgcolor": "rgb(17,17,17)",
          "plot_bgcolor": "rgb(17,17,17)",
          "polar": {
           "angularaxis": {
            "gridcolor": "#506784",
            "linecolor": "#506784",
            "ticks": ""
           },
           "bgcolor": "rgb(17,17,17)",
           "radialaxis": {
            "gridcolor": "#506784",
            "linecolor": "#506784",
            "ticks": ""
           }
          },
          "scene": {
           "xaxis": {
            "backgroundcolor": "rgb(17,17,17)",
            "gridcolor": "#506784",
            "gridwidth": 2,
            "linecolor": "#506784",
            "showbackground": true,
            "ticks": "",
            "zerolinecolor": "#C8D4E3"
           },
           "yaxis": {
            "backgroundcolor": "rgb(17,17,17)",
            "gridcolor": "#506784",
            "gridwidth": 2,
            "linecolor": "#506784",
            "showbackground": true,
            "ticks": "",
            "zerolinecolor": "#C8D4E3"
           },
           "zaxis": {
            "backgroundcolor": "rgb(17,17,17)",
            "gridcolor": "#506784",
            "gridwidth": 2,
            "linecolor": "#506784",
            "showbackground": true,
            "ticks": "",
            "zerolinecolor": "#C8D4E3"
           }
          },
          "shapedefaults": {
           "line": {
            "color": "#f2f5fa"
           }
          },
          "sliderdefaults": {
           "bgcolor": "#C8D4E3",
           "bordercolor": "rgb(17,17,17)",
           "borderwidth": 1,
           "tickwidth": 0
          },
          "ternary": {
           "aaxis": {
            "gridcolor": "#506784",
            "linecolor": "#506784",
            "ticks": ""
           },
           "baxis": {
            "gridcolor": "#506784",
            "linecolor": "#506784",
            "ticks": ""
           },
           "bgcolor": "rgb(17,17,17)",
           "caxis": {
            "gridcolor": "#506784",
            "linecolor": "#506784",
            "ticks": ""
           }
          },
          "title": {
           "x": 0.05
          },
          "updatemenudefaults": {
           "bgcolor": "#506784",
           "borderwidth": 0
          },
          "xaxis": {
           "automargin": true,
           "gridcolor": "#283442",
           "linecolor": "#506784",
           "ticks": "",
           "title": {
            "standoff": 15
           },
           "zerolinecolor": "#283442",
           "zerolinewidth": 2
          },
          "yaxis": {
           "automargin": true,
           "gridcolor": "#283442",
           "linecolor": "#506784",
           "ticks": "",
           "title": {
            "standoff": 15
           },
           "zerolinecolor": "#283442",
           "zerolinewidth": 2
          }
         }
        },
        "title": {
         "font": {
          "family": "Arial",
          "size": 18
         },
         "text": "Top 50 Term Frequencies",
         "x": 0.5
        },
        "width": 1100,
        "xaxis": {
         "autorange": true,
         "linecolor": "black",
         "linewidth": 1,
         "range": [
          -0.5,
          49.5
         ],
         "showline": true,
         "tickangle": 45,
         "tickfont": {
          "size": 10
         },
         "title": {
          "text": "Terms"
         },
         "type": "category"
        },
        "yaxis": {
         "autorange": true,
         "gridcolor": "lightgray",
         "gridwidth": 0.5,
         "range": [
          0,
          1422.1052631578948
         ],
         "showgrid": true,
         "title": {
          "text": "Frequency"
         },
         "type": "linear",
         "zeroline": true
        }
       }
      },
      "image/png": "[encoded data removed]",
      "text/html": [
       "<div>                            <div id=\"3f28ca6c-276d-4cd0-a61d-e365e254d26a\" class=\"plotly-graph-div\" style=\"height:700px; width:1100px;\"></div>            <script type=\"text/javascript\">                require([\"plotly\"], function(Plotly) {                    window.PLOTLYENV=window.PLOTLYENV || {};                                    if (document.getElementById(\"3f28ca6c-276d-4cd0-a61d-e365e254d26a\")) {                    Plotly.newPlot(                        \"3f28ca6c-276d-4cd0-a61d-e365e254d26a\",                        [{\"hovertemplate\":\"<b>Term:</b> %{x}<br><b>Frequency:</b> %{y}<extra></extra>\",\"marker\":{\"color\":[1351,997,937,923,765,748,722,612,586,584,388,375,367,360,315,309,299,290,278,267,244,240,222,213,209,195,186,184,181,178,172,171,169,167,160,159,154,153,143,142,139,139,139,138,137,137,137,136,136,132],\"colorscale\":[[0.0,\"rgb(247,251,255)\"],[0.125,\"rgb(222,235,247)\"],[0.25,\"rgb(198,219,239)\"],[0.375,\"rgb(158,202,225)\"],[0.5,\"rgb(107,174,214)\"],[0.625,\"rgb(66,146,198)\"],[0.75,\"rgb(33,113,181)\"],[0.875,\"rgb(8,81,156)\"],[1.0,\"rgb(8,48,107)\"]]},\"text\":[1351.0,997.0,937.0,923.0,765.0,748.0,722.0,612.0,586.0,584.0,388.0,375.0,367.0,360.0,315.0,309.0,299.0,290.0,278.0,267.0,244.0,240.0,222.0,213.0,209.0,195.0,186.0,184.0,181.0,178.0,172.0,171.0,169.0,167.0,160.0,159.0,154.0,153.0,143.0,142.0,139.0,139.0,139.0,138.0,137.0,137.0,137.0,136.0,136.0,132.0],\"textposition\":\"outside\",\"x\":[\"the\",\"this\",\"to\",\"and\",\"my\",\"song\",\"of\",\"in\",\"it\",\"was\",\"me\",\"is\",\"you\",\"that\",\"so\",\"love\",\"when\",\"back\",\"for\",\"music\",\"memories\",\"on\",\"with\",\"time\",\"great\",\"but\",\"have\",\"years\",\"all\",\"he\",\"beautiful\",\"as\",\"like\",\"one\",\"songs\",\"old\",\"just\",\"her\",\"we\",\"she\",\"at\",\"be\",\"from\",\"good\",\"voice\",\"now\",\"not\",\"what\",\"can\",\"remember\"],\"y\":[1351,997,937,923,765,748,722,612,586,584,388,375,367,360,315,309,299,290,278,267,244,240,222,213,209,195,186,184,181,178,172,171,169,167,160,159,154,153,143,142,139,139,139,138,137,137,137,136,136,132],\"type\":\"bar\"}],                        {\"template\":{\"data\":{\"barpolar\":[{\"marker\":{\"line\":{\"color\":\"rgb(17,17,17)\",\"width\":0.5},\"pattern\":{\"fillmode\":\"overlay\",\"size\":10,\"solidity\":0.2}},\"type\":\"barpolar\"}],\"bar\":[{\"error_x\":{\"color\":\"#f2f5fa\"},\"error_y\":{\"color\":\"#f2f5fa\"},\"marker\":{\"line\":{\"color\":\"rgb(17,17,17)\",\"width\":0.5},\"pattern\":{\"fillmode\":\"overlay\",\"size\":10,\"solidity\":0.2}},\"type\":\"bar\"}],\"carpet\":[{\"aaxis\":{\"endlinecolor\":\"#A2B1C6\",\"gridcolor\":\"#506784\",\"linecolor\":\"#506784\",\"minorgridcolor\":\"#506784\",\"startlinecolor\":\"#A2B1C6\"},\"baxis\":{\"endlinecolor\":\"#A2B1C6\",\"gridcolor\":\"#506784\",\"linecolor\":\"#506784\",\"minorgridcolor\":\"#506784\",\"startlinecolor\":\"#A2B1C6\"},\"type\":\"carpet\"}],\"choropleth\":[{\"colorbar\":{\"outlinewidth\":0,\"ticks\":\"\"},\"type\":\"choropleth\"}],\"contourcarpet\":[{\"colorbar\":{\"outlinewidth\":0,\"ticks\":\"\"},\"type\":\"contourcarpet\"}],\"contour\":[{\"colorbar\":{\"outlinewidth\":0,\"ticks\":\"\"},\"colorscale\":[[0.0,\"#0d0887\"],[0.1111111111111111,\"#46039f\"],[0.2222222222222222,\"#7201a8\"],[0.3333333333333333,\"#9c179e\"],[0.4444444444444444,\"#bd3786\"],[0.5555555555555556,\"#d8576b\"],[0.6666666666666666,\"#ed7953\"],[0.7777777777777778,\"#fb9f3a\"],[0.8888888888888888,\"#fdca26\"],[1.0,\"#f0f921\"]],\"type\":\"contour\"}],\"heatmapgl\":[{\"colorbar\":{\"outlinewidth\":0,\"ticks\":\"\"},\"colorscale\":[[0.0,\"#0d0887\"],[0.1111111111111111,\"#46039f\"],[0.2222222222222222,\"#7201a8\"],[0.3333333333333333,\"#9c179e\"],[0.4444444444444444,\"#bd3786\"],[0.5555555555555556,\"#d8576b\"],[0.6666666666666666,\"#ed7953\"],[0.7777777777777778,\"#fb9f3a\"],[0.8888888888888888,\"#fdca26\"],[1.0,\"#f0f921\"]],\"type\":\"heatmapgl\"}],\"heatmap\":[{\"colorbar\":{\"outlinewidth\":0,\"ticks\":\"\"},\"colorscale\":[[0.0,\"#0d0887\"],[0.1111111111111111,\"#46039f\"],[0.2222222222222222,\"#7201a8\"],[0.3333333333333333,\"#9c179e\"],[0.4444444444444444,\"#bd3786\"],[0.5555555555555556,\"#d8576b\"],[0.6666666666666666,\"#ed7953\"],[0.7777777777777778,\"#fb9f3a\"],[0.8888888888888888,\"#fdca26\"],[1.0,\"#f0f921\"]],\"type\":\"heatmap\"}],\"histogram2dcontour\":[{\"colorbar\":{\"outlinewidth\":0,\"ticks\":\"\"},\"colorscale\":[[0.0,\"#0d0887\"],[0.1111111111111111,\"#46039f\"],[0.2222222222222222,\"#7201a8\"],[0.3333333333333333,\"#9c179e\"],[0.4444444444444444,\"#bd3786\"],[0.5555555555555556,\"#d8576b\"],[0.6666666666666666,\"#ed7953\"],[0.7777777777777778,\"#fb9f3a\"],[0.8888888888888888,\"#fdca26\"],[1.0,\"#f0f921\"]],\"type\":\"histogram2dcontour\"}],\"histogram2d\":[{\"colorbar\":{\"outlinewidth\":0,\"ticks\":\"\"},\"colorscale\":[[0.0,\"#0d0887\"],[0.1111111111111111,\"#46039f\"],[0.2222222222222222,\"#7201a8\"],[0.3333333333333333,\"#9c179e\"],[0.4444444444444444,\"#bd3786\"],[0.5555555555555556,\"#d8576b\"],[0.6666666666666666,\"#ed7953\"],[0.7777777777777778,\"#fb9f3a\"],[0.8888888888888888,\"#fdca26\"],[1.0,\"#f0f921\"]],\"type\":\"histogram2d\"}],\"histogram\":[{\"marker\":{\"pattern\":{\"fillmode\":\"overlay\",\"size\":10,\"solidity\":0.2}},\"type\":\"histogram\"}],\"mesh3d\":[{\"colorbar\":{\"outlinewidth\":0,\"ticks\":\"\"},\"type\":\"mesh3d\"}],\"parcoords\":[{\"line\":{\"colorbar\":{\"outlinewidth\":0,\"ticks\":\"\"}},\"type\":\"parcoords\"}],\"pie\":[{\"automargin\":true,\"type\":\"pie\"}],\"scatter3d\":[{\"line\":{\"colorbar\":{\"outlinewidth\":0,\"ticks\":\"\"}},\"marker\":{\"colorbar\":{\"outlinewidth\":0,\"ticks\":\"\"}},\"type\":\"scatter3d\"}],\"scattercarpet\":[{\"marker\":{\"colorbar\":{\"outlinewidth\":0,\"ticks\":\"\"}},\"type\":\"scattercarpet\"}],\"scattergeo\":[{\"marker\":{\"colorbar\":{\"outlinewidth\":0,\"ticks\":\"\"}},\"type\":\"scattergeo\"}],\"scattergl\":[{\"marker\":{\"line\":{\"color\":\"#283442\"}},\"type\":\"scattergl\"}],\"scattermapbox\":[{\"marker\":{\"colorbar\":{\"outlinewidth\":0,\"ticks\":\"\"}},\"type\":\"scattermapbox\"}],\"scatterpolargl\":[{\"marker\":{\"colorbar\":{\"outlinewidth\":0,\"ticks\":\"\"}},\"type\":\"scatterpolargl\"}],\"scatterpolar\":[{\"marker\":{\"colorbar\":{\"outlinewidth\":0,\"ticks\":\"\"}},\"type\":\"scatterpolar\"}],\"scatter\":[{\"marker\":{\"line\":{\"color\":\"#283442\"}},\"type\":\"scatter\"}],\"scatterternary\":[{\"marker\":{\"colorbar\":{\"outlinewidth\":0,\"ticks\":\"\"}},\"type\":\"scatterternary\"}],\"surface\":[{\"colorbar\":{\"outlinewidth\":0,\"ticks\":\"\"},\"colorscale\":[[0.0,\"#0d0887\"],[0.1111111111111111,\"#46039f\"],[0.2222222222222222,\"#7201a8\"],[0.3333333333333333,\"#9c179e\"],[0.4444444444444444,\"#bd3786\"],[0.5555555555555556,\"#d8576b\"],[0.6666666666666666,\"#ed7953\"],[0.7777777777777778,\"#fb9f3a\"],[0.8888888888888888,\"#fdca26\"],[1.0,\"#f0f921\"]],\"type\":\"surface\"}],\"table\":[{\"cells\":{\"fill\":{\"color\":\"#506784\"},\"line\":{\"color\":\"rgb(17,17,17)\"}},\"header\":{\"fill\":{\"color\":\"#2a3f5f\"},\"line\":{\"color\":\"rgb(17,17,17)\"}},\"type\":\"table\"}]},\"layout\":{\"annotationdefaults\":{\"arrowcolor\":\"#f2f5fa\",\"arrowhead\":0,\"arrowwidth\":1},\"autotypenumbers\":\"strict\",\"coloraxis\":{\"colorbar\":{\"outlinewidth\":0,\"ticks\":\"\"}},\"colorscale\":{\"diverging\":[[0,\"#8e0152\"],[0.1,\"#c51b7d\"],[0.2,\"#de77ae\"],[0.3,\"#f1b6da\"],[0.4,\"#fde0ef\"],[0.5,\"#f7f7f7\"],[0.6,\"#e6f5d0\"],[0.7,\"#b8e186\"],[0.8,\"#7fbc41\"],[0.9,\"#4d9221\"],[1,\"#276419\"]],\"sequential\":[[0.0,\"#0d0887\"],[0.1111111111111111,\"#46039f\"],[0.2222222222222222,\"#7201a8\"],[0.3333333333333333,\"#9c179e\"],[0.4444444444444444,\"#bd3786\"],[0.5555555555555556,\"#d8576b\"],[0.6666666666666666,\"#ed7953\"],[0.7777777777777778,\"#fb9f3a\"],[0.8888888888888888,\"#fdca26\"],[1.0,\"#f0f921\"]],\"sequentialminus\":[[0.0,\"#0d0887\"],[0.1111111111111111,\"#46039f\"],[0.2222222222222222,\"#7201a8\"],[0.3333333333333333,\"#9c179e\"],[0.4444444444444444,\"#bd3786\"],[0.5555555555555556,\"#d8576b\"],[0.6666666666666666,\"#ed7953\"],[0.7777777777777778,\"#fb9f3a\"],[0.8888888888888888,\"#fdca26\"],[1.0,\"#f0f921\"]]},\"colorway\":[\"#636efa\",\"#EF553B\",\"#00cc96\",\"#ab63fa\",\"#FFA15A\",\"#19d3f3\",\"#FF6692\",\"#B6E880\",\"#FF97FF\",\"#FECB52\"],\"font\":{\"color\":\"#f2f5fa\"},\"geo\":{\"bgcolor\":\"rgb(17,17,17)\",\"lakecolor\":\"rgb(17,17,17)\",\"landcolor\":\"rgb(17,17,17)\",\"showlakes\":true,\"showland\":true,\"subunitcolor\":\"#506784\"},\"hoverlabel\":{\"align\":\"left\"},\"hovermode\":\"closest\",\"mapbox\":{\"style\":\"dark\"},\"paper_bgcolor\":\"rgb(17,17,17)\",\"plot_bgcolor\":\"rgb(17,17,17)\",\"polar\":{\"angularaxis\":{\"gridcolor\":\"#506784\",\"linecolor\":\"#506784\",\"ticks\":\"\"},\"bgcolor\":\"rgb(17,17,17)\",\"radialaxis\":{\"gridcolor\":\"#506784\",\"linecolor\":\"#506784\",\"ticks\":\"\"}},\"scene\":{\"xaxis\":{\"backgroundcolor\":\"rgb(17,17,17)\",\"gridcolor\":\"#506784\",\"gridwidth\":2,\"linecolor\":\"#506784\",\"showbackground\":true,\"ticks\":\"\",\"zerolinecolor\":\"#C8D4E3\"},\"yaxis\":{\"backgroundcolor\":\"rgb(17,17,17)\",\"gridcolor\":\"#506784\",\"gridwidth\":2,\"linecolor\":\"#506784\",\"showbackground\":true,\"ticks\":\"\",\"zerolinecolor\":\"#C8D4E3\"},\"zaxis\":{\"backgroundcolor\":\"rgb(17,17,17)\",\"gridcolor\":\"#506784\",\"gridwidth\":2,\"linecolor\":\"#506784\",\"showbackground\":true,\"ticks\":\"\",\"zerolinecolor\":\"#C8D4E3\"}},\"shapedefaults\":{\"line\":{\"color\":\"#f2f5fa\"}},\"sliderdefaults\":{\"bgcolor\":\"#C8D4E3\",\"bordercolor\":\"rgb(17,17,17)\",\"borderwidth\":1,\"tickwidth\":0},\"ternary\":{\"aaxis\":{\"gridcolor\":\"#506784\",\"linecolor\":\"#506784\",\"ticks\":\"\"},\"baxis\":{\"gridcolor\":\"#506784\",\"linecolor\":\"#506784\",\"ticks\":\"\"},\"bgcolor\":\"rgb(17,17,17)\",\"caxis\":{\"gridcolor\":\"#506784\",\"linecolor\":\"#506784\",\"ticks\":\"\"}},\"title\":{\"x\":0.05},\"updatemenudefaults\":{\"bgcolor\":\"#506784\",\"borderwidth\":0},\"xaxis\":{\"automargin\":true,\"gridcolor\":\"#283442\",\"linecolor\":\"#506784\",\"ticks\":\"\",\"title\":{\"standoff\":15},\"zerolinecolor\":\"#283442\",\"zerolinewidth\":2},\"yaxis\":{\"automargin\":true,\"gridcolor\":\"#283442\",\"linecolor\":\"#506784\",\"ticks\":\"\",\"title\":{\"standoff\":15},\"zerolinecolor\":\"#283442\",\"zerolinewidth\":2}}},\"title\":{\"font\":{\"size\":18,\"family\":\"Arial\"},\"text\":\"Top 50 Term Frequencies\",\"x\":0.5},\"xaxis\":{\"tickfont\":{\"size\":10},\"title\":{\"text\":\"Terms\"},\"tickangle\":45,\"showline\":true,\"linewidth\":1,\"linecolor\":\"black\"},\"yaxis\":{\"title\":{\"text\":\"Frequency\"},\"showgrid\":true,\"gridwidth\":0.5,\"gridcolor\":\"lightgray\",\"zeroline\":true},\"height\":700,\"width\":1100,\"bargap\":0.3},                        {\"responsive\": true}                    ).then(function(){\n",
       "                            \n",
       "var gd = document.getElementById('3f28ca6c-276d-4cd0-a61d-e365e254d26a');\n",
       "var x = new MutationObserver(function (mutations, observer) {{\n",
       "        var display = window.getComputedStyle(gd).display;\n",
       "        if (!display || display === 'none') {{\n",
       "            console.log([gd, 'removed!']);\n",
       "            Plotly.purge(gd);\n",
       "            observer.disconnect();\n",
       "        }}\n",
       "}});\n",
       "\n",
       "// Listen for the removal of the full notebook cells\n",
       "var notebookContainer = gd.closest('#notebook-container');\n",
       "if (notebookContainer) {{\n",
       "    x.observe(notebookContainer, {childList: true});\n",
       "}}\n",
       "\n",
       "// Listen for the clearing of the current output cell\n",
       "var outputEl = gd.closest('.output');\n",
       "if (outputEl) {{\n",
       "    x.observe(outputEl, {childList: true});\n",
       "}}\n",
       "\n",
       "                        })                };                });            </script>        </div>"
      ]
     },
     "metadata": {},
     "output_type": "display_data"
    }
   ],
   "source": [
    "# Extract the top 50 terms by frequency\n",
    "num_top_terms = 50\n",
    "top_indices = term_frequencies.argsort()[-num_top_terms:][::-1]\n",
    "top_terms = vectorizer.get_feature_names_out()[top_indices]\n",
    "top_frequencies = term_frequencies[top_indices]\n",
    "\n",
    "# Create an interactive Plotly bar chart\n",
    "fig = go.Figure()\n",
    "\n",
    "fig.add_trace(\n",
    "    go.Bar(\n",
    "        x=top_terms,\n",
    "        y=top_frequencies,\n",
    "        text=top_frequencies,  # Add frequency as text on bars\n",
    "        textposition=\"outside\",  # Position text outside the bars\n",
    "        marker=dict(color=top_frequencies, colorscale=\"Blues\"),  # Change color scheme\n",
    "        hovertemplate=\"<b>Term:</b> %{x}<br><b>Frequency:</b> %{y}<extra></extra>\",  # Custom hover info\n",
    "    )\n",
    ")\n",
    "\n",
    "# Customize layout\n",
    "fig.update_layout(\n",
    "    title=dict(text=\"Top 50 Term Frequencies\", font=dict(size=18, family=\"Arial\"), x=0.5),\n",
    "    xaxis=dict(\n",
    "        title=\"Terms\",\n",
    "        tickangle=45,\n",
    "        tickfont=dict(size=10),\n",
    "        showline=True,\n",
    "        linewidth=1,\n",
    "        linecolor='black'\n",
    "    ),\n",
    "    yaxis=dict(\n",
    "        title=\"Frequency\",\n",
    "        showgrid=True,\n",
    "        gridwidth=0.5,\n",
    "        gridcolor=\"lightgray\",\n",
    "        zeroline=True,\n",
    "    ),\n",
    "    height=700,\n",
    "    width=1100,\n",
    "    template=\"plotly_dark\",  # Use a dark theme for the chart\n",
    "    bargap=0.3  # Adjust bar spacing\n",
    ")\n",
    "\n",
    "# Show the chart\n",
    "fig.show()\n"
   ]
  },
  {
   "cell_type": "code",
   "execution_count": 22,
   "metadata": {},
   "outputs": [
    {
     "data": {
      "application/vnd.plotly.v1+json": {
       "config": {
        "plotlyServerURL": "https://plot.ly"
       },
       "data": [
        {
         "hovertemplate": "<b>Term:</b> %{x}<br><b>Log(Frequency):</b> %{y}<extra></extra>",
         "marker": {
          "color": [
           7.20934025660291,
           6.905753276311464,
           6.843749949006225,
           6.828712071641684,
           6.641182169740591,
           6.618738983517219,
           6.583409222158765,
           6.418364935936212,
           6.375024819828097,
           6.371611847231857,
           5.963579343618446,
           5.929589143389895,
           5.908082938168931,
           5.8888779583328805,
           5.755742213586912,
           5.736572297479192,
           5.703782474656201,
           5.673323267171493,
           5.631211781821365,
           5.5909869805108565,
           5.501258210544727,
           5.484796933490655,
           5.407171771460119,
           5.365976015021851,
           5.3471075307174685,
           5.278114659230517,
           5.231108616854587,
           5.220355825078324,
           5.204006687076795,
           5.187385805840755,
           5.153291594497779,
           5.147494476813453,
           5.135798437050262,
           5.123963979403259,
           5.081404364984463,
           5.075173815233827,
           5.043425116919247,
           5.0369526024136295,
           4.969813299576001,
           4.962844630259907,
           4.941642422609304,
           4.941642422609304,
           4.941642422609304,
           4.9344739331306915,
           4.927253685157205,
           4.927253685157205,
           4.927253685157205,
           4.919980925828125,
           4.919980925828125,
           4.890349128221754,
           4.852030263919617,
           4.820281565605037,
           4.77912349311153,
           4.770684624465665,
           4.7535901911063645,
           4.6913478822291435,
           4.663439094112067,
           4.6443908991413725,
           4.634728988229636,
           4.61512051684126,
           4.61512051684126,
           4.61512051684126,
           4.564348191467836,
           4.553876891600541,
           4.553876891600541,
           4.543294782270004,
           4.532599493153256,
           4.499809670330265,
           4.499809670330265,
           4.48863636973214,
           4.48863636973214,
           4.477336814478207,
           4.465908118654584,
           4.465908118654584,
           4.454347296253507,
           4.454347296253507,
           4.454347296253507,
           4.418840607796598,
           4.418840607796598,
           4.406719247264253,
           4.406719247264253,
           4.382026634673881,
           4.382026634673881,
           4.3694478524670215,
           4.343805421853684,
           4.343805421853684,
           4.343805421853684,
           4.343805421853684,
           4.343805421853684,
           4.330733340286331,
           4.31748811353631,
           4.30406509320417,
           4.30406509320417,
           4.290459441148391,
           4.290459441148391,
           4.276666119016055,
           4.2626798770413155,
           4.23410650459726,
           4.219507705176107,
           4.219507705176107,
           4.204692619390966,
           4.189654742026425,
           4.174387269895637,
           4.174387269895637,
           4.143134726391533,
           4.127134385045092,
           4.127134385045092,
           4.110873864173311,
           4.110873864173311,
           4.110873864173311,
           4.110873864173311,
           4.0943445622221,
           4.0943445622221,
           4.04305126783455,
           4.02535169073515,
           4.02535169073515,
           4.02535169073515,
           4.007333185232471,
           4.007333185232471,
           3.9889840465642745,
           3.970291913552122,
           3.970291913552122,
           3.970291913552122,
           3.9512437185814275,
           3.9318256327243257,
           3.9318256327243257,
           3.9318256327243257,
           3.9318256327243257,
           3.9318256327243257,
           3.9318256327243257,
           3.912023005428146,
           3.8918202981106265,
           3.8918202981106265,
           3.8918202981106265,
           3.8918202981106265,
           3.871201010907891,
           3.871201010907891,
           3.871201010907891,
           3.871201010907891,
           3.871201010907891,
           3.871201010907891,
           3.871201010907891,
           3.871201010907891,
           3.8501476017100584,
           3.8501476017100584,
           3.828641396489095,
           3.828641396489095,
           3.828641396489095,
           3.8066624897703196,
           3.7612001156935624,
           3.713572066704308,
           3.713572066704308,
           3.713572066704308,
           3.713572066704308,
           3.6888794541139363,
           3.6888794541139363,
           3.6888794541139363,
           3.6888794541139363,
           3.6888794541139363,
           3.6635616461296463,
           3.6635616461296463,
           3.6635616461296463,
           3.6375861597263857,
           3.6375861597263857,
           3.6375861597263857,
           3.6375861597263857,
           3.6109179126442243,
           3.6109179126442243,
           3.6109179126442243,
           3.58351893845611,
           3.58351893845611,
           3.58351893845611,
           3.58351893845611,
           3.58351893845611,
           3.58351893845611,
           3.58351893845611,
           3.5553480614894135,
           3.5553480614894135,
           3.5553480614894135,
           3.5553480614894135,
           3.5263605246161616,
           3.5263605246161616,
           3.5263605246161616,
           3.5263605246161616,
           3.4965075614664802,
           3.4657359027997265,
           3.4657359027997265,
           3.4339872044851463,
           3.4339872044851463,
           3.4339872044851463,
           3.4339872044851463,
           3.4011973816621555,
           3.4011973816621555,
           3.4011973816621555,
           3.367295829986474,
           3.367295829986474,
           3.367295829986474,
           3.367295829986474,
           3.367295829986474,
           3.332204510175204,
           3.332204510175204,
           3.332204510175204,
           3.295836866004329,
           3.295836866004329,
           3.295836866004329,
           3.295836866004329,
           3.295836866004329,
           3.295836866004329,
           3.295836866004329,
           3.295836866004329,
           3.258096538021482,
           3.258096538021482,
           3.258096538021482,
           3.258096538021482,
           3.258096538021482,
           3.258096538021482,
           3.2188758248682006,
           3.2188758248682006,
           3.2188758248682006,
           3.2188758248682006,
           3.2188758248682006,
           3.2188758248682006,
           3.2188758248682006,
           3.1780538303479458,
           3.1780538303479458,
           3.1780538303479458,
           3.1780538303479458,
           3.1780538303479458,
           3.1780538303479458,
           3.1780538303479458,
           3.1354942159291497,
           3.1354942159291497,
           3.1354942159291497,
           3.1354942159291497,
           3.1354942159291497,
           3.1354942159291497,
           3.1354942159291497,
           3.1354942159291497,
           3.1354942159291497,
           3.091042453358316,
           3.091042453358316,
           3.091042453358316,
           3.091042453358316,
           3.091042453358316,
           3.091042453358316,
           3.091042453358316,
           3.091042453358316,
           3.091042453358316,
           3.091042453358316,
           3.044522437723423,
           3.044522437723423,
           3.044522437723423,
           3.044522437723423,
           3.044522437723423,
           3.044522437723423,
           3.044522437723423,
           3.044522437723423,
           3.044522437723423,
           3.044522437723423,
           3.044522437723423,
           3.044522437723423,
           3.044522437723423,
           3.044522437723423,
           2.995732273553991,
           2.995732273553991,
           2.995732273553991,
           2.995732273553991,
           2.995732273553991,
           2.995732273553991,
           2.995732273553991,
           2.995732273553991,
           2.995732273553991,
           2.995732273553991,
           2.995732273553991,
           2.995732273553991,
           2.995732273553991,
           2.995732273553991,
           2.9444389791664403,
           2.9444389791664403,
           2.9444389791664403,
           2.9444389791664403,
           2.9444389791664403,
           2.9444389791664403,
           2.9444389791664403,
           2.9444389791664403,
           2.9444389791664403,
           2.9444389791664403,
           2.8903717578961645,
           2.8903717578961645,
           2.8903717578961645,
           2.8903717578961645,
           2.8903717578961645,
           2.8903717578961645,
           2.8903717578961645,
           2.8903717578961645,
           2.8903717578961645,
           2.8903717578961645,
           2.8903717578961645,
           2.8903717578961645,
           2.8903717578961645
          ],
          "colorscale": [
           [
            0,
            "rgb(255,255,217)"
           ],
           [
            0.125,
            "rgb(237,248,177)"
           ],
           [
            0.25,
            "rgb(199,233,180)"
           ],
           [
            0.375,
            "rgb(127,205,187)"
           ],
           [
            0.5,
            "rgb(65,182,196)"
           ],
           [
            0.625,
            "rgb(29,145,192)"
           ],
           [
            0.75,
            "rgb(34,94,168)"
           ],
           [
            0.875,
            "rgb(37,52,148)"
           ],
           [
            1,
            "rgb(8,29,88)"
           ]
          ]
         },
         "text": [
          "7.20934025660291",
          "6.905753276311464",
          "6.843749949006225",
          "6.828712071641684",
          "6.641182169740591",
          "6.618738983517219",
          "6.583409222158765",
          "6.418364935936212",
          "6.375024819828097",
          "6.371611847231857",
          "5.963579343618446",
          "5.929589143389895",
          "5.908082938168931",
          "5.8888779583328805",
          "5.755742213586912",
          "5.736572297479192",
          "5.703782474656201",
          "5.673323267171493",
          "5.631211781821365",
          "5.5909869805108565",
          "5.501258210544727",
          "5.484796933490655",
          "5.407171771460119",
          "5.365976015021851",
          "5.3471075307174685",
          "5.278114659230517",
          "5.231108616854587",
          "5.220355825078324",
          "5.204006687076795",
          "5.187385805840755",
          "5.153291594497779",
          "5.147494476813453",
          "5.135798437050262",
          "5.123963979403259",
          "5.081404364984463",
          "5.075173815233827",
          "5.043425116919247",
          "5.0369526024136295",
          "4.969813299576001",
          "4.962844630259907",
          "4.941642422609304",
          "4.941642422609304",
          "4.941642422609304",
          "4.9344739331306915",
          "4.927253685157205",
          "4.927253685157205",
          "4.927253685157205",
          "4.919980925828125",
          "4.919980925828125",
          "4.890349128221754",
          "4.852030263919617",
          "4.820281565605037",
          "4.77912349311153",
          "4.770684624465665",
          "4.7535901911063645",
          "4.6913478822291435",
          "4.663439094112067",
          "4.6443908991413725",
          "4.634728988229636",
          "4.61512051684126",
          "4.61512051684126",
          "4.61512051684126",
          "4.564348191467836",
          "4.553876891600541",
          "4.553876891600541",
          "4.543294782270004",
          "4.532599493153256",
          "4.499809670330265",
          "4.499809670330265",
          "4.48863636973214",
          "4.48863636973214",
          "4.477336814478207",
          "4.465908118654584",
          "4.465908118654584",
          "4.454347296253507",
          "4.454347296253507",
          "4.454347296253507",
          "4.418840607796598",
          "4.418840607796598",
          "4.406719247264253",
          "4.406719247264253",
          "4.382026634673881",
          "4.382026634673881",
          "4.3694478524670215",
          "4.343805421853684",
          "4.343805421853684",
          "4.343805421853684",
          "4.343805421853684",
          "4.343805421853684",
          "4.330733340286331",
          "4.31748811353631",
          "4.30406509320417",
          "4.30406509320417",
          "4.290459441148391",
          "4.290459441148391",
          "4.276666119016055",
          "4.2626798770413155",
          "4.23410650459726",
          "4.219507705176107",
          "4.219507705176107",
          "4.204692619390966",
          "4.189654742026425",
          "4.174387269895637",
          "4.174387269895637",
          "4.143134726391533",
          "4.127134385045092",
          "4.127134385045092",
          "4.110873864173311",
          "4.110873864173311",
          "4.110873864173311",
          "4.110873864173311",
          "4.0943445622221",
          "4.0943445622221",
          "4.04305126783455",
          "4.02535169073515",
          "4.02535169073515",
          "4.02535169073515",
          "4.007333185232471",
          "4.007333185232471",
          "3.9889840465642745",
          "3.970291913552122",
          "3.970291913552122",
          "3.970291913552122",
          "3.9512437185814275",
          "3.9318256327243257",
          "3.9318256327243257",
          "3.9318256327243257",
          "3.9318256327243257",
          "3.9318256327243257",
          "3.9318256327243257",
          "3.912023005428146",
          "3.8918202981106265",
          "3.8918202981106265",
          "3.8918202981106265",
          "3.8918202981106265",
          "3.871201010907891",
          "3.871201010907891",
          "3.871201010907891",
          "3.871201010907891",
          "3.871201010907891",
          "3.871201010907891",
          "3.871201010907891",
          "3.871201010907891",
          "3.8501476017100584",
          "3.8501476017100584",
          "3.828641396489095",
          "3.828641396489095",
          "3.828641396489095",
          "3.8066624897703196",
          "3.7612001156935624",
          "3.713572066704308",
          "3.713572066704308",
          "3.713572066704308",
          "3.713572066704308",
          "3.6888794541139363",
          "3.6888794541139363",
          "3.6888794541139363",
          "3.6888794541139363",
          "3.6888794541139363",
          "3.6635616461296463",
          "3.6635616461296463",
          "3.6635616461296463",
          "3.6375861597263857",
          "3.6375861597263857",
          "3.6375861597263857",
          "3.6375861597263857",
          "3.6109179126442243",
          "3.6109179126442243",
          "3.6109179126442243",
          "3.58351893845611",
          "3.58351893845611",
          "3.58351893845611",
          "3.58351893845611",
          "3.58351893845611",
          "3.58351893845611",
          "3.58351893845611",
          "3.5553480614894135",
          "3.5553480614894135",
          "3.5553480614894135",
          "3.5553480614894135",
          "3.5263605246161616",
          "3.5263605246161616",
          "3.5263605246161616",
          "3.5263605246161616",
          "3.4965075614664802",
          "3.4657359027997265",
          "3.4657359027997265",
          "3.4339872044851463",
          "3.4339872044851463",
          "3.4339872044851463",
          "3.4339872044851463",
          "3.4011973816621555",
          "3.4011973816621555",
          "3.4011973816621555",
          "3.367295829986474",
          "3.367295829986474",
          "3.367295829986474",
          "3.367295829986474",
          "3.367295829986474",
          "3.332204510175204",
          "3.332204510175204",
          "3.332204510175204",
          "3.295836866004329",
          "3.295836866004329",
          "3.295836866004329",
          "3.295836866004329",
          "3.295836866004329",
          "3.295836866004329",
          "3.295836866004329",
          "3.295836866004329",
          "3.258096538021482",
          "3.258096538021482",
          "3.258096538021482",
          "3.258096538021482",
          "3.258096538021482",
          "3.258096538021482",
          "3.2188758248682006",
          "3.2188758248682006",
          "3.2188758248682006",
          "3.2188758248682006",
          "3.2188758248682006",
          "3.2188758248682006",
          "3.2188758248682006",
          "3.1780538303479458",
          "3.1780538303479458",
          "3.1780538303479458",
          "3.1780538303479458",
          "3.1780538303479458",
          "3.1780538303479458",
          "3.1780538303479458",
          "3.1354942159291497",
          "3.1354942159291497",
          "3.1354942159291497",
          "3.1354942159291497",
          "3.1354942159291497",
          "3.1354942159291497",
          "3.1354942159291497",
          "3.1354942159291497",
          "3.1354942159291497",
          "3.091042453358316",
          "3.091042453358316",
          "3.091042453358316",
          "3.091042453358316",
          "3.091042453358316",
          "3.091042453358316",
          "3.091042453358316",
          "3.091042453358316",
          "3.091042453358316",
          "3.091042453358316",
          "3.044522437723423",
          "3.044522437723423",
          "3.044522437723423",
          "3.044522437723423",
          "3.044522437723423",
          "3.044522437723423",
          "3.044522437723423",
          "3.044522437723423",
          "3.044522437723423",
          "3.044522437723423",
          "3.044522437723423",
          "3.044522437723423",
          "3.044522437723423",
          "3.044522437723423",
          "2.995732273553991",
          "2.995732273553991",
          "2.995732273553991",
          "2.995732273553991",
          "2.995732273553991",
          "2.995732273553991",
          "2.995732273553991",
          "2.995732273553991",
          "2.995732273553991",
          "2.995732273553991",
          "2.995732273553991",
          "2.995732273553991",
          "2.995732273553991",
          "2.995732273553991",
          "2.9444389791664403",
          "2.9444389791664403",
          "2.9444389791664403",
          "2.9444389791664403",
          "2.9444389791664403",
          "2.9444389791664403",
          "2.9444389791664403",
          "2.9444389791664403",
          "2.9444389791664403",
          "2.9444389791664403",
          "2.8903717578961645",
          "2.8903717578961645",
          "2.8903717578961645",
          "2.8903717578961645",
          "2.8903717578961645",
          "2.8903717578961645",
          "2.8903717578961645",
          "2.8903717578961645",
          "2.8903717578961645",
          "2.8903717578961645",
          "2.8903717578961645",
          "2.8903717578961645",
          "2.8903717578961645"
         ],
         "textposition": "outside",
         "type": "bar",
         "x": [
          "the",
          "this",
          "to",
          "and",
          "my",
          "song",
          "of",
          "in",
          "it",
          "was",
          "me",
          "is",
          "you",
          "that",
          "so",
          "love",
          "when",
          "back",
          "for",
          "music",
          "memories",
          "on",
          "with",
          "time",
          "great",
          "but",
          "have",
          "years",
          "all",
          "he",
          "beautiful",
          "as",
          "like",
          "one",
          "songs",
          "old",
          "just",
          "her",
          "we",
          "she",
          "at",
          "be",
          "from",
          "good",
          "voice",
          "now",
          "not",
          "what",
          "can",
          "remember",
          "always",
          "his",
          "still",
          "they",
          "much",
          "brings",
          "will",
          "are",
          "never",
          "had",
          "many",
          "days",
          "very",
          "am",
          "up",
          "best",
          "listening",
          "him",
          "thank",
          "these",
          "first",
          "really",
          "miss",
          "who",
          "listen",
          "out",
          "how",
          "hear",
          "about",
          "were",
          "childhood",
          "no",
          "heard",
          "ever",
          "reminds",
          "those",
          "loved",
          "would",
          "there",
          "by",
          "only",
          "know",
          "sing",
          "more",
          "an",
          "has",
          "every",
          "if",
          "dad",
          "life",
          "could",
          "young",
          "then",
          "some",
          "today",
          "used",
          "such",
          "day",
          "don",
          "think",
          "singing",
          "thanks",
          "times",
          "played",
          "again",
          "school",
          "been",
          "do",
          "singer",
          "or",
          "wish",
          "get",
          "too",
          "wonderful",
          "world",
          "favorite",
          "sad",
          "makes",
          "them",
          "most",
          "over",
          "go",
          "did",
          "here",
          "man",
          "happy",
          "people",
          "our",
          "after",
          "came",
          "play",
          "heart",
          "got",
          "ago",
          "little",
          "radio",
          "way",
          "your",
          "come",
          "well",
          "their",
          "nice",
          "real",
          "feel",
          "make",
          "mom",
          "because",
          "version",
          "video",
          "god",
          "passed",
          "than",
          "its",
          "see",
          "away",
          "long",
          "year",
          "better",
          "mum",
          "country",
          "us",
          "age",
          "lyrics",
          "made",
          "why",
          "wow",
          "takes",
          "jim",
          "classic",
          "elvis",
          "being",
          "lovely",
          "amazing",
          "girl",
          "where",
          "live",
          "forever",
          "lot",
          "say",
          "fantastic",
          "name",
          "even",
          "before",
          "playing",
          "dance",
          "early",
          "kid",
          "60",
          "oh",
          "sweet",
          "child",
          "reeves",
          "cry",
          "another",
          "memory",
          "tears",
          "want",
          "any",
          "since",
          "around",
          "into",
          "bring",
          "high",
          "ve",
          "parents",
          "2019",
          "listened",
          "didn",
          "sang",
          "gone",
          "few",
          "70",
          "eyes",
          "record",
          "feeling",
          "tune",
          "singers",
          "true",
          "kind",
          "father",
          "anymore",
          "anyone",
          "words",
          "greatest",
          "hit",
          "died",
          "right",
          "era",
          "which",
          "same",
          "new",
          "sure",
          "other",
          "yes",
          "mother",
          "friend",
          "past",
          "last",
          "later",
          "born",
          "should",
          "brought",
          "look",
          "someone",
          "something",
          "sound",
          "boy",
          "take",
          "60s",
          "youtube",
          "find",
          "50",
          "nothing",
          "going",
          "once",
          "late",
          "80",
          "nostalgic",
          "through",
          "yesterday",
          "down",
          "hearing",
          "grew",
          "teenager",
          "romantic",
          "brilliant",
          "lost",
          "thought",
          "pop",
          "also",
          "dancing",
          "called",
          "awesome",
          "home",
          "rip",
          "sounds",
          "rock",
          "during",
          "family",
          "please",
          "mind",
          "work",
          "missed",
          "almost",
          "things",
          "70s",
          "lady",
          "original",
          "left",
          "understand"
         ],
         "y": [
          7.20934025660291,
          6.905753276311464,
          6.843749949006225,
          6.828712071641684,
          6.641182169740591,
          6.618738983517219,
          6.583409222158765,
          6.418364935936212,
          6.375024819828097,
          6.371611847231857,
          5.963579343618446,
          5.929589143389895,
          5.908082938168931,
          5.8888779583328805,
          5.755742213586912,
          5.736572297479192,
          5.703782474656201,
          5.673323267171493,
          5.631211781821365,
          5.5909869805108565,
          5.501258210544727,
          5.484796933490655,
          5.407171771460119,
          5.365976015021851,
          5.3471075307174685,
          5.278114659230517,
          5.231108616854587,
          5.220355825078324,
          5.204006687076795,
          5.187385805840755,
          5.153291594497779,
          5.147494476813453,
          5.135798437050262,
          5.123963979403259,
          5.081404364984463,
          5.075173815233827,
          5.043425116919247,
          5.0369526024136295,
          4.969813299576001,
          4.962844630259907,
          4.941642422609304,
          4.941642422609304,
          4.941642422609304,
          4.9344739331306915,
          4.927253685157205,
          4.927253685157205,
          4.927253685157205,
          4.919980925828125,
          4.919980925828125,
          4.890349128221754,
          4.852030263919617,
          4.820281565605037,
          4.77912349311153,
          4.770684624465665,
          4.7535901911063645,
          4.6913478822291435,
          4.663439094112067,
          4.6443908991413725,
          4.634728988229636,
          4.61512051684126,
          4.61512051684126,
          4.61512051684126,
          4.564348191467836,
          4.553876891600541,
          4.553876891600541,
          4.543294782270004,
          4.532599493153256,
          4.499809670330265,
          4.499809670330265,
          4.48863636973214,
          4.48863636973214,
          4.477336814478207,
          4.465908118654584,
          4.465908118654584,
          4.454347296253507,
          4.454347296253507,
          4.454347296253507,
          4.418840607796598,
          4.418840607796598,
          4.406719247264253,
          4.406719247264253,
          4.382026634673881,
          4.382026634673881,
          4.3694478524670215,
          4.343805421853684,
          4.343805421853684,
          4.343805421853684,
          4.343805421853684,
          4.343805421853684,
          4.330733340286331,
          4.31748811353631,
          4.30406509320417,
          4.30406509320417,
          4.290459441148391,
          4.290459441148391,
          4.276666119016055,
          4.2626798770413155,
          4.23410650459726,
          4.219507705176107,
          4.219507705176107,
          4.204692619390966,
          4.189654742026425,
          4.174387269895637,
          4.174387269895637,
          4.143134726391533,
          4.127134385045092,
          4.127134385045092,
          4.110873864173311,
          4.110873864173311,
          4.110873864173311,
          4.110873864173311,
          4.0943445622221,
          4.0943445622221,
          4.04305126783455,
          4.02535169073515,
          4.02535169073515,
          4.02535169073515,
          4.007333185232471,
          4.007333185232471,
          3.9889840465642745,
          3.970291913552122,
          3.970291913552122,
          3.970291913552122,
          3.9512437185814275,
          3.9318256327243257,
          3.9318256327243257,
          3.9318256327243257,
          3.9318256327243257,
          3.9318256327243257,
          3.9318256327243257,
          3.912023005428146,
          3.8918202981106265,
          3.8918202981106265,
          3.8918202981106265,
          3.8918202981106265,
          3.871201010907891,
          3.871201010907891,
          3.871201010907891,
          3.871201010907891,
          3.871201010907891,
          3.871201010907891,
          3.871201010907891,
          3.871201010907891,
          3.8501476017100584,
          3.8501476017100584,
          3.828641396489095,
          3.828641396489095,
          3.828641396489095,
          3.8066624897703196,
          3.7612001156935624,
          3.713572066704308,
          3.713572066704308,
          3.713572066704308,
          3.713572066704308,
          3.6888794541139363,
          3.6888794541139363,
          3.6888794541139363,
          3.6888794541139363,
          3.6888794541139363,
          3.6635616461296463,
          3.6635616461296463,
          3.6635616461296463,
          3.6375861597263857,
          3.6375861597263857,
          3.6375861597263857,
          3.6375861597263857,
          3.6109179126442243,
          3.6109179126442243,
          3.6109179126442243,
          3.58351893845611,
          3.58351893845611,
          3.58351893845611,
          3.58351893845611,
          3.58351893845611,
          3.58351893845611,
          3.58351893845611,
          3.5553480614894135,
          3.5553480614894135,
          3.5553480614894135,
          3.5553480614894135,
          3.5263605246161616,
          3.5263605246161616,
          3.5263605246161616,
          3.5263605246161616,
          3.4965075614664802,
          3.4657359027997265,
          3.4657359027997265,
          3.4339872044851463,
          3.4339872044851463,
          3.4339872044851463,
          3.4339872044851463,
          3.4011973816621555,
          3.4011973816621555,
          3.4011973816621555,
          3.367295829986474,
          3.367295829986474,
          3.367295829986474,
          3.367295829986474,
          3.367295829986474,
          3.332204510175204,
          3.332204510175204,
          3.332204510175204,
          3.295836866004329,
          3.295836866004329,
          3.295836866004329,
          3.295836866004329,
          3.295836866004329,
          3.295836866004329,
          3.295836866004329,
          3.295836866004329,
          3.258096538021482,
          3.258096538021482,
          3.258096538021482,
          3.258096538021482,
          3.258096538021482,
          3.258096538021482,
          3.2188758248682006,
          3.2188758248682006,
          3.2188758248682006,
          3.2188758248682006,
          3.2188758248682006,
          3.2188758248682006,
          3.2188758248682006,
          3.1780538303479458,
          3.1780538303479458,
          3.1780538303479458,
          3.1780538303479458,
          3.1780538303479458,
          3.1780538303479458,
          3.1780538303479458,
          3.1354942159291497,
          3.1354942159291497,
          3.1354942159291497,
          3.1354942159291497,
          3.1354942159291497,
          3.1354942159291497,
          3.1354942159291497,
          3.1354942159291497,
          3.1354942159291497,
          3.091042453358316,
          3.091042453358316,
          3.091042453358316,
          3.091042453358316,
          3.091042453358316,
          3.091042453358316,
          3.091042453358316,
          3.091042453358316,
          3.091042453358316,
          3.091042453358316,
          3.044522437723423,
          3.044522437723423,
          3.044522437723423,
          3.044522437723423,
          3.044522437723423,
          3.044522437723423,
          3.044522437723423,
          3.044522437723423,
          3.044522437723423,
          3.044522437723423,
          3.044522437723423,
          3.044522437723423,
          3.044522437723423,
          3.044522437723423,
          2.995732273553991,
          2.995732273553991,
          2.995732273553991,
          2.995732273553991,
          2.995732273553991,
          2.995732273553991,
          2.995732273553991,
          2.995732273553991,
          2.995732273553991,
          2.995732273553991,
          2.995732273553991,
          2.995732273553991,
          2.995732273553991,
          2.995732273553991,
          2.9444389791664403,
          2.9444389791664403,
          2.9444389791664403,
          2.9444389791664403,
          2.9444389791664403,
          2.9444389791664403,
          2.9444389791664403,
          2.9444389791664403,
          2.9444389791664403,
          2.9444389791664403,
          2.8903717578961645,
          2.8903717578961645,
          2.8903717578961645,
          2.8903717578961645,
          2.8903717578961645,
          2.8903717578961645,
          2.8903717578961645,
          2.8903717578961645,
          2.8903717578961645,
          2.8903717578961645,
          2.8903717578961645,
          2.8903717578961645,
          2.8903717578961645
         ]
        }
       ],
       "layout": {
        "bargap": 0.2,
        "height": 600,
        "template": {
         "data": {
          "bar": [
           {
            "error_x": {
             "color": "#f2f5fa"
            },
            "error_y": {
             "color": "#f2f5fa"
            },
            "marker": {
             "line": {
              "color": "rgb(17,17,17)",
              "width": 0.5
             },
             "pattern": {
              "fillmode": "overlay",
              "size": 10,
              "solidity": 0.2
             }
            },
            "type": "bar"
           }
          ],
          "barpolar": [
           {
            "marker": {
             "line": {
              "color": "rgb(17,17,17)",
              "width": 0.5
             },
             "pattern": {
              "fillmode": "overlay",
              "size": 10,
              "solidity": 0.2
             }
            },
            "type": "barpolar"
           }
          ],
          "carpet": [
           {
            "aaxis": {
             "endlinecolor": "#A2B1C6",
             "gridcolor": "#506784",
             "linecolor": "#506784",
             "minorgridcolor": "#506784",
             "startlinecolor": "#A2B1C6"
            },
            "baxis": {
             "endlinecolor": "#A2B1C6",
             "gridcolor": "#506784",
             "linecolor": "#506784",
             "minorgridcolor": "#506784",
             "startlinecolor": "#A2B1C6"
            },
            "type": "carpet"
           }
          ],
          "choropleth": [
           {
            "colorbar": {
             "outlinewidth": 0,
             "ticks": ""
            },
            "type": "choropleth"
           }
          ],
          "contour": [
           {
            "colorbar": {
             "outlinewidth": 0,
             "ticks": ""
            },
            "colorscale": [
             [
              0,
              "#0d0887"
             ],
             [
              0.1111111111111111,
              "#46039f"
             ],
             [
              0.2222222222222222,
              "#7201a8"
             ],
             [
              0.3333333333333333,
              "#9c179e"
             ],
             [
              0.4444444444444444,
              "#bd3786"
             ],
             [
              0.5555555555555556,
              "#d8576b"
             ],
             [
              0.6666666666666666,
              "#ed7953"
             ],
             [
              0.7777777777777778,
              "#fb9f3a"
             ],
             [
              0.8888888888888888,
              "#fdca26"
             ],
             [
              1,
              "#f0f921"
             ]
            ],
            "type": "contour"
           }
          ],
          "contourcarpet": [
           {
            "colorbar": {
             "outlinewidth": 0,
             "ticks": ""
            },
            "type": "contourcarpet"
           }
          ],
          "heatmap": [
           {
            "colorbar": {
             "outlinewidth": 0,
             "ticks": ""
            },
            "colorscale": [
             [
              0,
              "#0d0887"
             ],
             [
              0.1111111111111111,
              "#46039f"
             ],
             [
              0.2222222222222222,
              "#7201a8"
             ],
             [
              0.3333333333333333,
              "#9c179e"
             ],
             [
              0.4444444444444444,
              "#bd3786"
             ],
             [
              0.5555555555555556,
              "#d8576b"
             ],
             [
              0.6666666666666666,
              "#ed7953"
             ],
             [
              0.7777777777777778,
              "#fb9f3a"
             ],
             [
              0.8888888888888888,
              "#fdca26"
             ],
             [
              1,
              "#f0f921"
             ]
            ],
            "type": "heatmap"
           }
          ],
          "heatmapgl": [
           {
            "colorbar": {
             "outlinewidth": 0,
             "ticks": ""
            },
            "colorscale": [
             [
              0,
              "#0d0887"
             ],
             [
              0.1111111111111111,
              "#46039f"
             ],
             [
              0.2222222222222222,
              "#7201a8"
             ],
             [
              0.3333333333333333,
              "#9c179e"
             ],
             [
              0.4444444444444444,
              "#bd3786"
             ],
             [
              0.5555555555555556,
              "#d8576b"
             ],
             [
              0.6666666666666666,
              "#ed7953"
             ],
             [
              0.7777777777777778,
              "#fb9f3a"
             ],
             [
              0.8888888888888888,
              "#fdca26"
             ],
             [
              1,
              "#f0f921"
             ]
            ],
            "type": "heatmapgl"
           }
          ],
          "histogram": [
           {
            "marker": {
             "pattern": {
              "fillmode": "overlay",
              "size": 10,
              "solidity": 0.2
             }
            },
            "type": "histogram"
           }
          ],
          "histogram2d": [
           {
            "colorbar": {
             "outlinewidth": 0,
             "ticks": ""
            },
            "colorscale": [
             [
              0,
              "#0d0887"
             ],
             [
              0.1111111111111111,
              "#46039f"
             ],
             [
              0.2222222222222222,
              "#7201a8"
             ],
             [
              0.3333333333333333,
              "#9c179e"
             ],
             [
              0.4444444444444444,
              "#bd3786"
             ],
             [
              0.5555555555555556,
              "#d8576b"
             ],
             [
              0.6666666666666666,
              "#ed7953"
             ],
             [
              0.7777777777777778,
              "#fb9f3a"
             ],
             [
              0.8888888888888888,
              "#fdca26"
             ],
             [
              1,
              "#f0f921"
             ]
            ],
            "type": "histogram2d"
           }
          ],
          "histogram2dcontour": [
           {
            "colorbar": {
             "outlinewidth": 0,
             "ticks": ""
            },
            "colorscale": [
             [
              0,
              "#0d0887"
             ],
             [
              0.1111111111111111,
              "#46039f"
             ],
             [
              0.2222222222222222,
              "#7201a8"
             ],
             [
              0.3333333333333333,
              "#9c179e"
             ],
             [
              0.4444444444444444,
              "#bd3786"
             ],
             [
              0.5555555555555556,
              "#d8576b"
             ],
             [
              0.6666666666666666,
              "#ed7953"
             ],
             [
              0.7777777777777778,
              "#fb9f3a"
             ],
             [
              0.8888888888888888,
              "#fdca26"
             ],
             [
              1,
              "#f0f921"
             ]
            ],
            "type": "histogram2dcontour"
           }
          ],
          "mesh3d": [
           {
            "colorbar": {
             "outlinewidth": 0,
             "ticks": ""
            },
            "type": "mesh3d"
           }
          ],
          "parcoords": [
           {
            "line": {
             "colorbar": {
              "outlinewidth": 0,
              "ticks": ""
             }
            },
            "type": "parcoords"
           }
          ],
          "pie": [
           {
            "automargin": true,
            "type": "pie"
           }
          ],
          "scatter": [
           {
            "marker": {
             "line": {
              "color": "#283442"
             }
            },
            "type": "scatter"
           }
          ],
          "scatter3d": [
           {
            "line": {
             "colorbar": {
              "outlinewidth": 0,
              "ticks": ""
             }
            },
            "marker": {
             "colorbar": {
              "outlinewidth": 0,
              "ticks": ""
             }
            },
            "type": "scatter3d"
           }
          ],
          "scattercarpet": [
           {
            "marker": {
             "colorbar": {
              "outlinewidth": 0,
              "ticks": ""
             }
            },
            "type": "scattercarpet"
           }
          ],
          "scattergeo": [
           {
            "marker": {
             "colorbar": {
              "outlinewidth": 0,
              "ticks": ""
             }
            },
            "type": "scattergeo"
           }
          ],
          "scattergl": [
           {
            "marker": {
             "line": {
              "color": "#283442"
             }
            },
            "type": "scattergl"
           }
          ],
          "scattermapbox": [
           {
            "marker": {
             "colorbar": {
              "outlinewidth": 0,
              "ticks": ""
             }
            },
            "type": "scattermapbox"
           }
          ],
          "scatterpolar": [
           {
            "marker": {
             "colorbar": {
              "outlinewidth": 0,
              "ticks": ""
             }
            },
            "type": "scatterpolar"
           }
          ],
          "scatterpolargl": [
           {
            "marker": {
             "colorbar": {
              "outlinewidth": 0,
              "ticks": ""
             }
            },
            "type": "scatterpolargl"
           }
          ],
          "scatterternary": [
           {
            "marker": {
             "colorbar": {
              "outlinewidth": 0,
              "ticks": ""
             }
            },
            "type": "scatterternary"
           }
          ],
          "surface": [
           {
            "colorbar": {
             "outlinewidth": 0,
             "ticks": ""
            },
            "colorscale": [
             [
              0,
              "#0d0887"
             ],
             [
              0.1111111111111111,
              "#46039f"
             ],
             [
              0.2222222222222222,
              "#7201a8"
             ],
             [
              0.3333333333333333,
              "#9c179e"
             ],
             [
              0.4444444444444444,
              "#bd3786"
             ],
             [
              0.5555555555555556,
              "#d8576b"
             ],
             [
              0.6666666666666666,
              "#ed7953"
             ],
             [
              0.7777777777777778,
              "#fb9f3a"
             ],
             [
              0.8888888888888888,
              "#fdca26"
             ],
             [
              1,
              "#f0f921"
             ]
            ],
            "type": "surface"
           }
          ],
          "table": [
           {
            "cells": {
             "fill": {
              "color": "#506784"
             },
             "line": {
              "color": "rgb(17,17,17)"
             }
            },
            "header": {
             "fill": {
              "color": "#2a3f5f"
             },
             "line": {
              "color": "rgb(17,17,17)"
             }
            },
            "type": "table"
           }
          ]
         },
         "layout": {
          "annotationdefaults": {
           "arrowcolor": "#f2f5fa",
           "arrowhead": 0,
           "arrowwidth": 1
          },
          "autotypenumbers": "strict",
          "coloraxis": {
           "colorbar": {
            "outlinewidth": 0,
            "ticks": ""
           }
          },
          "colorscale": {
           "diverging": [
            [
             0,
             "#8e0152"
            ],
            [
             0.1,
             "#c51b7d"
            ],
            [
             0.2,
             "#de77ae"
            ],
            [
             0.3,
             "#f1b6da"
            ],
            [
             0.4,
             "#fde0ef"
            ],
            [
             0.5,
             "#f7f7f7"
            ],
            [
             0.6,
             "#e6f5d0"
            ],
            [
             0.7,
             "#b8e186"
            ],
            [
             0.8,
             "#7fbc41"
            ],
            [
             0.9,
             "#4d9221"
            ],
            [
             1,
             "#276419"
            ]
           ],
           "sequential": [
            [
             0,
             "#0d0887"
            ],
            [
             0.1111111111111111,
             "#46039f"
            ],
            [
             0.2222222222222222,
             "#7201a8"
            ],
            [
             0.3333333333333333,
             "#9c179e"
            ],
            [
             0.4444444444444444,
             "#bd3786"
            ],
            [
             0.5555555555555556,
             "#d8576b"
            ],
            [
             0.6666666666666666,
             "#ed7953"
            ],
            [
             0.7777777777777778,
             "#fb9f3a"
            ],
            [
             0.8888888888888888,
             "#fdca26"
            ],
            [
             1,
             "#f0f921"
            ]
           ],
           "sequentialminus": [
            [
             0,
             "#0d0887"
            ],
            [
             0.1111111111111111,
             "#46039f"
            ],
            [
             0.2222222222222222,
             "#7201a8"
            ],
            [
             0.3333333333333333,
             "#9c179e"
            ],
            [
             0.4444444444444444,
             "#bd3786"
            ],
            [
             0.5555555555555556,
             "#d8576b"
            ],
            [
             0.6666666666666666,
             "#ed7953"
            ],
            [
             0.7777777777777778,
             "#fb9f3a"
            ],
            [
             0.8888888888888888,
             "#fdca26"
            ],
            [
             1,
             "#f0f921"
            ]
           ]
          },
          "colorway": [
           "#636efa",
           "#EF553B",
           "#00cc96",
           "#ab63fa",
           "#FFA15A",
           "#19d3f3",
           "#FF6692",
           "#B6E880",
           "#FF97FF",
           "#FECB52"
          ],
          "font": {
           "color": "#f2f5fa"
          },
          "geo": {
           "bgcolor": "rgb(17,17,17)",
           "lakecolor": "rgb(17,17,17)",
           "landcolor": "rgb(17,17,17)",
           "showlakes": true,
           "showland": true,
           "subunitcolor": "#506784"
          },
          "hoverlabel": {
           "align": "left"
          },
          "hovermode": "closest",
          "mapbox": {
           "style": "dark"
          },
          "paper_bgcolor": "rgb(17,17,17)",
          "plot_bgcolor": "rgb(17,17,17)",
          "polar": {
           "angularaxis": {
            "gridcolor": "#506784",
            "linecolor": "#506784",
            "ticks": ""
           },
           "bgcolor": "rgb(17,17,17)",
           "radialaxis": {
            "gridcolor": "#506784",
            "linecolor": "#506784",
            "ticks": ""
           }
          },
          "scene": {
           "xaxis": {
            "backgroundcolor": "rgb(17,17,17)",
            "gridcolor": "#506784",
            "gridwidth": 2,
            "linecolor": "#506784",
            "showbackground": true,
            "ticks": "",
            "zerolinecolor": "#C8D4E3"
           },
           "yaxis": {
            "backgroundcolor": "rgb(17,17,17)",
            "gridcolor": "#506784",
            "gridwidth": 2,
            "linecolor": "#506784",
            "showbackground": true,
            "ticks": "",
            "zerolinecolor": "#C8D4E3"
           },
           "zaxis": {
            "backgroundcolor": "rgb(17,17,17)",
            "gridcolor": "#506784",
            "gridwidth": 2,
            "linecolor": "#506784",
            "showbackground": true,
            "ticks": "",
            "zerolinecolor": "#C8D4E3"
           }
          },
          "shapedefaults": {
           "line": {
            "color": "#f2f5fa"
           }
          },
          "sliderdefaults": {
           "bgcolor": "#C8D4E3",
           "bordercolor": "rgb(17,17,17)",
           "borderwidth": 1,
           "tickwidth": 0
          },
          "ternary": {
           "aaxis": {
            "gridcolor": "#506784",
            "linecolor": "#506784",
            "ticks": ""
           },
           "baxis": {
            "gridcolor": "#506784",
            "linecolor": "#506784",
            "ticks": ""
           },
           "bgcolor": "rgb(17,17,17)",
           "caxis": {
            "gridcolor": "#506784",
            "linecolor": "#506784",
            "ticks": ""
           }
          },
          "title": {
           "x": 0.05
          },
          "updatemenudefaults": {
           "bgcolor": "#506784",
           "borderwidth": 0
          },
          "xaxis": {
           "automargin": true,
           "gridcolor": "#283442",
           "linecolor": "#506784",
           "ticks": "",
           "title": {
            "standoff": 15
           },
           "zerolinecolor": "#283442",
           "zerolinewidth": 2
          },
          "yaxis": {
           "automargin": true,
           "gridcolor": "#283442",
           "linecolor": "#506784",
           "ticks": "",
           "title": {
            "standoff": 15
           },
           "zerolinecolor": "#283442",
           "zerolinewidth": 2
          }
         }
        },
        "title": {
         "text": "Top 300 Term Frequencies (Log-Transformed)"
        },
        "width": 1200,
        "xaxis": {
         "autorange": true,
         "range": [
          -0.5,
          299.5
         ],
         "tickangle": 90,
         "title": {
          "text": "Terms"
         },
         "type": "category"
        },
        "yaxis": {
         "autorange": true,
         "range": [
          0,
          7.5887792174767466
         ],
         "title": {
          "text": "Log(Frequency)"
         },
         "type": "linear"
        }
       }
      },
      "image/png": "[encoded data removed]",
      "text/html": [
       "<div>                            <div id=\"8013ff31-576b-4441-a690-d95742ef9816\" class=\"plotly-graph-div\" style=\"height:600px; width:1200px;\"></div>            <script type=\"text/javascript\">                require([\"plotly\"], function(Plotly) {                    window.PLOTLYENV=window.PLOTLYENV || {};                                    if (document.getElementById(\"8013ff31-576b-4441-a690-d95742ef9816\")) {                    Plotly.newPlot(                        \"8013ff31-576b-4441-a690-d95742ef9816\",                        [{\"hovertemplate\":\"<b>Term:</b> %{x}<br><b>Log(Frequency):</b> %{y}<extra></extra>\",\"marker\":{\"color\":[7.20934025660291,6.905753276311464,6.843749949006225,6.828712071641684,6.641182169740591,6.618738983517219,6.583409222158765,6.418364935936212,6.375024819828097,6.371611847231857,5.963579343618446,5.929589143389895,5.908082938168931,5.8888779583328805,5.755742213586912,5.736572297479192,5.703782474656201,5.673323267171493,5.631211781821365,5.5909869805108565,5.501258210544727,5.484796933490655,5.407171771460119,5.365976015021851,5.3471075307174685,5.278114659230517,5.231108616854587,5.220355825078324,5.204006687076795,5.187385805840755,5.153291594497779,5.147494476813453,5.135798437050262,5.123963979403259,5.081404364984463,5.075173815233827,5.043425116919247,5.0369526024136295,4.969813299576001,4.962844630259907,4.941642422609304,4.941642422609304,4.941642422609304,4.9344739331306915,4.927253685157205,4.927253685157205,4.927253685157205,4.919980925828125,4.919980925828125,4.890349128221754,4.852030263919617,4.820281565605037,4.77912349311153,4.770684624465665,4.7535901911063645,4.6913478822291435,4.663439094112067,4.6443908991413725,4.634728988229636,4.61512051684126,4.61512051684126,4.61512051684126,4.564348191467836,4.553876891600541,4.553876891600541,4.543294782270004,4.532599493153256,4.499809670330265,4.499809670330265,4.48863636973214,4.48863636973214,4.477336814478207,4.465908118654584,4.465908118654584,4.454347296253507,4.454347296253507,4.454347296253507,4.418840607796598,4.418840607796598,4.406719247264253,4.406719247264253,4.382026634673881,4.382026634673881,4.3694478524670215,4.343805421853684,4.343805421853684,4.343805421853684,4.343805421853684,4.343805421853684,4.330733340286331,4.31748811353631,4.30406509320417,4.30406509320417,4.290459441148391,4.290459441148391,4.276666119016055,4.2626798770413155,4.23410650459726,4.219507705176107,4.219507705176107,4.204692619390966,4.189654742026425,4.174387269895637,4.174387269895637,4.143134726391533,4.127134385045092,4.127134385045092,4.110873864173311,4.110873864173311,4.110873864173311,4.110873864173311,4.0943445622221,4.0943445622221,4.04305126783455,4.02535169073515,4.02535169073515,4.02535169073515,4.007333185232471,4.007333185232471,3.9889840465642745,3.970291913552122,3.970291913552122,3.970291913552122,3.9512437185814275,3.9318256327243257,3.9318256327243257,3.9318256327243257,3.9318256327243257,3.9318256327243257,3.9318256327243257,3.912023005428146,3.8918202981106265,3.8918202981106265,3.8918202981106265,3.8918202981106265,3.871201010907891,3.871201010907891,3.871201010907891,3.871201010907891,3.871201010907891,3.871201010907891,3.871201010907891,3.871201010907891,3.8501476017100584,3.8501476017100584,3.828641396489095,3.828641396489095,3.828641396489095,3.8066624897703196,3.7612001156935624,3.713572066704308,3.713572066704308,3.713572066704308,3.713572066704308,3.6888794541139363,3.6888794541139363,3.6888794541139363,3.6888794541139363,3.6888794541139363,3.6635616461296463,3.6635616461296463,3.6635616461296463,3.6375861597263857,3.6375861597263857,3.6375861597263857,3.6375861597263857,3.6109179126442243,3.6109179126442243,3.6109179126442243,3.58351893845611,3.58351893845611,3.58351893845611,3.58351893845611,3.58351893845611,3.58351893845611,3.58351893845611,3.5553480614894135,3.5553480614894135,3.5553480614894135,3.5553480614894135,3.5263605246161616,3.5263605246161616,3.5263605246161616,3.5263605246161616,3.4965075614664802,3.4657359027997265,3.4657359027997265,3.4339872044851463,3.4339872044851463,3.4339872044851463,3.4339872044851463,3.4011973816621555,3.4011973816621555,3.4011973816621555,3.367295829986474,3.367295829986474,3.367295829986474,3.367295829986474,3.367295829986474,3.332204510175204,3.332204510175204,3.332204510175204,3.295836866004329,3.295836866004329,3.295836866004329,3.295836866004329,3.295836866004329,3.295836866004329,3.295836866004329,3.295836866004329,3.258096538021482,3.258096538021482,3.258096538021482,3.258096538021482,3.258096538021482,3.258096538021482,3.2188758248682006,3.2188758248682006,3.2188758248682006,3.2188758248682006,3.2188758248682006,3.2188758248682006,3.2188758248682006,3.1780538303479458,3.1780538303479458,3.1780538303479458,3.1780538303479458,3.1780538303479458,3.1780538303479458,3.1780538303479458,3.1354942159291497,3.1354942159291497,3.1354942159291497,3.1354942159291497,3.1354942159291497,3.1354942159291497,3.1354942159291497,3.1354942159291497,3.1354942159291497,3.091042453358316,3.091042453358316,3.091042453358316,3.091042453358316,3.091042453358316,3.091042453358316,3.091042453358316,3.091042453358316,3.091042453358316,3.091042453358316,3.044522437723423,3.044522437723423,3.044522437723423,3.044522437723423,3.044522437723423,3.044522437723423,3.044522437723423,3.044522437723423,3.044522437723423,3.044522437723423,3.044522437723423,3.044522437723423,3.044522437723423,3.044522437723423,2.995732273553991,2.995732273553991,2.995732273553991,2.995732273553991,2.995732273553991,2.995732273553991,2.995732273553991,2.995732273553991,2.995732273553991,2.995732273553991,2.995732273553991,2.995732273553991,2.995732273553991,2.995732273553991,2.9444389791664403,2.9444389791664403,2.9444389791664403,2.9444389791664403,2.9444389791664403,2.9444389791664403,2.9444389791664403,2.9444389791664403,2.9444389791664403,2.9444389791664403,2.8903717578961645,2.8903717578961645,2.8903717578961645,2.8903717578961645,2.8903717578961645,2.8903717578961645,2.8903717578961645,2.8903717578961645,2.8903717578961645,2.8903717578961645,2.8903717578961645,2.8903717578961645,2.8903717578961645],\"colorscale\":[[0.0,\"rgb(255,255,217)\"],[0.125,\"rgb(237,248,177)\"],[0.25,\"rgb(199,233,180)\"],[0.375,\"rgb(127,205,187)\"],[0.5,\"rgb(65,182,196)\"],[0.625,\"rgb(29,145,192)\"],[0.75,\"rgb(34,94,168)\"],[0.875,\"rgb(37,52,148)\"],[1.0,\"rgb(8,29,88)\"]]},\"text\":[\"7.20934025660291\",\"6.905753276311464\",\"6.843749949006225\",\"6.828712071641684\",\"6.641182169740591\",\"6.618738983517219\",\"6.583409222158765\",\"6.418364935936212\",\"6.375024819828097\",\"6.371611847231857\",\"5.963579343618446\",\"5.929589143389895\",\"5.908082938168931\",\"5.8888779583328805\",\"5.755742213586912\",\"5.736572297479192\",\"5.703782474656201\",\"5.673323267171493\",\"5.631211781821365\",\"5.5909869805108565\",\"5.501258210544727\",\"5.484796933490655\",\"5.407171771460119\",\"5.365976015021851\",\"5.3471075307174685\",\"5.278114659230517\",\"5.231108616854587\",\"5.220355825078324\",\"5.204006687076795\",\"5.187385805840755\",\"5.153291594497779\",\"5.147494476813453\",\"5.135798437050262\",\"5.123963979403259\",\"5.081404364984463\",\"5.075173815233827\",\"5.043425116919247\",\"5.0369526024136295\",\"4.969813299576001\",\"4.962844630259907\",\"4.941642422609304\",\"4.941642422609304\",\"4.941642422609304\",\"4.9344739331306915\",\"4.927253685157205\",\"4.927253685157205\",\"4.927253685157205\",\"4.919980925828125\",\"4.919980925828125\",\"4.890349128221754\",\"4.852030263919617\",\"4.820281565605037\",\"4.77912349311153\",\"4.770684624465665\",\"4.7535901911063645\",\"4.6913478822291435\",\"4.663439094112067\",\"4.6443908991413725\",\"4.634728988229636\",\"4.61512051684126\",\"4.61512051684126\",\"4.61512051684126\",\"4.564348191467836\",\"4.553876891600541\",\"4.553876891600541\",\"4.543294782270004\",\"4.532599493153256\",\"4.499809670330265\",\"4.499809670330265\",\"4.48863636973214\",\"4.48863636973214\",\"4.477336814478207\",\"4.465908118654584\",\"4.465908118654584\",\"4.454347296253507\",\"4.454347296253507\",\"4.454347296253507\",\"4.418840607796598\",\"4.418840607796598\",\"4.406719247264253\",\"4.406719247264253\",\"4.382026634673881\",\"4.382026634673881\",\"4.3694478524670215\",\"4.343805421853684\",\"4.343805421853684\",\"4.343805421853684\",\"4.343805421853684\",\"4.343805421853684\",\"4.330733340286331\",\"4.31748811353631\",\"4.30406509320417\",\"4.30406509320417\",\"4.290459441148391\",\"4.290459441148391\",\"4.276666119016055\",\"4.2626798770413155\",\"4.23410650459726\",\"4.219507705176107\",\"4.219507705176107\",\"4.204692619390966\",\"4.189654742026425\",\"4.174387269895637\",\"4.174387269895637\",\"4.143134726391533\",\"4.127134385045092\",\"4.127134385045092\",\"4.110873864173311\",\"4.110873864173311\",\"4.110873864173311\",\"4.110873864173311\",\"4.0943445622221\",\"4.0943445622221\",\"4.04305126783455\",\"4.02535169073515\",\"4.02535169073515\",\"4.02535169073515\",\"4.007333185232471\",\"4.007333185232471\",\"3.9889840465642745\",\"3.970291913552122\",\"3.970291913552122\",\"3.970291913552122\",\"3.9512437185814275\",\"3.9318256327243257\",\"3.9318256327243257\",\"3.9318256327243257\",\"3.9318256327243257\",\"3.9318256327243257\",\"3.9318256327243257\",\"3.912023005428146\",\"3.8918202981106265\",\"3.8918202981106265\",\"3.8918202981106265\",\"3.8918202981106265\",\"3.871201010907891\",\"3.871201010907891\",\"3.871201010907891\",\"3.871201010907891\",\"3.871201010907891\",\"3.871201010907891\",\"3.871201010907891\",\"3.871201010907891\",\"3.8501476017100584\",\"3.8501476017100584\",\"3.828641396489095\",\"3.828641396489095\",\"3.828641396489095\",\"3.8066624897703196\",\"3.7612001156935624\",\"3.713572066704308\",\"3.713572066704308\",\"3.713572066704308\",\"3.713572066704308\",\"3.6888794541139363\",\"3.6888794541139363\",\"3.6888794541139363\",\"3.6888794541139363\",\"3.6888794541139363\",\"3.6635616461296463\",\"3.6635616461296463\",\"3.6635616461296463\",\"3.6375861597263857\",\"3.6375861597263857\",\"3.6375861597263857\",\"3.6375861597263857\",\"3.6109179126442243\",\"3.6109179126442243\",\"3.6109179126442243\",\"3.58351893845611\",\"3.58351893845611\",\"3.58351893845611\",\"3.58351893845611\",\"3.58351893845611\",\"3.58351893845611\",\"3.58351893845611\",\"3.5553480614894135\",\"3.5553480614894135\",\"3.5553480614894135\",\"3.5553480614894135\",\"3.5263605246161616\",\"3.5263605246161616\",\"3.5263605246161616\",\"3.5263605246161616\",\"3.4965075614664802\",\"3.4657359027997265\",\"3.4657359027997265\",\"3.4339872044851463\",\"3.4339872044851463\",\"3.4339872044851463\",\"3.4339872044851463\",\"3.4011973816621555\",\"3.4011973816621555\",\"3.4011973816621555\",\"3.367295829986474\",\"3.367295829986474\",\"3.367295829986474\",\"3.367295829986474\",\"3.367295829986474\",\"3.332204510175204\",\"3.332204510175204\",\"3.332204510175204\",\"3.295836866004329\",\"3.295836866004329\",\"3.295836866004329\",\"3.295836866004329\",\"3.295836866004329\",\"3.295836866004329\",\"3.295836866004329\",\"3.295836866004329\",\"3.258096538021482\",\"3.258096538021482\",\"3.258096538021482\",\"3.258096538021482\",\"3.258096538021482\",\"3.258096538021482\",\"3.2188758248682006\",\"3.2188758248682006\",\"3.2188758248682006\",\"3.2188758248682006\",\"3.2188758248682006\",\"3.2188758248682006\",\"3.2188758248682006\",\"3.1780538303479458\",\"3.1780538303479458\",\"3.1780538303479458\",\"3.1780538303479458\",\"3.1780538303479458\",\"3.1780538303479458\",\"3.1780538303479458\",\"3.1354942159291497\",\"3.1354942159291497\",\"3.1354942159291497\",\"3.1354942159291497\",\"3.1354942159291497\",\"3.1354942159291497\",\"3.1354942159291497\",\"3.1354942159291497\",\"3.1354942159291497\",\"3.091042453358316\",\"3.091042453358316\",\"3.091042453358316\",\"3.091042453358316\",\"3.091042453358316\",\"3.091042453358316\",\"3.091042453358316\",\"3.091042453358316\",\"3.091042453358316\",\"3.091042453358316\",\"3.044522437723423\",\"3.044522437723423\",\"3.044522437723423\",\"3.044522437723423\",\"3.044522437723423\",\"3.044522437723423\",\"3.044522437723423\",\"3.044522437723423\",\"3.044522437723423\",\"3.044522437723423\",\"3.044522437723423\",\"3.044522437723423\",\"3.044522437723423\",\"3.044522437723423\",\"2.995732273553991\",\"2.995732273553991\",\"2.995732273553991\",\"2.995732273553991\",\"2.995732273553991\",\"2.995732273553991\",\"2.995732273553991\",\"2.995732273553991\",\"2.995732273553991\",\"2.995732273553991\",\"2.995732273553991\",\"2.995732273553991\",\"2.995732273553991\",\"2.995732273553991\",\"2.9444389791664403\",\"2.9444389791664403\",\"2.9444389791664403\",\"2.9444389791664403\",\"2.9444389791664403\",\"2.9444389791664403\",\"2.9444389791664403\",\"2.9444389791664403\",\"2.9444389791664403\",\"2.9444389791664403\",\"2.8903717578961645\",\"2.8903717578961645\",\"2.8903717578961645\",\"2.8903717578961645\",\"2.8903717578961645\",\"2.8903717578961645\",\"2.8903717578961645\",\"2.8903717578961645\",\"2.8903717578961645\",\"2.8903717578961645\",\"2.8903717578961645\",\"2.8903717578961645\",\"2.8903717578961645\"],\"textposition\":\"outside\",\"x\":[\"the\",\"this\",\"to\",\"and\",\"my\",\"song\",\"of\",\"in\",\"it\",\"was\",\"me\",\"is\",\"you\",\"that\",\"so\",\"love\",\"when\",\"back\",\"for\",\"music\",\"memories\",\"on\",\"with\",\"time\",\"great\",\"but\",\"have\",\"years\",\"all\",\"he\",\"beautiful\",\"as\",\"like\",\"one\",\"songs\",\"old\",\"just\",\"her\",\"we\",\"she\",\"at\",\"be\",\"from\",\"good\",\"voice\",\"now\",\"not\",\"what\",\"can\",\"remember\",\"always\",\"his\",\"still\",\"they\",\"much\",\"brings\",\"will\",\"are\",\"never\",\"had\",\"many\",\"days\",\"very\",\"am\",\"up\",\"best\",\"listening\",\"him\",\"thank\",\"these\",\"first\",\"really\",\"miss\",\"who\",\"listen\",\"out\",\"how\",\"hear\",\"about\",\"were\",\"childhood\",\"no\",\"heard\",\"ever\",\"reminds\",\"those\",\"loved\",\"would\",\"there\",\"by\",\"only\",\"know\",\"sing\",\"more\",\"an\",\"has\",\"every\",\"if\",\"dad\",\"life\",\"could\",\"young\",\"then\",\"some\",\"today\",\"used\",\"such\",\"day\",\"don\",\"think\",\"singing\",\"thanks\",\"times\",\"played\",\"again\",\"school\",\"been\",\"do\",\"singer\",\"or\",\"wish\",\"get\",\"too\",\"wonderful\",\"world\",\"favorite\",\"sad\",\"makes\",\"them\",\"most\",\"over\",\"go\",\"did\",\"here\",\"man\",\"happy\",\"people\",\"our\",\"after\",\"came\",\"play\",\"heart\",\"got\",\"ago\",\"little\",\"radio\",\"way\",\"your\",\"come\",\"well\",\"their\",\"nice\",\"real\",\"feel\",\"make\",\"mom\",\"because\",\"version\",\"video\",\"god\",\"passed\",\"than\",\"its\",\"see\",\"away\",\"long\",\"year\",\"better\",\"mum\",\"country\",\"us\",\"age\",\"lyrics\",\"made\",\"why\",\"wow\",\"takes\",\"jim\",\"classic\",\"elvis\",\"being\",\"lovely\",\"amazing\",\"girl\",\"where\",\"live\",\"forever\",\"lot\",\"say\",\"fantastic\",\"name\",\"even\",\"before\",\"playing\",\"dance\",\"early\",\"kid\",\"60\",\"oh\",\"sweet\",\"child\",\"reeves\",\"cry\",\"another\",\"memory\",\"tears\",\"want\",\"any\",\"since\",\"around\",\"into\",\"bring\",\"high\",\"ve\",\"parents\",\"2019\",\"listened\",\"didn\",\"sang\",\"gone\",\"few\",\"70\",\"eyes\",\"record\",\"feeling\",\"tune\",\"singers\",\"true\",\"kind\",\"father\",\"anymore\",\"anyone\",\"words\",\"greatest\",\"hit\",\"died\",\"right\",\"era\",\"which\",\"same\",\"new\",\"sure\",\"other\",\"yes\",\"mother\",\"friend\",\"past\",\"last\",\"later\",\"born\",\"should\",\"brought\",\"look\",\"someone\",\"something\",\"sound\",\"boy\",\"take\",\"60s\",\"youtube\",\"find\",\"50\",\"nothing\",\"going\",\"once\",\"late\",\"80\",\"nostalgic\",\"through\",\"yesterday\",\"down\",\"hearing\",\"grew\",\"teenager\",\"romantic\",\"brilliant\",\"lost\",\"thought\",\"pop\",\"also\",\"dancing\",\"called\",\"awesome\",\"home\",\"rip\",\"sounds\",\"rock\",\"during\",\"family\",\"please\",\"mind\",\"work\",\"missed\",\"almost\",\"things\",\"70s\",\"lady\",\"original\",\"left\",\"understand\"],\"y\":[7.20934025660291,6.905753276311464,6.843749949006225,6.828712071641684,6.641182169740591,6.618738983517219,6.583409222158765,6.418364935936212,6.375024819828097,6.371611847231857,5.963579343618446,5.929589143389895,5.908082938168931,5.8888779583328805,5.755742213586912,5.736572297479192,5.703782474656201,5.673323267171493,5.631211781821365,5.5909869805108565,5.501258210544727,5.484796933490655,5.407171771460119,5.365976015021851,5.3471075307174685,5.278114659230517,5.231108616854587,5.220355825078324,5.204006687076795,5.187385805840755,5.153291594497779,5.147494476813453,5.135798437050262,5.123963979403259,5.081404364984463,5.075173815233827,5.043425116919247,5.0369526024136295,4.969813299576001,4.962844630259907,4.941642422609304,4.941642422609304,4.941642422609304,4.9344739331306915,4.927253685157205,4.927253685157205,4.927253685157205,4.919980925828125,4.919980925828125,4.890349128221754,4.852030263919617,4.820281565605037,4.77912349311153,4.770684624465665,4.7535901911063645,4.6913478822291435,4.663439094112067,4.6443908991413725,4.634728988229636,4.61512051684126,4.61512051684126,4.61512051684126,4.564348191467836,4.553876891600541,4.553876891600541,4.543294782270004,4.532599493153256,4.499809670330265,4.499809670330265,4.48863636973214,4.48863636973214,4.477336814478207,4.465908118654584,4.465908118654584,4.454347296253507,4.454347296253507,4.454347296253507,4.418840607796598,4.418840607796598,4.406719247264253,4.406719247264253,4.382026634673881,4.382026634673881,4.3694478524670215,4.343805421853684,4.343805421853684,4.343805421853684,4.343805421853684,4.343805421853684,4.330733340286331,4.31748811353631,4.30406509320417,4.30406509320417,4.290459441148391,4.290459441148391,4.276666119016055,4.2626798770413155,4.23410650459726,4.219507705176107,4.219507705176107,4.204692619390966,4.189654742026425,4.174387269895637,4.174387269895637,4.143134726391533,4.127134385045092,4.127134385045092,4.110873864173311,4.110873864173311,4.110873864173311,4.110873864173311,4.0943445622221,4.0943445622221,4.04305126783455,4.02535169073515,4.02535169073515,4.02535169073515,4.007333185232471,4.007333185232471,3.9889840465642745,3.970291913552122,3.970291913552122,3.970291913552122,3.9512437185814275,3.9318256327243257,3.9318256327243257,3.9318256327243257,3.9318256327243257,3.9318256327243257,3.9318256327243257,3.912023005428146,3.8918202981106265,3.8918202981106265,3.8918202981106265,3.8918202981106265,3.871201010907891,3.871201010907891,3.871201010907891,3.871201010907891,3.871201010907891,3.871201010907891,3.871201010907891,3.871201010907891,3.8501476017100584,3.8501476017100584,3.828641396489095,3.828641396489095,3.828641396489095,3.8066624897703196,3.7612001156935624,3.713572066704308,3.713572066704308,3.713572066704308,3.713572066704308,3.6888794541139363,3.6888794541139363,3.6888794541139363,3.6888794541139363,3.6888794541139363,3.6635616461296463,3.6635616461296463,3.6635616461296463,3.6375861597263857,3.6375861597263857,3.6375861597263857,3.6375861597263857,3.6109179126442243,3.6109179126442243,3.6109179126442243,3.58351893845611,3.58351893845611,3.58351893845611,3.58351893845611,3.58351893845611,3.58351893845611,3.58351893845611,3.5553480614894135,3.5553480614894135,3.5553480614894135,3.5553480614894135,3.5263605246161616,3.5263605246161616,3.5263605246161616,3.5263605246161616,3.4965075614664802,3.4657359027997265,3.4657359027997265,3.4339872044851463,3.4339872044851463,3.4339872044851463,3.4339872044851463,3.4011973816621555,3.4011973816621555,3.4011973816621555,3.367295829986474,3.367295829986474,3.367295829986474,3.367295829986474,3.367295829986474,3.332204510175204,3.332204510175204,3.332204510175204,3.295836866004329,3.295836866004329,3.295836866004329,3.295836866004329,3.295836866004329,3.295836866004329,3.295836866004329,3.295836866004329,3.258096538021482,3.258096538021482,3.258096538021482,3.258096538021482,3.258096538021482,3.258096538021482,3.2188758248682006,3.2188758248682006,3.2188758248682006,3.2188758248682006,3.2188758248682006,3.2188758248682006,3.2188758248682006,3.1780538303479458,3.1780538303479458,3.1780538303479458,3.1780538303479458,3.1780538303479458,3.1780538303479458,3.1780538303479458,3.1354942159291497,3.1354942159291497,3.1354942159291497,3.1354942159291497,3.1354942159291497,3.1354942159291497,3.1354942159291497,3.1354942159291497,3.1354942159291497,3.091042453358316,3.091042453358316,3.091042453358316,3.091042453358316,3.091042453358316,3.091042453358316,3.091042453358316,3.091042453358316,3.091042453358316,3.091042453358316,3.044522437723423,3.044522437723423,3.044522437723423,3.044522437723423,3.044522437723423,3.044522437723423,3.044522437723423,3.044522437723423,3.044522437723423,3.044522437723423,3.044522437723423,3.044522437723423,3.044522437723423,3.044522437723423,2.995732273553991,2.995732273553991,2.995732273553991,2.995732273553991,2.995732273553991,2.995732273553991,2.995732273553991,2.995732273553991,2.995732273553991,2.995732273553991,2.995732273553991,2.995732273553991,2.995732273553991,2.995732273553991,2.9444389791664403,2.9444389791664403,2.9444389791664403,2.9444389791664403,2.9444389791664403,2.9444389791664403,2.9444389791664403,2.9444389791664403,2.9444389791664403,2.9444389791664403,2.8903717578961645,2.8903717578961645,2.8903717578961645,2.8903717578961645,2.8903717578961645,2.8903717578961645,2.8903717578961645,2.8903717578961645,2.8903717578961645,2.8903717578961645,2.8903717578961645,2.8903717578961645,2.8903717578961645],\"type\":\"bar\"}],                        {\"template\":{\"data\":{\"barpolar\":[{\"marker\":{\"line\":{\"color\":\"rgb(17,17,17)\",\"width\":0.5},\"pattern\":{\"fillmode\":\"overlay\",\"size\":10,\"solidity\":0.2}},\"type\":\"barpolar\"}],\"bar\":[{\"error_x\":{\"color\":\"#f2f5fa\"},\"error_y\":{\"color\":\"#f2f5fa\"},\"marker\":{\"line\":{\"color\":\"rgb(17,17,17)\",\"width\":0.5},\"pattern\":{\"fillmode\":\"overlay\",\"size\":10,\"solidity\":0.2}},\"type\":\"bar\"}],\"carpet\":[{\"aaxis\":{\"endlinecolor\":\"#A2B1C6\",\"gridcolor\":\"#506784\",\"linecolor\":\"#506784\",\"minorgridcolor\":\"#506784\",\"startlinecolor\":\"#A2B1C6\"},\"baxis\":{\"endlinecolor\":\"#A2B1C6\",\"gridcolor\":\"#506784\",\"linecolor\":\"#506784\",\"minorgridcolor\":\"#506784\",\"startlinecolor\":\"#A2B1C6\"},\"type\":\"carpet\"}],\"choropleth\":[{\"colorbar\":{\"outlinewidth\":0,\"ticks\":\"\"},\"type\":\"choropleth\"}],\"contourcarpet\":[{\"colorbar\":{\"outlinewidth\":0,\"ticks\":\"\"},\"type\":\"contourcarpet\"}],\"contour\":[{\"colorbar\":{\"outlinewidth\":0,\"ticks\":\"\"},\"colorscale\":[[0.0,\"#0d0887\"],[0.1111111111111111,\"#46039f\"],[0.2222222222222222,\"#7201a8\"],[0.3333333333333333,\"#9c179e\"],[0.4444444444444444,\"#bd3786\"],[0.5555555555555556,\"#d8576b\"],[0.6666666666666666,\"#ed7953\"],[0.7777777777777778,\"#fb9f3a\"],[0.8888888888888888,\"#fdca26\"],[1.0,\"#f0f921\"]],\"type\":\"contour\"}],\"heatmapgl\":[{\"colorbar\":{\"outlinewidth\":0,\"ticks\":\"\"},\"colorscale\":[[0.0,\"#0d0887\"],[0.1111111111111111,\"#46039f\"],[0.2222222222222222,\"#7201a8\"],[0.3333333333333333,\"#9c179e\"],[0.4444444444444444,\"#bd3786\"],[0.5555555555555556,\"#d8576b\"],[0.6666666666666666,\"#ed7953\"],[0.7777777777777778,\"#fb9f3a\"],[0.8888888888888888,\"#fdca26\"],[1.0,\"#f0f921\"]],\"type\":\"heatmapgl\"}],\"heatmap\":[{\"colorbar\":{\"outlinewidth\":0,\"ticks\":\"\"},\"colorscale\":[[0.0,\"#0d0887\"],[0.1111111111111111,\"#46039f\"],[0.2222222222222222,\"#7201a8\"],[0.3333333333333333,\"#9c179e\"],[0.4444444444444444,\"#bd3786\"],[0.5555555555555556,\"#d8576b\"],[0.6666666666666666,\"#ed7953\"],[0.7777777777777778,\"#fb9f3a\"],[0.8888888888888888,\"#fdca26\"],[1.0,\"#f0f921\"]],\"type\":\"heatmap\"}],\"histogram2dcontour\":[{\"colorbar\":{\"outlinewidth\":0,\"ticks\":\"\"},\"colorscale\":[[0.0,\"#0d0887\"],[0.1111111111111111,\"#46039f\"],[0.2222222222222222,\"#7201a8\"],[0.3333333333333333,\"#9c179e\"],[0.4444444444444444,\"#bd3786\"],[0.5555555555555556,\"#d8576b\"],[0.6666666666666666,\"#ed7953\"],[0.7777777777777778,\"#fb9f3a\"],[0.8888888888888888,\"#fdca26\"],[1.0,\"#f0f921\"]],\"type\":\"histogram2dcontour\"}],\"histogram2d\":[{\"colorbar\":{\"outlinewidth\":0,\"ticks\":\"\"},\"colorscale\":[[0.0,\"#0d0887\"],[0.1111111111111111,\"#46039f\"],[0.2222222222222222,\"#7201a8\"],[0.3333333333333333,\"#9c179e\"],[0.4444444444444444,\"#bd3786\"],[0.5555555555555556,\"#d8576b\"],[0.6666666666666666,\"#ed7953\"],[0.7777777777777778,\"#fb9f3a\"],[0.8888888888888888,\"#fdca26\"],[1.0,\"#f0f921\"]],\"type\":\"histogram2d\"}],\"histogram\":[{\"marker\":{\"pattern\":{\"fillmode\":\"overlay\",\"size\":10,\"solidity\":0.2}},\"type\":\"histogram\"}],\"mesh3d\":[{\"colorbar\":{\"outlinewidth\":0,\"ticks\":\"\"},\"type\":\"mesh3d\"}],\"parcoords\":[{\"line\":{\"colorbar\":{\"outlinewidth\":0,\"ticks\":\"\"}},\"type\":\"parcoords\"}],\"pie\":[{\"automargin\":true,\"type\":\"pie\"}],\"scatter3d\":[{\"line\":{\"colorbar\":{\"outlinewidth\":0,\"ticks\":\"\"}},\"marker\":{\"colorbar\":{\"outlinewidth\":0,\"ticks\":\"\"}},\"type\":\"scatter3d\"}],\"scattercarpet\":[{\"marker\":{\"colorbar\":{\"outlinewidth\":0,\"ticks\":\"\"}},\"type\":\"scattercarpet\"}],\"scattergeo\":[{\"marker\":{\"colorbar\":{\"outlinewidth\":0,\"ticks\":\"\"}},\"type\":\"scattergeo\"}],\"scattergl\":[{\"marker\":{\"line\":{\"color\":\"#283442\"}},\"type\":\"scattergl\"}],\"scattermapbox\":[{\"marker\":{\"colorbar\":{\"outlinewidth\":0,\"ticks\":\"\"}},\"type\":\"scattermapbox\"}],\"scatterpolargl\":[{\"marker\":{\"colorbar\":{\"outlinewidth\":0,\"ticks\":\"\"}},\"type\":\"scatterpolargl\"}],\"scatterpolar\":[{\"marker\":{\"colorbar\":{\"outlinewidth\":0,\"ticks\":\"\"}},\"type\":\"scatterpolar\"}],\"scatter\":[{\"marker\":{\"line\":{\"color\":\"#283442\"}},\"type\":\"scatter\"}],\"scatterternary\":[{\"marker\":{\"colorbar\":{\"outlinewidth\":0,\"ticks\":\"\"}},\"type\":\"scatterternary\"}],\"surface\":[{\"colorbar\":{\"outlinewidth\":0,\"ticks\":\"\"},\"colorscale\":[[0.0,\"#0d0887\"],[0.1111111111111111,\"#46039f\"],[0.2222222222222222,\"#7201a8\"],[0.3333333333333333,\"#9c179e\"],[0.4444444444444444,\"#bd3786\"],[0.5555555555555556,\"#d8576b\"],[0.6666666666666666,\"#ed7953\"],[0.7777777777777778,\"#fb9f3a\"],[0.8888888888888888,\"#fdca26\"],[1.0,\"#f0f921\"]],\"type\":\"surface\"}],\"table\":[{\"cells\":{\"fill\":{\"color\":\"#506784\"},\"line\":{\"color\":\"rgb(17,17,17)\"}},\"header\":{\"fill\":{\"color\":\"#2a3f5f\"},\"line\":{\"color\":\"rgb(17,17,17)\"}},\"type\":\"table\"}]},\"layout\":{\"annotationdefaults\":{\"arrowcolor\":\"#f2f5fa\",\"arrowhead\":0,\"arrowwidth\":1},\"autotypenumbers\":\"strict\",\"coloraxis\":{\"colorbar\":{\"outlinewidth\":0,\"ticks\":\"\"}},\"colorscale\":{\"diverging\":[[0,\"#8e0152\"],[0.1,\"#c51b7d\"],[0.2,\"#de77ae\"],[0.3,\"#f1b6da\"],[0.4,\"#fde0ef\"],[0.5,\"#f7f7f7\"],[0.6,\"#e6f5d0\"],[0.7,\"#b8e186\"],[0.8,\"#7fbc41\"],[0.9,\"#4d9221\"],[1,\"#276419\"]],\"sequential\":[[0.0,\"#0d0887\"],[0.1111111111111111,\"#46039f\"],[0.2222222222222222,\"#7201a8\"],[0.3333333333333333,\"#9c179e\"],[0.4444444444444444,\"#bd3786\"],[0.5555555555555556,\"#d8576b\"],[0.6666666666666666,\"#ed7953\"],[0.7777777777777778,\"#fb9f3a\"],[0.8888888888888888,\"#fdca26\"],[1.0,\"#f0f921\"]],\"sequentialminus\":[[0.0,\"#0d0887\"],[0.1111111111111111,\"#46039f\"],[0.2222222222222222,\"#7201a8\"],[0.3333333333333333,\"#9c179e\"],[0.4444444444444444,\"#bd3786\"],[0.5555555555555556,\"#d8576b\"],[0.6666666666666666,\"#ed7953\"],[0.7777777777777778,\"#fb9f3a\"],[0.8888888888888888,\"#fdca26\"],[1.0,\"#f0f921\"]]},\"colorway\":[\"#636efa\",\"#EF553B\",\"#00cc96\",\"#ab63fa\",\"#FFA15A\",\"#19d3f3\",\"#FF6692\",\"#B6E880\",\"#FF97FF\",\"#FECB52\"],\"font\":{\"color\":\"#f2f5fa\"},\"geo\":{\"bgcolor\":\"rgb(17,17,17)\",\"lakecolor\":\"rgb(17,17,17)\",\"landcolor\":\"rgb(17,17,17)\",\"showlakes\":true,\"showland\":true,\"subunitcolor\":\"#506784\"},\"hoverlabel\":{\"align\":\"left\"},\"hovermode\":\"closest\",\"mapbox\":{\"style\":\"dark\"},\"paper_bgcolor\":\"rgb(17,17,17)\",\"plot_bgcolor\":\"rgb(17,17,17)\",\"polar\":{\"angularaxis\":{\"gridcolor\":\"#506784\",\"linecolor\":\"#506784\",\"ticks\":\"\"},\"bgcolor\":\"rgb(17,17,17)\",\"radialaxis\":{\"gridcolor\":\"#506784\",\"linecolor\":\"#506784\",\"ticks\":\"\"}},\"scene\":{\"xaxis\":{\"backgroundcolor\":\"rgb(17,17,17)\",\"gridcolor\":\"#506784\",\"gridwidth\":2,\"linecolor\":\"#506784\",\"showbackground\":true,\"ticks\":\"\",\"zerolinecolor\":\"#C8D4E3\"},\"yaxis\":{\"backgroundcolor\":\"rgb(17,17,17)\",\"gridcolor\":\"#506784\",\"gridwidth\":2,\"linecolor\":\"#506784\",\"showbackground\":true,\"ticks\":\"\",\"zerolinecolor\":\"#C8D4E3\"},\"zaxis\":{\"backgroundcolor\":\"rgb(17,17,17)\",\"gridcolor\":\"#506784\",\"gridwidth\":2,\"linecolor\":\"#506784\",\"showbackground\":true,\"ticks\":\"\",\"zerolinecolor\":\"#C8D4E3\"}},\"shapedefaults\":{\"line\":{\"color\":\"#f2f5fa\"}},\"sliderdefaults\":{\"bgcolor\":\"#C8D4E3\",\"bordercolor\":\"rgb(17,17,17)\",\"borderwidth\":1,\"tickwidth\":0},\"ternary\":{\"aaxis\":{\"gridcolor\":\"#506784\",\"linecolor\":\"#506784\",\"ticks\":\"\"},\"baxis\":{\"gridcolor\":\"#506784\",\"linecolor\":\"#506784\",\"ticks\":\"\"},\"bgcolor\":\"rgb(17,17,17)\",\"caxis\":{\"gridcolor\":\"#506784\",\"linecolor\":\"#506784\",\"ticks\":\"\"}},\"title\":{\"x\":0.05},\"updatemenudefaults\":{\"bgcolor\":\"#506784\",\"borderwidth\":0},\"xaxis\":{\"automargin\":true,\"gridcolor\":\"#283442\",\"linecolor\":\"#506784\",\"ticks\":\"\",\"title\":{\"standoff\":15},\"zerolinecolor\":\"#283442\",\"zerolinewidth\":2},\"yaxis\":{\"automargin\":true,\"gridcolor\":\"#283442\",\"linecolor\":\"#506784\",\"ticks\":\"\",\"title\":{\"standoff\":15},\"zerolinecolor\":\"#283442\",\"zerolinewidth\":2}}},\"xaxis\":{\"title\":{\"text\":\"Terms\"},\"tickangle\":90},\"title\":{\"text\":\"Top 300 Term Frequencies (Log-Transformed)\"},\"yaxis\":{\"title\":{\"text\":\"Log(Frequency)\"}},\"height\":600,\"width\":1200,\"bargap\":0.2},                        {\"responsive\": true}                    ).then(function(){\n",
       "                            \n",
       "var gd = document.getElementById('8013ff31-576b-4441-a690-d95742ef9816');\n",
       "var x = new MutationObserver(function (mutations, observer) {{\n",
       "        var display = window.getComputedStyle(gd).display;\n",
       "        if (!display || display === 'none') {{\n",
       "            console.log([gd, 'removed!']);\n",
       "            Plotly.purge(gd);\n",
       "            observer.disconnect();\n",
       "        }}\n",
       "}});\n",
       "\n",
       "// Listen for the removal of the full notebook cells\n",
       "var notebookContainer = gd.closest('#notebook-container');\n",
       "if (notebookContainer) {{\n",
       "    x.observe(notebookContainer, {childList: true});\n",
       "}}\n",
       "\n",
       "// Listen for the clearing of the current output cell\n",
       "var outputEl = gd.closest('.output');\n",
       "if (outputEl) {{\n",
       "    x.observe(outputEl, {childList: true});\n",
       "}}\n",
       "\n",
       "                        })                };                });            </script>        </div>"
      ]
     },
     "metadata": {},
     "output_type": "display_data"
    }
   ],
   "source": [
    "import math\n",
    "import plotly.graph_objects as go\n",
    "\n",
    "# Apply log transformation to term frequencies (add 1 to avoid log(0))\n",
    "term_frequencies_log = [math.log(freq + 1) for freq in term_frequencies]\n",
    "\n",
    "# Select the top 300 terms by frequency\n",
    "top_300_indices = term_frequencies.argsort()[-300:][::-1]\n",
    "top_300_terms = vectorizer.get_feature_names_out()[top_300_indices]\n",
    "top_300_frequencies_log = [term_frequencies_log[i] for i in top_300_indices]\n",
    "\n",
    "# Create interactive bar chart with Plotly for log-transformed frequencies\n",
    "fig = go.Figure()\n",
    "\n",
    "fig.add_trace(\n",
    "    go.Bar(\n",
    "        x=top_300_terms,\n",
    "        y=top_300_frequencies_log,\n",
    "        text=top_300_frequencies_log,  # Add log-transformed frequency as text on bars\n",
    "        textposition=\"outside\",\n",
    "        marker=dict(color=top_300_frequencies_log, colorscale=\"YlGnBu\"),\n",
    "        hovertemplate=\"<b>Term:</b> %{x}<br><b>Log(Frequency):</b> %{y}<extra></extra>\",\n",
    "    )\n",
    ")\n",
    "\n",
    "# Customize the layout\n",
    "fig.update_layout(\n",
    "    title=\"Top 300 Term Frequencies (Log-Transformed)\",\n",
    "    xaxis_title=\"Terms\",\n",
    "    yaxis_title=\"Log(Frequency)\",\n",
    "    xaxis=dict(tickangle=90),\n",
    "    height=600,\n",
    "    width=1200,\n",
    "    template=\"plotly_dark\",  # Dark theme for better contrast\n",
    "    bargap=0.2\n",
    ")\n",
    "\n",
    "# Show the plot\n",
    "fig.show()\n"
   ]
  },
  {
   "cell_type": "code",
   "execution_count": 25,
   "metadata": {},
   "outputs": [],
   "source": [
    "from sklearn.feature_extraction.text import CountVectorizer"
   ]
  },
  {
   "cell_type": "code",
   "execution_count": 27,
   "metadata": {},
   "outputs": [],
   "source": [
    "# Create a dictionary to hold the term-document matrices for each sentiment\n",
    "term_document_dfs = {}\n",
    "\n",
    "for category in df['sentiment'].unique():\n",
    "    # Fit the CountVectorizer to the text data for each sentiment category\n",
    "    count_vect = CountVectorizer()\n",
    "    X_counts = count_vect.fit_transform(df[df['sentiment'] == category]['comment'])\n",
    "    \n",
    "    # Create a DataFrame using the vocabulary as columns\n",
    "    term_document_dfs[category] = pd.DataFrame(X_counts.toarray(), columns=count_vect.get_feature_names_out())"
   ]
  },
  {
   "cell_type": "code",
   "execution_count": 28,
   "metadata": {},
   "outputs": [
    {
     "name": "stdout",
     "output_type": "stream",
     "text": [
      "Term-Document Frequency DataFrame for Category 'nostalgia':\n"
     ]
    },
    {
     "data": {
      "text/html": [
       "<div>\n",
       "<style scoped>\n",
       "    .dataframe tbody tr th:only-of-type {\n",
       "        vertical-align: middle;\n",
       "    }\n",
       "\n",
       "    .dataframe tbody tr th {\n",
       "        vertical-align: top;\n",
       "    }\n",
       "\n",
       "    .dataframe thead th {\n",
       "        text-align: right;\n",
       "    }\n",
       "</style>\n",
       "<table border=\"1\" class=\"dataframe\">\n",
       "  <thead>\n",
       "    <tr style=\"text-align: right;\">\n",
       "      <th></th>\n",
       "      <th>07</th>\n",
       "      <th>10</th>\n",
       "      <th>11</th>\n",
       "      <th>11th</th>\n",
       "      <th>12</th>\n",
       "      <th>13</th>\n",
       "      <th>14</th>\n",
       "      <th>15</th>\n",
       "      <th>16</th>\n",
       "      <th>17</th>\n",
       "      <th>...</th>\n",
       "      <th>young</th>\n",
       "      <th>younger</th>\n",
       "      <th>youngster</th>\n",
       "      <th>your</th>\n",
       "      <th>yours</th>\n",
       "      <th>youth</th>\n",
       "      <th>youthful</th>\n",
       "      <th>youtube</th>\n",
       "      <th>yrs</th>\n",
       "      <th>yup</th>\n",
       "    </tr>\n",
       "  </thead>\n",
       "  <tbody>\n",
       "    <tr>\n",
       "      <th>0</th>\n",
       "      <td>0</td>\n",
       "      <td>0</td>\n",
       "      <td>0</td>\n",
       "      <td>0</td>\n",
       "      <td>0</td>\n",
       "      <td>0</td>\n",
       "      <td>0</td>\n",
       "      <td>0</td>\n",
       "      <td>0</td>\n",
       "      <td>0</td>\n",
       "      <td>...</td>\n",
       "      <td>0</td>\n",
       "      <td>0</td>\n",
       "      <td>0</td>\n",
       "      <td>0</td>\n",
       "      <td>0</td>\n",
       "      <td>0</td>\n",
       "      <td>0</td>\n",
       "      <td>0</td>\n",
       "      <td>0</td>\n",
       "      <td>0</td>\n",
       "    </tr>\n",
       "    <tr>\n",
       "      <th>1</th>\n",
       "      <td>0</td>\n",
       "      <td>0</td>\n",
       "      <td>0</td>\n",
       "      <td>0</td>\n",
       "      <td>0</td>\n",
       "      <td>0</td>\n",
       "      <td>0</td>\n",
       "      <td>0</td>\n",
       "      <td>0</td>\n",
       "      <td>1</td>\n",
       "      <td>...</td>\n",
       "      <td>0</td>\n",
       "      <td>0</td>\n",
       "      <td>0</td>\n",
       "      <td>0</td>\n",
       "      <td>0</td>\n",
       "      <td>0</td>\n",
       "      <td>0</td>\n",
       "      <td>0</td>\n",
       "      <td>0</td>\n",
       "      <td>0</td>\n",
       "    </tr>\n",
       "    <tr>\n",
       "      <th>2</th>\n",
       "      <td>0</td>\n",
       "      <td>0</td>\n",
       "      <td>0</td>\n",
       "      <td>0</td>\n",
       "      <td>0</td>\n",
       "      <td>0</td>\n",
       "      <td>0</td>\n",
       "      <td>0</td>\n",
       "      <td>0</td>\n",
       "      <td>0</td>\n",
       "      <td>...</td>\n",
       "      <td>0</td>\n",
       "      <td>0</td>\n",
       "      <td>0</td>\n",
       "      <td>0</td>\n",
       "      <td>0</td>\n",
       "      <td>0</td>\n",
       "      <td>0</td>\n",
       "      <td>0</td>\n",
       "      <td>0</td>\n",
       "      <td>0</td>\n",
       "    </tr>\n",
       "    <tr>\n",
       "      <th>3</th>\n",
       "      <td>0</td>\n",
       "      <td>0</td>\n",
       "      <td>0</td>\n",
       "      <td>0</td>\n",
       "      <td>0</td>\n",
       "      <td>0</td>\n",
       "      <td>0</td>\n",
       "      <td>0</td>\n",
       "      <td>0</td>\n",
       "      <td>0</td>\n",
       "      <td>...</td>\n",
       "      <td>0</td>\n",
       "      <td>0</td>\n",
       "      <td>0</td>\n",
       "      <td>1</td>\n",
       "      <td>0</td>\n",
       "      <td>0</td>\n",
       "      <td>0</td>\n",
       "      <td>0</td>\n",
       "      <td>0</td>\n",
       "      <td>0</td>\n",
       "    </tr>\n",
       "    <tr>\n",
       "      <th>4</th>\n",
       "      <td>0</td>\n",
       "      <td>0</td>\n",
       "      <td>0</td>\n",
       "      <td>0</td>\n",
       "      <td>0</td>\n",
       "      <td>0</td>\n",
       "      <td>0</td>\n",
       "      <td>0</td>\n",
       "      <td>0</td>\n",
       "      <td>0</td>\n",
       "      <td>...</td>\n",
       "      <td>0</td>\n",
       "      <td>0</td>\n",
       "      <td>0</td>\n",
       "      <td>0</td>\n",
       "      <td>0</td>\n",
       "      <td>0</td>\n",
       "      <td>0</td>\n",
       "      <td>0</td>\n",
       "      <td>0</td>\n",
       "      <td>0</td>\n",
       "    </tr>\n",
       "  </tbody>\n",
       "</table>\n",
       "<p>5 rows × 2295 columns</p>\n",
       "</div>"
      ],
      "text/plain": [
       "   07  10  11  11th  12  13  14  15  16  17  ...  young  younger  youngster  \\\n",
       "0   0   0   0     0   0   0   0   0   0   0  ...      0        0          0   \n",
       "1   0   0   0     0   0   0   0   0   0   1  ...      0        0          0   \n",
       "2   0   0   0     0   0   0   0   0   0   0  ...      0        0          0   \n",
       "3   0   0   0     0   0   0   0   0   0   0  ...      0        0          0   \n",
       "4   0   0   0     0   0   0   0   0   0   0  ...      0        0          0   \n",
       "\n",
       "   your  yours  youth  youthful  youtube  yrs  yup  \n",
       "0     0      0      0         0        0    0    0  \n",
       "1     0      0      0         0        0    0    0  \n",
       "2     0      0      0         0        0    0    0  \n",
       "3     1      0      0         0        0    0    0  \n",
       "4     0      0      0         0        0    0    0  \n",
       "\n",
       "[5 rows x 2295 columns]"
      ]
     },
     "metadata": {},
     "output_type": "display_data"
    },
    {
     "data": {
      "image/png": "[encoded data removed]",
      "text/plain": [
       "<Figure size 1000x600 with 1 Axes>"
      ]
     },
     "metadata": {},
     "output_type": "display_data"
    }
   ],
   "source": [
    "import matplotlib.pyplot as plt\n",
    "\n",
    "# Display Term-Document Frequency DataFrame for One Category\n",
    "category_number = 1  # Change this number to view a different category\n",
    "category = categories[category_number]\n",
    "print(f\"Term-Document Frequency DataFrame for Category '{category}':\")\n",
    "display(term_document_dfs[category].head())\n",
    "\n",
    "word_counts = term_document_dfs[category].sum(axis=0).to_numpy()\n",
    "\n",
    "# Plot the Term Frequency Distribution for the Selected Category\n",
    "plt.figure(figsize=(10, 6))\n",
    "plt.hist(word_counts, bins=50, color='green', edgecolor='black')\n",
    "plt.title(f\"Term Frequency Distribution for Category '{category}'\")\n",
    "plt.xlabel('Term Frequency')\n",
    "plt.ylabel('Number of Terms')\n",
    "plt.xlim(1, 200)  # Limit the x-axis to focus on the main distribution\n",
    "plt.show()\n"
   ]
  },
  {
   "cell_type": "code",
   "execution_count": 33,
   "metadata": {},
   "outputs": [
    {
     "name": "stdout",
     "output_type": "stream",
     "text": [
      "Category: nostalgia\n",
      "Number of terms in top 5%: 114\n",
      "Filtered terms: ['the', 'my', 'this', 'to', 'and', 'song', 'was', 'of', 'in', 'it', 'me', 'back', 'memories', 'when', 'so', 'years', 'that', 'on', 'love', 'for', 'time', 'you', 'remember', 'old', 'with', 'is', 'music', 'great', 'brings', 'we', 'beautiful', 'as', 'all', 'but', 'now', 'days', 'at', 'miss', 'good', 'songs', 'childhood', 'reminds', 'her', 'from', 'still', 'he', 'just', 'always', 'have', 'she', 'first', 'dad', 'many', 'had', 'much', 'listening', 'his', 'like', 'loved', 'up', 'used', 'school', 'were', 'very', 'am', 'one', 'those', 'voice', 'every', 'be', 'him', 'never', 'heard', 'times', 'these', 'can', 'listen', 'not', 'young', 'what', 'are', 'best', 'they', 'played', 'hear', 'thank', 'sing', 'out', 'how', 'life', 'happy', 'thanks', 'then', 'radio', 'again', 'ago', 'really', 'mum', 'who', 'an', 'day', 'play', 'mom', 'there', 'some', 'our', 'after', 'came', 'passed', 'makes', 'wonderful', 'singing', 'little', 'takes']\n"
     ]
    }
   ],
   "source": [
    "category_number=1\n",
    "\n",
    "# Get the word counts for the selected category\n",
    "word_counts = term_document_dfs[categories[category_number]].sum(axis=0).to_numpy()\n",
    "\n",
    "# Sort the term frequencies in descending order\n",
    "sorted_indices = np.argsort(word_counts)[::-1]  # Get indices sorted by descending frequency\n",
    "sorted_counts = word_counts[sorted_indices]\n",
    "\n",
    "# Calculate the index corresponding to the top 5% most frequent terms\n",
    "top_5_percent_index = int(0.05 * len(sorted_counts))\n",
    "\n",
    "# Get the terms corresponding to the top 5% most frequent terms\n",
    "top_5_percent_terms = [count_vect.get_feature_names_out()[i] for i in sorted_indices[:top_5_percent_index]]\n",
    "\n",
    "# Output the results\n",
    "print(f\"Category: {categories[category_number]}\")\n",
    "print(f\"Number of terms in top 5%: {top_5_percent_index}\")\n",
    "print(f\"Filtered terms: {top_5_percent_terms}\")\n"
   ]
  },
  {
   "cell_type": "code",
   "execution_count": 34,
   "metadata": {},
   "outputs": [
    {
     "name": "stdout",
     "output_type": "stream",
     "text": [
      "Sentiment Category: nostalgia\n",
      "Number of terms in the bottom 1%: 22\n",
      "Least frequent terms: ['yup', 'gospel', 'rose', 'round', 'rousing', 'goodness', 'routine', 'row', 'ronnie', 'rpg', 'ruined', 'rules', 'running', 'sadder', 'saddest', 'glimpses', 'safer', 'rubbish', 'grabbed', 'grace', 'romanticism', 'rightly']\n"
     ]
    }
   ],
   "source": [
    "category_index = 1  # Change to 0 \n",
    "\n",
    "# Get the total term frequencies for the selected category\n",
    "term_frequencies = term_document_dfs[categories[category_index]].sum(axis=0).to_numpy()\n",
    "\n",
    "# Sort terms by ascending frequency and get the sorted indices\n",
    "ascending_order_indices = np.argsort(term_frequencies)  # Indices sorted in ascending order\n",
    "sorted_term_frequencies = term_frequencies[ascending_order_indices]  # Sorted term frequencies\n",
    "\n",
    "# Calculate the threshold index for the bottom 1% least frequent terms\n",
    "threshold_index = int(0.01 * len(sorted_term_frequencies))\n",
    "\n",
    "# Select the indices for the bottom 1% least frequent terms\n",
    "least_frequent_indices = ascending_order_indices[:threshold_index]\n",
    "\n",
    "# Extract the terms corresponding to the bottom 1%\n",
    "bottom_1_percent_terms = [count_vect.get_feature_names_out()[index] for index in least_frequent_indices]\n",
    "\n",
    "# Display results\n",
    "print(f\"Sentiment Category: {categories[category_index]}\")\n",
    "print(f\"Number of terms in the bottom 1%: {threshold_index}\")\n",
    "print(f\"Least frequent terms: {bottom_1_percent_terms}\")\n"
   ]
  },
  {
   "cell_type": "markdown",
   "metadata": {},
   "source": [
    "## PAMI"
   ]
  },
  {
   "cell_type": "code",
   "execution_count": 66,
   "metadata": {},
   "outputs": [
    {
     "name": "stdout",
     "output_type": "stream",
     "text": [
      "Database size (total no of transactions) : 750\n",
      "Number of items : 2295\n",
      "Minimum Transaction Size : 3\n",
      "Average Transaction Size : 21.644\n",
      "Maximum Transaction Size : 70\n",
      "Standard Deviation Transaction Size : 13.110095245013795\n",
      "Variance in Transaction Sizes : 172.1040694259012\n",
      "Sparsity : 0.9905690631808279\n",
      "Database size (total no of transactions) : 749\n",
      "Number of items : 2602\n",
      "Minimum Transaction Size : 4\n",
      "Average Transaction Size : 20.048064085447262\n",
      "Maximum Transaction Size : 71\n",
      "Standard Deviation Transaction Size : 10.368399001503127\n",
      "Variance in Transaction Sizes : 107.64741937556671\n",
      "Sparsity : 0.9922951329417958\n"
     ]
    },
    {
     "data": {
      "image/png": "[encoded data removed]",
      "text/plain": [
       "<Figure size 640x480 with 1 Axes>"
      ]
     },
     "metadata": {},
     "output_type": "display_data"
    },
    {
     "data": {
      "image/png": "[encoded data removed]",
      "text/plain": [
       "<Figure size 640x480 with 1 Axes>"
      ]
     },
     "metadata": {},
     "output_type": "display_data"
    },
    {
     "data": {
      "image/png": "[encoded data removed]",
      "text/plain": [
       "<Figure size 640x480 with 1 Axes>"
      ]
     },
     "metadata": {},
     "output_type": "display_data"
    },
    {
     "data": {
      "image/png": "[encoded data removed]",
      "text/plain": [
       "<Figure size 640x480 with 1 Axes>"
      ]
     },
     "metadata": {},
     "output_type": "display_data"
    }
   ],
   "source": [
    "from PAMI.extras.DF2DB import DenseFormatDF as db\n",
    "from PAMI.extras.dbStats import TransactionalDatabase as tds\n",
    "\n",
    "# Convert term-document DataFrames to transactional databases\n",
    "for category, df in term_document_dfs.items():\n",
    "    category_safe = category.replace(' ', '_')\n",
    "    \n",
    "    # Create DenseFormatDF object and convert to transactional database\n",
    "    dense_df_obj = db.DenseFormatDF(df)\n",
    "    dense_df_obj.convert2TransactionalDatabase(f'td_freq_db_{category_safe}.csv', '>=', 1)\n",
    "\n",
    "# Analyze transactional databases for each category\n",
    "transactional_files = ['td_freq_db_nostalgia.csv', 'td_freq_db_not_nostalgia.csv']\n",
    "\n",
    "for category_file in transactional_files:\n",
    "    # Load each transactional database file\n",
    "    db_obj = tds.TransactionalDatabase(category_file)\n",
    "    \n",
    "    # Perform the analysis\n",
    "    db_obj.run()\n",
    "    db_obj.printStats()  # Print the statistics of the database\n",
    "    db_obj.plotGraphs()  # Visualize the data with graphs\n"
   ]
  },
  {
   "cell_type": "code",
   "execution_count": 67,
   "metadata": {},
   "outputs": [
    {
     "name": "stdout",
     "output_type": "stream",
     "text": [
      "Frequent patterns were generated successfully using frequentPatternGrowth algorithm\n",
      "Number of frequent patterns found in nostalgia category:  71737\n",
      "Time taken for mining: 0.4906179904937744 seconds\n"
     ]
    },
    {
     "data": {
      "text/html": [
       "<div>\n",
       "<style scoped>\n",
       "    .dataframe tbody tr th:only-of-type {\n",
       "        vertical-align: middle;\n",
       "    }\n",
       "\n",
       "    .dataframe tbody tr th {\n",
       "        vertical-align: top;\n",
       "    }\n",
       "\n",
       "    .dataframe thead th {\n",
       "        text-align: right;\n",
       "    }\n",
       "</style>\n",
       "<table border=\"1\" class=\"dataframe\">\n",
       "  <thead>\n",
       "    <tr style=\"text-align: right;\">\n",
       "      <th></th>\n",
       "      <th>Patterns</th>\n",
       "      <th>Support</th>\n",
       "    </tr>\n",
       "  </thead>\n",
       "  <tbody>\n",
       "    <tr>\n",
       "      <th>0</th>\n",
       "      <td>find</td>\n",
       "      <td>9</td>\n",
       "    </tr>\n",
       "    <tr>\n",
       "      <th>1</th>\n",
       "      <td>down</td>\n",
       "      <td>9</td>\n",
       "    </tr>\n",
       "    <tr>\n",
       "      <th>2</th>\n",
       "      <td>few</td>\n",
       "      <td>9</td>\n",
       "    </tr>\n",
       "    <tr>\n",
       "      <th>3</th>\n",
       "      <td>its</td>\n",
       "      <td>9</td>\n",
       "    </tr>\n",
       "    <tr>\n",
       "      <th>4</th>\n",
       "      <td>sure</td>\n",
       "      <td>9</td>\n",
       "    </tr>\n",
       "    <tr>\n",
       "      <th>...</th>\n",
       "      <td>...</td>\n",
       "      <td>...</td>\n",
       "    </tr>\n",
       "    <tr>\n",
       "      <th>71732</th>\n",
       "      <td>the my this</td>\n",
       "      <td>123</td>\n",
       "    </tr>\n",
       "    <tr>\n",
       "      <th>71733</th>\n",
       "      <td>the this</td>\n",
       "      <td>212</td>\n",
       "    </tr>\n",
       "    <tr>\n",
       "      <th>71734</th>\n",
       "      <td>my</td>\n",
       "      <td>400</td>\n",
       "    </tr>\n",
       "    <tr>\n",
       "      <th>71735</th>\n",
       "      <td>my this</td>\n",
       "      <td>252</td>\n",
       "    </tr>\n",
       "    <tr>\n",
       "      <th>71736</th>\n",
       "      <td>this</td>\n",
       "      <td>412</td>\n",
       "    </tr>\n",
       "  </tbody>\n",
       "</table>\n",
       "<p>71737 rows × 2 columns</p>\n",
       "</div>"
      ],
      "text/plain": [
       "          Patterns  Support\n",
       "0             find        9\n",
       "1             down        9\n",
       "2              few        9\n",
       "3              its        9\n",
       "4             sure        9\n",
       "...            ...      ...\n",
       "71732  the my this      123\n",
       "71733     the this      212\n",
       "71734           my      400\n",
       "71735      my this      252\n",
       "71736         this      412\n",
       "\n",
       "[71737 rows x 2 columns]"
      ]
     },
     "execution_count": 67,
     "metadata": {},
     "output_type": "execute_result"
    }
   ],
   "source": [
    "from PAMI.frequentPattern.basic import FPGrowth as fp_algorithm\n",
    "\n",
    "# Define the minimum support threshold\n",
    "min_support_value = 9\n",
    "\n",
    "# Initialize and mine frequent patterns for the 'nostalgia' category\n",
    "nostalgia_fpgrowth = fp_algorithm.FPGrowth(iFile='td_freq_db_nostalgia.csv', minSup=min_support_value)\n",
    "nostalgia_fpgrowth.mine()\n",
    "\n",
    "# Retrieve and display the frequent patterns as a DataFrame\n",
    "patterns_nostalgia = nostalgia_fpgrowth.getPatternsAsDataFrame()\n",
    "\n",
    "# Output the results\n",
    "print(\"Number of frequent patterns found in nostalgia category: \", len(patterns_nostalgia))\n",
    "print(f\"Time taken for mining: {nostalgia_fpgrowth.getRuntime()} seconds\")\n",
    "\n",
    "# Save the results to a text file\n",
    "nostalgia_fpgrowth.save('frequent_patterns_nostalgia_minSup9.txt')\n",
    "\n",
    "# Show the DataFrame containing the frequent patterns\n",
    "patterns_nostalgia\n"
   ]
  },
  {
   "cell_type": "code",
   "execution_count": 68,
   "metadata": {},
   "outputs": [
    {
     "name": "stdout",
     "output_type": "stream",
     "text": [
      "Frequent patterns were generated successfully using frequentPatternGrowth algorithm\n",
      "Total patterns in the 'not nostalgia' category: 9697\n",
      "Execution time for mining: 0.08832430839538574 seconds\n"
     ]
    },
    {
     "data": {
      "text/html": [
       "<div>\n",
       "<style scoped>\n",
       "    .dataframe tbody tr th:only-of-type {\n",
       "        vertical-align: middle;\n",
       "    }\n",
       "\n",
       "    .dataframe tbody tr th {\n",
       "        vertical-align: top;\n",
       "    }\n",
       "\n",
       "    .dataframe thead th {\n",
       "        text-align: right;\n",
       "    }\n",
       "</style>\n",
       "<table border=\"1\" class=\"dataframe\">\n",
       "  <thead>\n",
       "    <tr style=\"text-align: right;\">\n",
       "      <th></th>\n",
       "      <th>Patterns</th>\n",
       "      <th>Support</th>\n",
       "    </tr>\n",
       "  </thead>\n",
       "  <tbody>\n",
       "    <tr>\n",
       "      <th>0</th>\n",
       "      <td>favorites</td>\n",
       "      <td>9</td>\n",
       "    </tr>\n",
       "    <tr>\n",
       "      <th>1</th>\n",
       "      <td>special</td>\n",
       "      <td>9</td>\n",
       "    </tr>\n",
       "    <tr>\n",
       "      <th>2</th>\n",
       "      <td>soul</td>\n",
       "      <td>9</td>\n",
       "    </tr>\n",
       "    <tr>\n",
       "      <th>3</th>\n",
       "      <td>mind</td>\n",
       "      <td>9</td>\n",
       "    </tr>\n",
       "    <tr>\n",
       "      <th>4</th>\n",
       "      <td>60</td>\n",
       "      <td>9</td>\n",
       "    </tr>\n",
       "    <tr>\n",
       "      <th>...</th>\n",
       "      <td>...</td>\n",
       "      <td>...</td>\n",
       "    </tr>\n",
       "    <tr>\n",
       "      <th>9692</th>\n",
       "      <td>and this the</td>\n",
       "      <td>87</td>\n",
       "    </tr>\n",
       "    <tr>\n",
       "      <th>9693</th>\n",
       "      <td>and the</td>\n",
       "      <td>179</td>\n",
       "    </tr>\n",
       "    <tr>\n",
       "      <th>9694</th>\n",
       "      <td>this</td>\n",
       "      <td>354</td>\n",
       "    </tr>\n",
       "    <tr>\n",
       "      <th>9695</th>\n",
       "      <td>this the</td>\n",
       "      <td>184</td>\n",
       "    </tr>\n",
       "    <tr>\n",
       "      <th>9696</th>\n",
       "      <td>the</td>\n",
       "      <td>405</td>\n",
       "    </tr>\n",
       "  </tbody>\n",
       "</table>\n",
       "<p>9697 rows × 2 columns</p>\n",
       "</div>"
      ],
      "text/plain": [
       "          Patterns  Support\n",
       "0        favorites        9\n",
       "1          special        9\n",
       "2             soul        9\n",
       "3             mind        9\n",
       "4               60        9\n",
       "...            ...      ...\n",
       "9692  and this the       87\n",
       "9693       and the      179\n",
       "9694          this      354\n",
       "9695      this the      184\n",
       "9696           the      405\n",
       "\n",
       "[9697 rows x 2 columns]"
      ]
     },
     "execution_count": 68,
     "metadata": {},
     "output_type": "execute_result"
    }
   ],
   "source": [
    "# Mine patterns for the 'not nostalgia' category\n",
    "not_nostalgia_fpgrowth = fp_algorithm.FPGrowth(iFile='td_freq_db_not_nostalgia.csv', minSup=min_support_value)\n",
    "not_nostalgia_fpgrowth.mine()\n",
    "\n",
    "# Get the frequent patterns as a DataFrame\n",
    "not_nostalgia_patterns = not_nostalgia_fpgrowth.getPatternsAsDataFrame()\n",
    "\n",
    "# Print the number of patterns and the runtime\n",
    "print(f\"Total patterns in the 'not nostalgia' category: {len(not_nostalgia_patterns)}\")\n",
    "print(f\"Execution time for mining: {not_nostalgia_fpgrowth.getRuntime()} seconds\")\n",
    "\n",
    "# Save the frequent patterns to a file\n",
    "not_nostalgia_fpgrowth.save('frequent_patterns_not_nostalgia_minSup9.txt')\n",
    "\n",
    "# Display the frequent patterns DataFrame\n",
    "not_nostalgia_patterns\n"
   ]
  },
  {
   "cell_type": "code",
   "execution_count": 89,
   "metadata": {},
   "outputs": [
    {
     "name": "stdout",
     "output_type": "stream",
     "text": [
      "Filtered patterns across categories:\n",
      "   Patterns  Support\n",
      "1  pattern4       25\n",
      "0  pattern1       10\n",
      "Number of patterns discarded: 2\n"
     ]
    }
   ],
   "source": [
    "import pandas as pd\n",
    "\n",
    "# Assuming frequentPatternsDF_nostalgia and frequentPatternsDF_not_nostalgia are already defined\n",
    "\n",
    "# Group DataFrames containing patterns for each category\n",
    "dfs = [frequentPatternsDF_nostalgia, frequentPatternsDF_not_nostalgia]\n",
    "\n",
    "# Dictionary to track the count of each pattern across all DataFrames\n",
    "pattern_counts = {}\n",
    "for pattern_df in dfs:\n",
    "    for pattern in pattern_df['Patterns']:\n",
    "        if pattern not in pattern_counts:\n",
    "            pattern_counts[pattern] = 1\n",
    "        else:\n",
    "            pattern_counts[pattern] += 1\n",
    "\n",
    "# Filter out patterns that appear in more than one DataFrame\n",
    "unique_patterns = {pattern for pattern, count in pattern_counts.items() if count == 1}\n",
    "\n",
    "# Filter each DataFrame to retain only unique patterns (those that appear in only one DataFrame)\n",
    "filtered_dfs = []\n",
    "for pattern_df in dfs:\n",
    "    filtered_df = pattern_df[pattern_df['Patterns'].isin(unique_patterns)]\n",
    "    filtered_dfs.append(filtered_df)\n",
    "\n",
    "# Merge the filtered DataFrames and sort by support\n",
    "patterns_df = pd.concat(filtered_dfs, ignore_index=True)\n",
    "patterns_df = patterns_df.sort_values(by='Support', ascending=False)\n",
    "\n",
    "# Display the final result\n",
    "print(\"Filtered patterns across categories:\")\n",
    "print(patterns_df)\n",
    "print(f\"Number of patterns discarded: {len(pattern_counts) - len(unique_patterns)}\")\n"
   ]
  },
  {
   "cell_type": "code",
   "execution_count": 94,
   "metadata": {},
   "outputs": [
    {
     "name": "stdout",
     "output_type": "stream",
     "text": [
      " TopK frequent patterns were successfully generated using FAE algorithm.\n",
      "\n",
      "FAE Top-K for nostalgia k=500\n",
      "No. of patterns: 500\n",
      "runtime: 0.3628201484680176 seconds\n",
      "  Patterns  Support\n",
      "0     this      412\n",
      "1       my      400\n",
      "2      the      369\n",
      "3       to      358\n",
      "4     song      353\n",
      "Maximal Frequent patterns were generated successfully using MaxFp-Growth algorithm \n",
      "\n",
      "MaxFPGrowth for nostalgia minSup=3\n",
      "No. of patterns: 47915\n",
      "runtime: 18.743780851364136 seconds\n",
      "                                Patterns  Support\n",
      "0                           the skating         3\n",
      "1                        the and walker         3\n",
      "2                          and in scott         3\n",
      "3  this song was memories years 17 1987         3\n",
      "4                             this stop         3\n"
     ]
    }
   ],
   "source": [
    "from PAMI.frequentPattern.topk.FAE import FAE\n",
    "from PAMI.frequentPattern.maximal.MaxFPGrowth import MaxFPGrowth\n",
    "import pandas as pd\n",
    "\n",
    "# Function to run FAE Top-K Algorithm and collect results\n",
    "def run_fae_topk_algorithm(file, k_values):\n",
    "    fae_results = {}\n",
    "    for k in k_values:\n",
    "        fae_instance = FAE(iFile=file, k=k)\n",
    "        fae_instance.mine()\n",
    "        fae_patterns = fae_instance.getPatternsAsDataFrame()\n",
    "        \n",
    "        fae_results[f'nostalgia_k_{k}'] = {\n",
    "            \"patterns\": fae_patterns,\n",
    "            \"runtime\": fae_instance.getRuntime()\n",
    "        }\n",
    "        \n",
    "        print(f\"\\nFAE Top-K for nostalgia k={k}\")\n",
    "        print(f\"No. of patterns: {len(fae_patterns)}\")\n",
    "        print(f\"runtime: {fae_instance.getRuntime()} seconds\")\n",
    "        print(fae_patterns.head())\n",
    "        \n",
    "    return fae_results\n",
    "\n",
    "# Function to run MaxFPGrowth Algorithm and collect results\n",
    "def run_maxfp_algorithm(file, min_sup_values):\n",
    "    maxfp_results = {}\n",
    "    for min_sup in min_sup_values:\n",
    "        maxfp_instance = MaxFPGrowth(iFile=file, minSup=min_sup, sep='\\t')\n",
    "        maxfp_instance.mine()\n",
    "        maxfp_patterns = maxfp_instance.getPatternsAsDataFrame()\n",
    "        \n",
    "        maxfp_results[f'nostalgia_minSup_{min_sup}'] = {\n",
    "            \"patterns\": maxfp_patterns,\n",
    "            \"runtime\": maxfp_instance.getRuntime()\n",
    "        }\n",
    "        \n",
    "        print(f\"\\nMaxFPGrowth for nostalgia minSup={min_sup}\")\n",
    "        print(f\"No. of patterns: {len(maxfp_patterns)}\")\n",
    "        print(f\"runtime: {maxfp_instance.getRuntime()} seconds\")\n",
    "        print(maxfp_patterns.head())\n",
    "        \n",
    "    return maxfp_results\n",
    "\n",
    "# File for transactional database\n",
    "nostalgia_file = 'td_freq_db_nostalgia.csv'\n",
    "\n",
    "# Define parameters\n",
    "fae_k_values = [500]  # Can add more values like 1000, 1500\n",
    "maxfp_min_sup_values = [3]  # Can add more values like 6, 9\n",
    "\n",
    "# Run FAE and MaxFPGrowth algorithms\n",
    "fae_topk_results = run_fae_topk_algorithm(nostalgia_file, fae_k_values)\n",
    "maxfp_results = run_maxfp_algorithm(nostalgia_file, maxfp_min_sup_values)\n"
   ]
  },
  {
   "cell_type": "code",
   "execution_count": 96,
   "metadata": {},
   "outputs": [],
   "source": []
  },
  {
   "cell_type": "code",
   "execution_count": 98,
   "metadata": {},
   "outputs": [
    {
     "name": "stdout",
     "output_type": "stream",
     "text": [
      "   another  comment  data  here  is  more  text  this\n",
      "0        0        1     0     0   1     0     0     1\n",
      "1        1        1     0     1   0     0     0     0\n",
      "2        0        0     1     0   0     1     1     0\n"
     ]
    }
   ],
   "source": [
    "from sklearn.feature_extraction.text import CountVectorizer\n",
    "import pandas as pd\n",
    "\n",
    "# Example DataFrame (replace with your actual 'df')\n",
    "df = pd.DataFrame({\n",
    "    'comment': [\"This is a comment\", \"Another comment here\", \"More text data\"]\n",
    "})\n",
    "\n",
    "# Convert the 'comment' column to a term-document matrix (TDM)\n",
    "count_vect = CountVectorizer()\n",
    "X_tdm = count_vect.fit_transform(df['comment'])\n",
    "terms = count_vect.get_feature_names_out()\n",
    "\n",
    "# Convert the term-document matrix to a DataFrame for easy manipulation\n",
    "tdm_df = pd.DataFrame(X_tdm.toarray(), columns=terms)\n",
    "\n",
    "# Ensure that tdm_df is created before applying PCA, t-SNE, or UMAP\n",
    "print(tdm_df.head())\n"
   ]
  },
  {
   "cell_type": "code",
   "execution_count": 101,
   "metadata": {},
   "outputs": [
    {
     "ename": "ValueError",
     "evalue": "n_components=50 must be between 0 and min(n_samples, n_features)=3 with svd_solver='full'",
     "output_type": "error",
     "traceback": [
      "\u001b[0;31m---------------------------------------------------------------------------\u001b[0m",
      "\u001b[0;31mValueError\u001b[0m                                Traceback (most recent call last)",
      "Cell \u001b[0;32mIn[101], line 8\u001b[0m\n\u001b[1;32m      5\u001b[0m \u001b[38;5;28;01mfrom\u001b[39;00m \u001b[38;5;21;01mmpl_toolkits\u001b[39;00m\u001b[38;5;21;01m.\u001b[39;00m\u001b[38;5;21;01mmplot3d\u001b[39;00m \u001b[38;5;28;01mimport\u001b[39;00m Axes3D\n\u001b[1;32m      7\u001b[0m \u001b[38;5;66;03m# Apply PCA for dimensionality reduction first (reduce to 50 components)\u001b[39;00m\n\u001b[0;32m----> 8\u001b[0m X_pca_tdm \u001b[38;5;241m=\u001b[39m PCA(n_components\u001b[38;5;241m=\u001b[39m\u001b[38;5;241m50\u001b[39m)\u001b[38;5;241m.\u001b[39mfit_transform(tdm_df\u001b[38;5;241m.\u001b[39mvalues)\n\u001b[1;32m     10\u001b[0m \u001b[38;5;66;03m# Apply t-SNE with a reduced perplexity value\u001b[39;00m\n\u001b[1;32m     11\u001b[0m X_tsne_tdm \u001b[38;5;241m=\u001b[39m TSNE(n_components\u001b[38;5;241m=\u001b[39m\u001b[38;5;241m2\u001b[39m, perplexity\u001b[38;5;241m=\u001b[39m\u001b[38;5;241m5\u001b[39m)\u001b[38;5;241m.\u001b[39mfit_transform(X_pca_tdm)\n",
      "File \u001b[0;32m/opt/anaconda3/lib/python3.11/site-packages/sklearn/utils/_set_output.py:140\u001b[0m, in \u001b[0;36m_wrap_method_output.<locals>.wrapped\u001b[0;34m(self, X, *args, **kwargs)\u001b[0m\n\u001b[1;32m    138\u001b[0m \u001b[38;5;129m@wraps\u001b[39m(f)\n\u001b[1;32m    139\u001b[0m \u001b[38;5;28;01mdef\u001b[39;00m \u001b[38;5;21mwrapped\u001b[39m(\u001b[38;5;28mself\u001b[39m, X, \u001b[38;5;241m*\u001b[39margs, \u001b[38;5;241m*\u001b[39m\u001b[38;5;241m*\u001b[39mkwargs):\n\u001b[0;32m--> 140\u001b[0m     data_to_wrap \u001b[38;5;241m=\u001b[39m f(\u001b[38;5;28mself\u001b[39m, X, \u001b[38;5;241m*\u001b[39margs, \u001b[38;5;241m*\u001b[39m\u001b[38;5;241m*\u001b[39mkwargs)\n\u001b[1;32m    141\u001b[0m     \u001b[38;5;28;01mif\u001b[39;00m \u001b[38;5;28misinstance\u001b[39m(data_to_wrap, \u001b[38;5;28mtuple\u001b[39m):\n\u001b[1;32m    142\u001b[0m         \u001b[38;5;66;03m# only wrap the first output for cross decomposition\u001b[39;00m\n\u001b[1;32m    143\u001b[0m         \u001b[38;5;28;01mreturn\u001b[39;00m (\n\u001b[1;32m    144\u001b[0m             _wrap_data_with_container(method, data_to_wrap[\u001b[38;5;241m0\u001b[39m], X, \u001b[38;5;28mself\u001b[39m),\n\u001b[1;32m    145\u001b[0m             \u001b[38;5;241m*\u001b[39mdata_to_wrap[\u001b[38;5;241m1\u001b[39m:],\n\u001b[1;32m    146\u001b[0m         )\n",
      "File \u001b[0;32m/opt/anaconda3/lib/python3.11/site-packages/sklearn/decomposition/_pca.py:462\u001b[0m, in \u001b[0;36mPCA.fit_transform\u001b[0;34m(self, X, y)\u001b[0m\n\u001b[1;32m    439\u001b[0m \u001b[38;5;250m\u001b[39m\u001b[38;5;124;03m\"\"\"Fit the model with X and apply the dimensionality reduction on X.\u001b[39;00m\n\u001b[1;32m    440\u001b[0m \n\u001b[1;32m    441\u001b[0m \u001b[38;5;124;03mParameters\u001b[39;00m\n\u001b[0;32m   (...)\u001b[0m\n\u001b[1;32m    458\u001b[0m \u001b[38;5;124;03mC-ordered array, use 'np.ascontiguousarray'.\u001b[39;00m\n\u001b[1;32m    459\u001b[0m \u001b[38;5;124;03m\"\"\"\u001b[39;00m\n\u001b[1;32m    460\u001b[0m \u001b[38;5;28mself\u001b[39m\u001b[38;5;241m.\u001b[39m_validate_params()\n\u001b[0;32m--> 462\u001b[0m U, S, Vt \u001b[38;5;241m=\u001b[39m \u001b[38;5;28mself\u001b[39m\u001b[38;5;241m.\u001b[39m_fit(X)\n\u001b[1;32m    463\u001b[0m U \u001b[38;5;241m=\u001b[39m U[:, : \u001b[38;5;28mself\u001b[39m\u001b[38;5;241m.\u001b[39mn_components_]\n\u001b[1;32m    465\u001b[0m \u001b[38;5;28;01mif\u001b[39;00m \u001b[38;5;28mself\u001b[39m\u001b[38;5;241m.\u001b[39mwhiten:\n\u001b[1;32m    466\u001b[0m     \u001b[38;5;66;03m# X_new = X * V / S * sqrt(n_samples) = U * sqrt(n_samples)\u001b[39;00m\n",
      "File \u001b[0;32m/opt/anaconda3/lib/python3.11/site-packages/sklearn/decomposition/_pca.py:512\u001b[0m, in \u001b[0;36mPCA._fit\u001b[0;34m(self, X)\u001b[0m\n\u001b[1;32m    510\u001b[0m \u001b[38;5;66;03m# Call different fits for either full or truncated SVD\u001b[39;00m\n\u001b[1;32m    511\u001b[0m \u001b[38;5;28;01mif\u001b[39;00m \u001b[38;5;28mself\u001b[39m\u001b[38;5;241m.\u001b[39m_fit_svd_solver \u001b[38;5;241m==\u001b[39m \u001b[38;5;124m\"\u001b[39m\u001b[38;5;124mfull\u001b[39m\u001b[38;5;124m\"\u001b[39m:\n\u001b[0;32m--> 512\u001b[0m     \u001b[38;5;28;01mreturn\u001b[39;00m \u001b[38;5;28mself\u001b[39m\u001b[38;5;241m.\u001b[39m_fit_full(X, n_components)\n\u001b[1;32m    513\u001b[0m \u001b[38;5;28;01melif\u001b[39;00m \u001b[38;5;28mself\u001b[39m\u001b[38;5;241m.\u001b[39m_fit_svd_solver \u001b[38;5;129;01min\u001b[39;00m [\u001b[38;5;124m\"\u001b[39m\u001b[38;5;124marpack\u001b[39m\u001b[38;5;124m\"\u001b[39m, \u001b[38;5;124m\"\u001b[39m\u001b[38;5;124mrandomized\u001b[39m\u001b[38;5;124m\"\u001b[39m]:\n\u001b[1;32m    514\u001b[0m     \u001b[38;5;28;01mreturn\u001b[39;00m \u001b[38;5;28mself\u001b[39m\u001b[38;5;241m.\u001b[39m_fit_truncated(X, n_components, \u001b[38;5;28mself\u001b[39m\u001b[38;5;241m.\u001b[39m_fit_svd_solver)\n",
      "File \u001b[0;32m/opt/anaconda3/lib/python3.11/site-packages/sklearn/decomposition/_pca.py:526\u001b[0m, in \u001b[0;36mPCA._fit_full\u001b[0;34m(self, X, n_components)\u001b[0m\n\u001b[1;32m    522\u001b[0m         \u001b[38;5;28;01mraise\u001b[39;00m \u001b[38;5;167;01mValueError\u001b[39;00m(\n\u001b[1;32m    523\u001b[0m             \u001b[38;5;124m\"\u001b[39m\u001b[38;5;124mn_components=\u001b[39m\u001b[38;5;124m'\u001b[39m\u001b[38;5;124mmle\u001b[39m\u001b[38;5;124m'\u001b[39m\u001b[38;5;124m is only supported if n_samples >= n_features\u001b[39m\u001b[38;5;124m\"\u001b[39m\n\u001b[1;32m    524\u001b[0m         )\n\u001b[1;32m    525\u001b[0m \u001b[38;5;28;01melif\u001b[39;00m \u001b[38;5;129;01mnot\u001b[39;00m \u001b[38;5;241m0\u001b[39m \u001b[38;5;241m<\u001b[39m\u001b[38;5;241m=\u001b[39m n_components \u001b[38;5;241m<\u001b[39m\u001b[38;5;241m=\u001b[39m \u001b[38;5;28mmin\u001b[39m(n_samples, n_features):\n\u001b[0;32m--> 526\u001b[0m     \u001b[38;5;28;01mraise\u001b[39;00m \u001b[38;5;167;01mValueError\u001b[39;00m(\n\u001b[1;32m    527\u001b[0m         \u001b[38;5;124m\"\u001b[39m\u001b[38;5;124mn_components=\u001b[39m\u001b[38;5;132;01m%r\u001b[39;00m\u001b[38;5;124m must be between 0 and \u001b[39m\u001b[38;5;124m\"\u001b[39m\n\u001b[1;32m    528\u001b[0m         \u001b[38;5;124m\"\u001b[39m\u001b[38;5;124mmin(n_samples, n_features)=\u001b[39m\u001b[38;5;132;01m%r\u001b[39;00m\u001b[38;5;124m with \u001b[39m\u001b[38;5;124m\"\u001b[39m\n\u001b[1;32m    529\u001b[0m         \u001b[38;5;124m\"\u001b[39m\u001b[38;5;124msvd_solver=\u001b[39m\u001b[38;5;124m'\u001b[39m\u001b[38;5;124mfull\u001b[39m\u001b[38;5;124m'\u001b[39m\u001b[38;5;124m\"\u001b[39m \u001b[38;5;241m%\u001b[39m (n_components, \u001b[38;5;28mmin\u001b[39m(n_samples, n_features))\n\u001b[1;32m    530\u001b[0m     )\n\u001b[1;32m    532\u001b[0m \u001b[38;5;66;03m# Center data\u001b[39;00m\n\u001b[1;32m    533\u001b[0m \u001b[38;5;28mself\u001b[39m\u001b[38;5;241m.\u001b[39mmean_ \u001b[38;5;241m=\u001b[39m np\u001b[38;5;241m.\u001b[39mmean(X, axis\u001b[38;5;241m=\u001b[39m\u001b[38;5;241m0\u001b[39m)\n",
      "\u001b[0;31mValueError\u001b[0m: n_components=50 must be between 0 and min(n_samples, n_features)=3 with svd_solver='full'"
     ]
    }
   ],
   "source": [
    "from sklearn.decomposition import PCA\n",
    "from sklearn.manifold import TSNE\n",
    "import umap\n",
    "import matplotlib.pyplot as plt\n",
    "from mpl_toolkits.mplot3d import Axes3D\n",
    "\n",
    "# Apply PCA for dimensionality reduction first (reduce to 50 components)\n",
    "X_pca_tdm = PCA(n_components=50).fit_transform(tdm_df.values)\n",
    "\n",
    "# Apply t-SNE with a reduced perplexity value\n",
    "X_tsne_tdm = TSNE(n_components=2, perplexity=5).fit_transform(X_pca_tdm)\n",
    "\n",
    "# Apply UMAP directly for dimensionality reduction\n",
    "X_umap_tdm = umap.UMAP(n_components=2).fit_transform(tdm_df.values)\n",
    "\n",
    "# Define colors and categories for plotting\n",
    "col = ['coral', 'blue']\n",
    "categories = df['sentiment'].unique()  # Expect 'nostalgia' and 'not nostalgia'\n",
    "\n",
    "# Define function to create scatter plots for 2D visualizations\n",
    "def plot_scatter(ax, X_reduced, title):\n",
    "    for c, category in zip(col, categories):\n",
    "        xs = X_reduced[df['sentiment'] == category].T[0]\n",
    "        ys = X_reduced[df['sentiment'] == category].T[1]\n",
    "        ax.scatter(xs, ys, c=c, marker='o', label=category)\n",
    "    \n",
    "    ax.grid(color='gray', linestyle=':', linewidth=2, alpha=0.2)\n",
    "    ax.set_title(title)\n",
    "    ax.set_xlabel('X')\n",
    "    ax.set_ylabel('Y')\n",
    "    ax.legend(loc='upper right')\n",
    "\n",
    "# Plot 2D scatter plots for PCA, t-SNE, and UMAP on term-document data\n",
    "fig, axes = plt.subplots(1, 3, figsize=(30, 10))\n",
    "fig.suptitle('2D Visualization of PCA, t-SNE, and UMAP (Term-Document Data)')\n",
    "\n",
    "# Create scatter plots\n",
    "plot_scatter(axes[0], X_pca_tdm, 'PCA')\n",
    "plot_scatter(axes[1], X_tsne_tdm, 't-SNE')\n",
    "plot_scatter(axes[2], X_umap_tdm, 'UMAP')\n",
    "\n",
    "# Show the plot\n",
    "plt.show()\n"
   ]
  },
  {
   "cell_type": "code",
   "execution_count": null,
   "metadata": {},
   "outputs": [],
   "source": [
    "#In this cell we plot distribution of the two sentiment labels (nostalgia and not nostalgia)\n",
    "\n",
    "\n",
    "import seaborn as sns\n",
    "import matplotlib.pyplot as plt\n",
    "\n",
    "# Plot the distribution of sentiment labels\n",
    "plt.figure(figsize=(6, 4))\n",
    "sns.countplot(x='sentiment', data=df)\n",
    "plt.xlabel(\"Sentiment\")\n",
    "plt.ylabel(\"Count\")\n",
    "plt.title(\"Distribution of Sentiment Labels\")\n",
    "plt.show()\n"
   ]
  },
  {
   "cell_type": "code",
   "execution_count": null,
   "metadata": {},
   "outputs": [],
   "source": [
    "# In this cell we do Preprocessing and Tokenization\n",
    "\n",
    "import re\n",
    "from sklearn.feature_extraction.text import ENGLISH_STOP_WORDS\n",
    "\n",
    "# Define a simple text preprocessing function\n",
    "def preprocess_text(text):\n",
    "    text = text.lower()  # Convert to lowercase\n",
    "    text = re.sub(r'[^\\w\\s]', '', text)  # Remove punctuation\n",
    "    text = ' '.join([word for word in text.split() if word not in ENGLISH_STOP_WORDS])  # Remove stopwords\n",
    "    return text\n",
    "\n",
    "# Apply preprocessing to the 'comment' column\n",
    "df['cleaned_comment'] = df['comment'].apply(preprocess_text)\n"
   ]
  },
  {
   "cell_type": "markdown",
   "metadata": {},
   "source": [
    "### TF - IDF feature extraction"
   ]
  },
  {
   "cell_type": "code",
   "execution_count": 9,
   "metadata": {},
   "outputs": [
    {
     "name": "stdout",
     "output_type": "stream",
     "text": [
      "TF-IDF matrix shape: (1500, 1000)\n"
     ]
    }
   ],
   "source": [
    "# in this code we generate TDF-IDF Features\n",
    "\n",
    "from sklearn.feature_extraction.text import TfidfVectorizer\n",
    "\n",
    "# Initialize TfidfVectorizer\n",
    "tfidf_vect = TfidfVectorizer(max_features=1000)  # You can adjust max_features as needed\n",
    "X_tfidf = tfidf_vect.fit_transform(df['cleaned_comment'])\n",
    "\n",
    "# Check the shape of the TF-IDF feature matrix\n",
    "print(\"TF-IDF matrix shape:\", X_tfidf.shape)\n"
   ]
  },
  {
   "cell_type": "code",
   "execution_count": 17,
   "metadata": {},
   "outputs": [
    {
     "data": {
      "image/png": "[encoded data removed]",
      "text/plain": [
       "<Figure size 1200x600 with 1 Axes>"
      ]
     },
     "metadata": {},
     "output_type": "display_data"
    }
   ],
   "source": [
    "# in this cell we visualize top terms\n",
    "\n",
    "import numpy as np\n",
    "\n",
    "# Sum the TF-IDF scores for each term\n",
    "term_frequencies = np.asarray(X_tfidf.sum(axis=0)).flatten()\n",
    "top_term_indices = term_frequencies.argsort()[-50:][::-1]  # Top 50 terms\n",
    "\n",
    "# Get feature names for the top terms\n",
    "top_feature_names = np.array(tfidf_vect.get_feature_names_out())[top_term_indices]\n",
    "\n",
    "# Plot the top 50 terms\n",
    "plt.figure(figsize=(12, 6))\n",
    "sns.barplot(x=top_feature_names, y=term_frequencies[top_term_indices])\n",
    "plt.xticks(rotation=90)\n",
    "plt.xlabel(\"Terms\")\n",
    "plt.ylabel(\"TF-IDF Score\")\n",
    "plt.title(\"Top 50 Terms by TF-IDF Score\")\n",
    "plt.tight_layout()\n",
    "plt.show()\n"
   ]
  },
  {
   "cell_type": "markdown",
   "metadata": {},
   "source": [
    "### Next we do the Naive Beyes Classifictaion"
   ]
  },
  {
   "cell_type": "code",
   "execution_count": 11,
   "metadata": {},
   "outputs": [],
   "source": [
    "from sklearn.model_selection import train_test_split\n",
    "\n",
    "# Encode sentiment labels\n",
    "df['sentiment_label'] = df['sentiment'].apply(lambda x: 1 if x == 'nostalgia' else 0)\n",
    "\n",
    "# Split the data into training and testing sets\n",
    "X_train, X_test, y_train, y_test = train_test_split(X_tfidf, df['sentiment_label'], test_size=0.3, random_state=42)\n"
   ]
  },
  {
   "cell_type": "code",
   "execution_count": 20,
   "metadata": {},
   "outputs": [
    {
     "name": "stdout",
     "output_type": "stream",
     "text": [
      "Accuracy: 0.8377777777777777\n",
      "               precision    recall  f1-score   support\n",
      "\n",
      "not nostalgia       0.90      0.76      0.82       225\n",
      "    nostalgia       0.79      0.91      0.85       225\n",
      "\n",
      "     accuracy                           0.84       450\n",
      "    macro avg       0.85      0.84      0.84       450\n",
      " weighted avg       0.85      0.84      0.84       450\n",
      "\n"
     ]
    }
   ],
   "source": [
    "from sklearn.naive_bayes import MultinomialNB\n",
    "from sklearn.metrics import accuracy_score, classification_report\n",
    "\n",
    "# Initialize and train the Naive Bayes classifier\n",
    "nb_classifier = MultinomialNB()\n",
    "nb_classifier.fit(X_train, y_train)\n",
    "\n",
    "# Predict on the test set\n",
    "y_pred = nb_classifier.predict(X_test)\n",
    "\n",
    "# Evaluate the classifier\n",
    "print(\"Accuracy:\", accuracy_score(y_test, y_pred))\n",
    "print(classification_report(y_test, y_pred, target_names=['not nostalgia', 'nostalgia']))\n"
   ]
  },
  {
   "cell_type": "markdown",
   "metadata": {},
   "source": [
    "### In the next 3 cells we will improve the preformace"
   ]
  },
  {
   "cell_type": "code",
   "execution_count": 13,
   "metadata": {},
   "outputs": [
    {
     "name": "stdout",
     "output_type": "stream",
     "text": [
      "Logistic Regression Accuracy: 0.8844444444444445\n",
      "               precision    recall  f1-score   support\n",
      "\n",
      "not nostalgia       0.86      0.92      0.89       225\n",
      "    nostalgia       0.91      0.85      0.88       225\n",
      "\n",
      "     accuracy                           0.88       450\n",
      "    macro avg       0.89      0.88      0.88       450\n",
      " weighted avg       0.89      0.88      0.88       450\n",
      "\n"
     ]
    }
   ],
   "source": [
    "from sklearn.linear_model import LogisticRegression\n",
    "\n",
    "# Initialize and train the Logistic Regression classifier\n",
    "lr_classifier = LogisticRegression()\n",
    "lr_classifier.fit(X_train, y_train)\n",
    "\n",
    "# Predict on the test set and evaluate\n",
    "y_pred_lr = lr_classifier.predict(X_test)\n",
    "print(\"Logistic Regression Accuracy:\", accuracy_score(y_test, y_pred_lr))\n",
    "print(classification_report(y_test, y_pred_lr, target_names=['not nostalgia', 'nostalgia']))\n"
   ]
  },
  {
   "cell_type": "code",
   "execution_count": 14,
   "metadata": {},
   "outputs": [
    {
     "name": "stdout",
     "output_type": "stream",
     "text": [
      "Best parameters found: {'alpha': 0.5}\n",
      "Best cross-validation accuracy: 0.8523809523809524\n"
     ]
    }
   ],
   "source": [
    "from sklearn.model_selection import GridSearchCV\n",
    "\n",
    "# Set up parameter grid for MultinomialNB\n",
    "param_grid = {'alpha': [0.1, 0.5, 1.0, 1.5, 2.0]}\n",
    "grid_search = GridSearchCV(MultinomialNB(), param_grid, cv=5)\n",
    "grid_search.fit(X_train, y_train)\n",
    "\n",
    "# Get the best parameters and accuracy\n",
    "print(\"Best parameters found:\", grid_search.best_params_)\n",
    "print(\"Best cross-validation accuracy:\", grid_search.best_score_)\n"
   ]
  },
  {
   "cell_type": "code",
   "execution_count": 18,
   "metadata": {},
   "outputs": [],
   "source": [
    "tfidf_vect = TfidfVectorizer(max_features=1000, ngram_range=(1, 2))  # Using unigrams and bigrams\n",
    "X_tfidf = tfidf_vect.fit_transform(df['cleaned_comment'])\n"
   ]
  },
  {
   "cell_type": "markdown",
   "metadata": {},
   "source": [
    "### Model Interpretation"
   ]
  },
  {
   "cell_type": "code",
   "execution_count": 19,
   "metadata": {},
   "outputs": [
    {
     "name": "stdout",
     "output_type": "stream",
     "text": [
      "Top nostalgic words: ['memorable' 'reminds childhood' 'yes' 'right' 'broken' 'club' 'message'\n",
      " 'shame' 'dear' 'nearly']\n",
      "Top non-nostalgic words: ['time hear' 'little girl' 'vocals' 'voice' 'nostalgia' 'movie' 'tune'\n",
      " 'record' 'music like' 'walker']\n"
     ]
    }
   ],
   "source": [
    "# Get feature weights for Logistic Regression\n",
    "feature_weights = lr_classifier.coef_.flatten()\n",
    "top_positive_indices = feature_weights.argsort()[-10:][::-1]  # Top 10 positive words\n",
    "top_negative_indices = feature_weights.argsort()[:10]  # Top 10 negative words\n",
    "\n",
    "top_positive_words = np.array(tfidf_vect.get_feature_names_out())[top_positive_indices]\n",
    "top_negative_words = np.array(tfidf_vect.get_feature_names_out())[top_negative_indices]\n",
    "\n",
    "print(\"Top nostalgic words:\", top_positive_words)\n",
    "print(\"Top non-nostalgic words:\", top_negative_words)\n"
   ]
  },
  {
   "cell_type": "markdown",
   "metadata": {},
   "source": [
    "### Findings/Observation\n",
    "***Model Performance:***\n",
    "\n",
    "The Logistic Regression model ended up performing best, with an accuracy of about 88.4%. It did especially well in identifying nostalgic content (precision of 0.91 and recall of 0.85), so it seems like it’s good at recognizing nostalgic themes. Overall, the precision, recall, and F1-score averages around 0.88–0.89 across both classes, which is pretty solid.\n",
    "\n",
    "***Parameter Tuning:***\n",
    "\n",
    "I tried tuning the alpha parameter for the Multinomial Naive Bayes model using a grid search. The best alpha value was 0.5, and the model’s cross-validation accuracy was around 85.2%. So, while tuning helped improve Naive Bayes, it still wasn’t as accurate as Logistic Regression.\n",
    "\n",
    "***Key Words:***\n",
    "\n",
    "Looking at the most important words in each class:\n",
    "Nostalgic Words: Words like \"memorable,\" \"reminds childhood,\" \"yes,\" \"right,\" and \"broken\" came up a lot. These make sense as nostalgic words since they’re kind of emotional and memory-driven.\n",
    "Non-Nostalgic Words: Words like \"time hear,\" \"little girl,\" \"vocals,\" \"voice,\" and \"movie\" were more common for non-nostalgic content. These seem more descriptive or neutral.\n",
    "\n",
    "***Feature/Tuning:***\n",
    "\n",
    "Using TF-IDF with unigrams and bigrams seemed to help capture key phrases (like \"reminds childhood\") that add to the nostalgia vibe. Also, tuning the alpha parameter in Naive Bayes gave it a bit of a boost, but it didn’t beat Logistic Regression in the end.\n",
    "Overall, the Logistic Regression with TF-IDF features was the best setup. The nostalgic words lined up well with what we’d expect, focusing on memories and emotions, while non-nostalgic words were more neutral.\n"
   ]
  },
  {
   "cell_type": "markdown",
   "metadata": {},
   "source": [
    "---"
   ]
  },
  {
   "cell_type": "markdown",
   "metadata": {},
   "source": [
    "### Task 4\n",
    "\n",
    "Data Transformation for Tabular Format: The lab use transforming data dictionaries into a Pandas DataFrame for structured data processing. This step could be improved by directly applying methods that suit the data’s characteristics, particularly for categorical and text-heavy datasets. For example, implementing label encoding for categorical variables and filtering common or irrelevant words before the tabular transformation would reduce data size and complexity, allowing for faster and more efficient analyses. This approach aligns the dataset with formats better suited to machine learning tasks without excessive transformations later.\n",
    "\n",
    "Text Tokenization and Feature Extraction: The current tokenization approach uses a basic tokenizer that introduces noise by including irrelevant tokens, such as emails, punctuation, and stop words. An improved approach would be to use a custom tokenizer to remove such unnecessary elements and focus only on informative tokens. Tools like spaCy or advanced settings in nltk can assist with this, providing capabilities to tokenize, lemmatize, and exclude stop words. Such pre-processing would result in cleaner text data, leading to higher-quality feature extraction and better model training results in subsequent stages.\n",
    "\n",
    "High Dimensionality in Term-Document Matrix: The term-document matrix created with CountVectorizer contains a very high number of dimensions due to the inclusion of all tokens as individual features. This makes computations on the matrix computationally intensive and may include many irrelevant or low-importance terms. Dimensionality reduction techniques like TF-IDF or Latent Semantic Analysis (LSA) could be applied here to prioritize more meaningful words and reduce noise. Another improvement is to set a minimum frequency threshold to remove less common terms, which will not only make the matrix more manageable but also focus on more informative features.\n",
    "\n",
    "Handling Missing Values: In the lab, rows with missing values are simply dropped, which can lead to data loss and potentially alter the dataset’s representation. A more efficient approach would involve filling missing values using appropriate imputation methods, such as replacing missing numerical values with the mean or median and filling categorical missing values with the mode. This would retain a larger portion of the dataset and ensure that analyses and models have sufficient information without sacrificing data quality.\n",
    "\n",
    "Sampling for Data Subsetting: The lab’s random sampling approach is effective for reducing dataset size but may inadvertently skew the representation of categories, especially when dealing with imbalanced data. Stratified sampling, which ensures that each category is proportionally represented, could offer a more balanced and accurate subset for analysis. By maintaining a representative distribution across the sample, stratified sampling enhances the validity of insights drawn from the subset, making it better suited for generalization and classification tasks.\n",
    "\n",
    "Visualization of High-Dimensional Data: Visualizing large datasets and term distributions can be computationally expensive and difficult to interpret in high-dimensional space. Dimensionality reduction techniques, such as PCA or t-SNE, could be applied to the term-document matrix to reduce complexity while retaining key patterns. Additionally, instead of visualizing individual terms, aggregating them into category-level term distributions could simplify the analysis, helping to reveal insights without overwhelming the visualization with noise. This approach makes visual interpretations clearer and more meaningful, facilitating a deeper understanding of category relationships within the data."
   ]
  },
  {
   "cell_type": "code",
   "execution_count": null,
   "metadata": {},
   "outputs": [],
   "source": []
  }
 ],
 "metadata": {
  "kernelspec": {
   "display_name": "Python 3 (ipykernel)",
   "language": "python",
   "name": "python3"
  },
  "language_info": {
   "codemirror_mode": {
    "name": "ipython",
    "version": 3
   },
   "file_extension": ".py",
   "mimetype": "text/x-python",
   "name": "python",
   "nbconvert_exporter": "python",
   "pygments_lexer": "ipython3",
   "version": "3.11.7"
  }
 },
 "nbformat": 4,
 "nbformat_minor": 4
}
